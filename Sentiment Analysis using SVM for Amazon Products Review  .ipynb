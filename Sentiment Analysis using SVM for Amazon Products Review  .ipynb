{
 "cells": [
  {
   "cell_type": "markdown",
   "id": "f89145a1",
   "metadata": {},
   "source": [
    "# Dataset details:\n",
    "Dataset Title = Ratings and reviews for Movies/TV products from Amazon\n",
    "\n",
    "Number of reviews = 3,410,019\n",
    "\n",
    "Date range = 1997-12-02 to 2018-10-01\n",
    "\n",
    "Size of dataset = 791MB\n",
    "\n",
    "source: https://nijianmo.github.io/amazon/index.html"
   ]
  },
  {
   "cell_type": "code",
   "execution_count": 1,
   "id": "59ce759c",
   "metadata": {},
   "outputs": [],
   "source": [
    "import pandas as pd\n",
    "import numpy as np\n",
    "import matplotlib.pyplot as plt\n",
    "import seaborn as sns"
   ]
  },
  {
   "cell_type": "code",
   "execution_count": 2,
   "id": "4cd3af94",
   "metadata": {},
   "outputs": [],
   "source": [
    "df = pd.read_json(\"Movies_and_TV_5.json.gz\", compression='gzip', lines=True)"
   ]
  },
  {
   "cell_type": "code",
   "execution_count": 3,
   "id": "8737dc5b",
   "metadata": {},
   "outputs": [],
   "source": [
    "df_org = df \n",
    "# Save raw data backup copy to df_org"
   ]
  },
  {
   "cell_type": "code",
   "execution_count": 4,
   "id": "6a3fce2c",
   "metadata": {},
   "outputs": [
    {
     "data": {
      "text/html": [
       "<div>\n",
       "<style scoped>\n",
       "    .dataframe tbody tr th:only-of-type {\n",
       "        vertical-align: middle;\n",
       "    }\n",
       "\n",
       "    .dataframe tbody tr th {\n",
       "        vertical-align: top;\n",
       "    }\n",
       "\n",
       "    .dataframe thead th {\n",
       "        text-align: right;\n",
       "    }\n",
       "</style>\n",
       "<table border=\"1\" class=\"dataframe\">\n",
       "  <thead>\n",
       "    <tr style=\"text-align: right;\">\n",
       "      <th></th>\n",
       "      <th>overall</th>\n",
       "      <th>verified</th>\n",
       "      <th>reviewTime</th>\n",
       "      <th>reviewerID</th>\n",
       "      <th>asin</th>\n",
       "      <th>style</th>\n",
       "      <th>reviewerName</th>\n",
       "      <th>reviewText</th>\n",
       "      <th>summary</th>\n",
       "      <th>unixReviewTime</th>\n",
       "      <th>vote</th>\n",
       "      <th>image</th>\n",
       "    </tr>\n",
       "  </thead>\n",
       "  <tbody>\n",
       "    <tr>\n",
       "      <th>0</th>\n",
       "      <td>5</td>\n",
       "      <td>True</td>\n",
       "      <td>11 9, 2012</td>\n",
       "      <td>A2M1CU2IRZG0K9</td>\n",
       "      <td>0005089549</td>\n",
       "      <td>{'Format:': ' VHS Tape'}</td>\n",
       "      <td>Terri</td>\n",
       "      <td>So sorry I didn't purchase this years ago when...</td>\n",
       "      <td>Amazing!</td>\n",
       "      <td>1352419200</td>\n",
       "      <td>NaN</td>\n",
       "      <td>NaN</td>\n",
       "    </tr>\n",
       "    <tr>\n",
       "      <th>1</th>\n",
       "      <td>5</td>\n",
       "      <td>True</td>\n",
       "      <td>12 30, 2011</td>\n",
       "      <td>AFTUJYISOFHY6</td>\n",
       "      <td>0005089549</td>\n",
       "      <td>{'Format:': ' VHS Tape'}</td>\n",
       "      <td>Melissa D. Abercrombie</td>\n",
       "      <td>Believe me when I tell you that you will recei...</td>\n",
       "      <td>Great Gospel VHS of the Cathedrals!</td>\n",
       "      <td>1325203200</td>\n",
       "      <td>NaN</td>\n",
       "      <td>NaN</td>\n",
       "    </tr>\n",
       "    <tr>\n",
       "      <th>2</th>\n",
       "      <td>5</td>\n",
       "      <td>True</td>\n",
       "      <td>04 21, 2005</td>\n",
       "      <td>A3JVF9Y53BEOGC</td>\n",
       "      <td>000503860X</td>\n",
       "      <td>{'Format:': ' DVD'}</td>\n",
       "      <td>Anthony Thompson</td>\n",
       "      <td>I have seen X live many times, both in the ear...</td>\n",
       "      <td>A great document of a great band</td>\n",
       "      <td>1114041600</td>\n",
       "      <td>11</td>\n",
       "      <td>NaN</td>\n",
       "    </tr>\n",
       "    <tr>\n",
       "      <th>3</th>\n",
       "      <td>5</td>\n",
       "      <td>True</td>\n",
       "      <td>04 6, 2005</td>\n",
       "      <td>A12VPEOEZS1KTC</td>\n",
       "      <td>000503860X</td>\n",
       "      <td>{'Format:': ' DVD'}</td>\n",
       "      <td>JadeRain</td>\n",
       "      <td>I was so excited for this!  Finally, a live co...</td>\n",
       "      <td>YES!!  X LIVE!!</td>\n",
       "      <td>1112745600</td>\n",
       "      <td>5</td>\n",
       "      <td>NaN</td>\n",
       "    </tr>\n",
       "    <tr>\n",
       "      <th>4</th>\n",
       "      <td>5</td>\n",
       "      <td>True</td>\n",
       "      <td>12 3, 2010</td>\n",
       "      <td>ATLZNVLYKP9AZ</td>\n",
       "      <td>000503860X</td>\n",
       "      <td>{'Format:': ' DVD'}</td>\n",
       "      <td>T. Fisher</td>\n",
       "      <td>X is one of the best punk bands ever. I don't ...</td>\n",
       "      <td>X have still got it</td>\n",
       "      <td>1291334400</td>\n",
       "      <td>5</td>\n",
       "      <td>NaN</td>\n",
       "    </tr>\n",
       "  </tbody>\n",
       "</table>\n",
       "</div>"
      ],
      "text/plain": [
       "   overall  verified   reviewTime      reviewerID        asin  \\\n",
       "0        5      True   11 9, 2012  A2M1CU2IRZG0K9  0005089549   \n",
       "1        5      True  12 30, 2011   AFTUJYISOFHY6  0005089549   \n",
       "2        5      True  04 21, 2005  A3JVF9Y53BEOGC  000503860X   \n",
       "3        5      True   04 6, 2005  A12VPEOEZS1KTC  000503860X   \n",
       "4        5      True   12 3, 2010   ATLZNVLYKP9AZ  000503860X   \n",
       "\n",
       "                      style            reviewerName  \\\n",
       "0  {'Format:': ' VHS Tape'}                   Terri   \n",
       "1  {'Format:': ' VHS Tape'}  Melissa D. Abercrombie   \n",
       "2       {'Format:': ' DVD'}        Anthony Thompson   \n",
       "3       {'Format:': ' DVD'}                JadeRain   \n",
       "4       {'Format:': ' DVD'}               T. Fisher   \n",
       "\n",
       "                                          reviewText  \\\n",
       "0  So sorry I didn't purchase this years ago when...   \n",
       "1  Believe me when I tell you that you will recei...   \n",
       "2  I have seen X live many times, both in the ear...   \n",
       "3  I was so excited for this!  Finally, a live co...   \n",
       "4  X is one of the best punk bands ever. I don't ...   \n",
       "\n",
       "                               summary  unixReviewTime vote image  \n",
       "0                             Amazing!      1352419200  NaN   NaN  \n",
       "1  Great Gospel VHS of the Cathedrals!      1325203200  NaN   NaN  \n",
       "2     A great document of a great band      1114041600   11   NaN  \n",
       "3                      YES!!  X LIVE!!      1112745600    5   NaN  \n",
       "4                  X have still got it      1291334400    5   NaN  "
      ]
     },
     "execution_count": 4,
     "metadata": {},
     "output_type": "execute_result"
    }
   ],
   "source": [
    "df.head()"
   ]
  },
  {
   "cell_type": "code",
   "execution_count": 5,
   "id": "a8d3f0de",
   "metadata": {},
   "outputs": [
    {
     "name": "stdout",
     "output_type": "stream",
     "text": [
      "<class 'pandas.core.frame.DataFrame'>\n",
      "RangeIndex: 3410019 entries, 0 to 3410018\n",
      "Data columns (total 12 columns):\n",
      " #   Column          Dtype \n",
      "---  ------          ----- \n",
      " 0   overall         int64 \n",
      " 1   verified        bool  \n",
      " 2   reviewTime      object\n",
      " 3   reviewerID      object\n",
      " 4   asin            object\n",
      " 5   style           object\n",
      " 6   reviewerName    object\n",
      " 7   reviewText      object\n",
      " 8   summary         object\n",
      " 9   unixReviewTime  int64 \n",
      " 10  vote            object\n",
      " 11  image           object\n",
      "dtypes: bool(1), int64(2), object(9)\n",
      "memory usage: 289.4+ MB\n"
     ]
    }
   ],
   "source": [
    "df.info()"
   ]
  },
  {
   "cell_type": "code",
   "execution_count": 6,
   "id": "4ef475f4",
   "metadata": {},
   "outputs": [
    {
     "data": {
      "text/plain": [
       "Index(['overall', 'verified', 'reviewTime', 'reviewerID', 'asin', 'style',\n",
       "       'reviewerName', 'reviewText', 'summary', 'unixReviewTime', 'vote',\n",
       "       'image'],\n",
       "      dtype='object')"
      ]
     },
     "execution_count": 6,
     "metadata": {},
     "output_type": "execute_result"
    }
   ],
   "source": [
    "df.columns"
   ]
  },
  {
   "cell_type": "code",
   "execution_count": 7,
   "id": "9d50ea31",
   "metadata": {},
   "outputs": [],
   "source": [
    "# For aesthetics purposes\n",
    "df = df.rename(columns={'overall':'rating','asin':'productID','style':'productType'})"
   ]
  },
  {
   "cell_type": "markdown",
   "id": "8ca35f57",
   "metadata": {},
   "source": [
    "# Data Cleaning"
   ]
  },
  {
   "cell_type": "code",
   "execution_count": 8,
   "id": "ae8103f6",
   "metadata": {},
   "outputs": [
    {
     "data": {
      "text/plain": [
       "rating                  0\n",
       "verified                0\n",
       "reviewTime              0\n",
       "reviewerID              0\n",
       "productID               0\n",
       "productType        174207\n",
       "reviewerName           82\n",
       "reviewText           1581\n",
       "summary               640\n",
       "unixReviewTime          0\n",
       "vote              2768010\n",
       "image             3403048\n",
       "dtype: int64"
      ]
     },
     "execution_count": 8,
     "metadata": {},
     "output_type": "execute_result"
    }
   ],
   "source": [
    "# Check for null entries\n",
    "df.isnull().sum()\n",
    "# Will be dropping null for column 'styles' ~5% of data later"
   ]
  },
  {
   "cell_type": "code",
   "execution_count": 9,
   "id": "c4b02347",
   "metadata": {},
   "outputs": [
    {
     "data": {
      "text/plain": [
       "{'Format:': ' DVD'}                                1645586\n",
       "{'Format:': ' Amazon Video'}                       1027966\n",
       "{'Format:': ' Blu-ray'}                             335181\n",
       "{'Format:': ' Prime Video'}                         158950\n",
       "{'Format:': ' VHS Tape'}                             61821\n",
       "{'Format:': ' HD DVD'}                                1475\n",
       "{'Format:': ' DVD-R'}                                 1428\n",
       "{'Format:': ' Theatrical Release'}                     801\n",
       "{'Format:': ' Audio CD'}                               657\n",
       "{'Format:': ' DVD-ROM'}                                474\n",
       "{'Format:': ' UMD for PSP'}                            352\n",
       "{'Format:': ' Amazon Instant Video'}                   250\n",
       "{'Format:': ' Electronics'}                            116\n",
       "{'Format:': ' Hardcover'}                              107\n",
       "{'Format:': ' Interactive DVD'}                         97\n",
       "{'Format:': ' Paperback'}                               86\n",
       "{'Format:': ' Laser Disc'}                              80\n",
       "{'Format:': ' DVD Audio'}                               55\n",
       "{'Format:': ' Toy'}                                     36\n",
       "{'Format:': ' MP3 Music'}                               33\n",
       "{'Format:': ' Kindle Edition'}                          32\n",
       "{'Format:': ' Unknown Binding'}                         32\n",
       "{'Format:': ' CD-ROM'}                                  26\n",
       "{'Format:': ' Misc.'}                                   20\n",
       "{'Format:': ' Staple Bound'}                            19\n",
       "{'Size:': ' unknown'}                                   18\n",
       "{'Format:': ' Video CD'}                                14\n",
       "{'Format:': ' Wireless Phone Accessory'}                12\n",
       "{'Format:': ' Kindle Edition with Audio/Video'}         11\n",
       "{'Format:': ' Grocery'}                                  9\n",
       "{'Format:': ' Kitchen'}                                  8\n",
       "{'Format:': ' Audio Cassette'}                           8\n",
       "{'Size:': ' Dolphins'}                                   8\n",
       "{'Format:': ' Office Product'}                           7\n",
       "{'Format:': ' Vinyl'}                                    5\n",
       "{'Format:': ' Mass Market Paperback'}                    5\n",
       "{'Shape:': ' Hipcentric'}                                5\n",
       "{'Format:': ' Videotape'}                                5\n",
       "{'Format:': ' Audible Audiobook'}                        3\n",
       "{'Format:': ' Video Game'}                               3\n",
       "{'Shape:': ' Omnicentric'}                               2\n",
       "{'Format:': ' MiniDisc'}                                 2\n",
       "{'Format:': ' Misc. Supplies'}                           2\n",
       "{'Format:': ' Unbound'}                                  1\n",
       "{'Format:': ' S-VHS'}                                    1\n",
       "{'Format:': ' Product Bundle'}                           1\n",
       "{'Format:': ' MP3 CD'}                                   1\n",
       "{'Format:': ' Accessory'}                                1\n",
       "Name: productType, dtype: int64"
      ]
     },
     "execution_count": 9,
     "metadata": {},
     "output_type": "execute_result"
    }
   ],
   "source": [
    "df['productType'].value_counts() "
   ]
  },
  {
   "cell_type": "code",
   "execution_count": 10,
   "id": "d20ce62f",
   "metadata": {},
   "outputs": [
    {
     "data": {
      "text/plain": [
       "0          So sorry I didn't purchase this years ago when...\n",
       "1          Believe me when I tell you that you will recei...\n",
       "2          I have seen X live many times, both in the ear...\n",
       "3          I was so excited for this!  Finally, a live co...\n",
       "4          X is one of the best punk bands ever. I don't ...\n",
       "                                 ...                        \n",
       "3410014    The singing parts are very good as expected fr...\n",
       "3410015    This recording of the 2015 production by the M...\n",
       "3410016    I do not wish to write a review about this rel...\n",
       "3410017                                       It was a gift.\n",
       "3410018    This Otello originates from the Salzburg Festi...\n",
       "Name: reviewText, Length: 3410019, dtype: object"
      ]
     },
     "execution_count": 10,
     "metadata": {},
     "output_type": "execute_result"
    }
   ],
   "source": [
    "df['reviewText']"
   ]
  },
  {
   "cell_type": "code",
   "execution_count": 11,
   "id": "6f3e7f29",
   "metadata": {},
   "outputs": [
    {
     "data": {
      "text/plain": [
       "\"So sorry I didn't purchase this years ago when it first came out!!  This is very good and entertaining!  We absolutely loved it and anticipate seeing it repeatedly.  We actually wore out the cassette years back, so we also purchased this same product on cd.  Best purchase we made out of all!  Would purchase on dvd if we could find one.\""
      ]
     },
     "execution_count": 11,
     "metadata": {},
     "output_type": "execute_result"
    }
   ],
   "source": [
    "df['reviewText'][0]"
   ]
  },
  {
   "cell_type": "code",
   "execution_count": 12,
   "id": "17b811dc",
   "metadata": {},
   "outputs": [],
   "source": [
    "# Drop null values from these columns\n",
    "df = df.dropna(subset=['productType','reviewerName', 'reviewText', 'summary'])"
   ]
  },
  {
   "cell_type": "code",
   "execution_count": 13,
   "id": "834d5b25",
   "metadata": {},
   "outputs": [],
   "source": [
    "# Drop these columns\n",
    "df.drop(['vote','image','unixReviewTime'],axis=1,inplace=True)"
   ]
  },
  {
   "cell_type": "code",
   "execution_count": 14,
   "id": "8cc4c56a",
   "metadata": {},
   "outputs": [
    {
     "data": {
      "text/plain": [
       "rating          0\n",
       "verified        0\n",
       "reviewTime      0\n",
       "reviewerID      0\n",
       "productID       0\n",
       "productType     0\n",
       "reviewerName    0\n",
       "reviewText      0\n",
       "summary         0\n",
       "dtype: int64"
      ]
     },
     "execution_count": 14,
     "metadata": {},
     "output_type": "execute_result"
    }
   ],
   "source": [
    "# Check if data is cleaned\n",
    "df.isnull().sum()"
   ]
  },
  {
   "cell_type": "code",
   "execution_count": 15,
   "id": "014f27cb",
   "metadata": {},
   "outputs": [],
   "source": [
    "duplicated_reviews = df[df.duplicated(['reviewText'], keep=False)]"
   ]
  },
  {
   "cell_type": "code",
   "execution_count": 16,
   "id": "ba90dc5b",
   "metadata": {},
   "outputs": [
    {
     "name": "stdout",
     "output_type": "stream",
     "text": [
      "<class 'pandas.core.frame.DataFrame'>\n",
      "Int64Index: 868955 entries, 29 to 3410018\n",
      "Data columns (total 9 columns):\n",
      " #   Column        Non-Null Count   Dtype \n",
      "---  ------        --------------   ----- \n",
      " 0   rating        868955 non-null  int64 \n",
      " 1   verified      868955 non-null  bool  \n",
      " 2   reviewTime    868955 non-null  object\n",
      " 3   reviewerID    868955 non-null  object\n",
      " 4   productID     868955 non-null  object\n",
      " 5   productType   868955 non-null  object\n",
      " 6   reviewerName  868955 non-null  object\n",
      " 7   reviewText    868955 non-null  object\n",
      " 8   summary       868955 non-null  object\n",
      "dtypes: bool(1), int64(1), object(7)\n",
      "memory usage: 60.5+ MB\n"
     ]
    }
   ],
   "source": [
    "duplicated_reviews.info()\n",
    "# We have about 860k duplicates of text review\n",
    "# lets remove them, which is about 25% of the dataset"
   ]
  },
  {
   "cell_type": "code",
   "execution_count": 17,
   "id": "3032fbac",
   "metadata": {},
   "outputs": [],
   "source": [
    "df = df.drop_duplicates(subset=['reviewText'])"
   ]
  },
  {
   "cell_type": "code",
   "execution_count": 18,
   "id": "fdc74340",
   "metadata": {},
   "outputs": [
    {
     "name": "stdout",
     "output_type": "stream",
     "text": [
      "<class 'pandas.core.frame.DataFrame'>\n",
      "Int64Index: 2560768 entries, 0 to 3410016\n",
      "Data columns (total 9 columns):\n",
      " #   Column        Dtype \n",
      "---  ------        ----- \n",
      " 0   rating        int64 \n",
      " 1   verified      bool  \n",
      " 2   reviewTime    object\n",
      " 3   reviewerID    object\n",
      " 4   productID     object\n",
      " 5   productType   object\n",
      " 6   reviewerName  object\n",
      " 7   reviewText    object\n",
      " 8   summary       object\n",
      "dtypes: bool(1), int64(1), object(7)\n",
      "memory usage: 178.3+ MB\n"
     ]
    }
   ],
   "source": [
    "df.info()\n",
    "# We still have 2.5 million entries after removing 25% of data"
   ]
  },
  {
   "cell_type": "markdown",
   "id": "d353b038",
   "metadata": {},
   "source": [
    "# Using a subset of the dataset"
   ]
  },
  {
   "cell_type": "code",
   "execution_count": 19,
   "id": "9b9eb6a0",
   "metadata": {},
   "outputs": [
    {
     "data": {
      "text/plain": [
       "5    1438318\n",
       "4     527109\n",
       "3     286147\n",
       "1     162891\n",
       "2     146303\n",
       "Name: rating, dtype: int64"
      ]
     },
     "execution_count": 19,
     "metadata": {},
     "output_type": "execute_result"
    }
   ],
   "source": [
    "df['rating'].value_counts() \n",
    "# Ratings 4 & 5 will be considered as pos review \n",
    "# Ratings 1 & 2 will be considered as neg review\n",
    "# Will make the number of pos & neg reviews equal"
   ]
  },
  {
   "cell_type": "code",
   "execution_count": 20,
   "id": "55d444f7",
   "metadata": {},
   "outputs": [],
   "source": [
    "df_temp = df.loc[(df['rating'] == 2) | (df['rating'] == 1)]"
   ]
  },
  {
   "cell_type": "code",
   "execution_count": 21,
   "id": "593574fd",
   "metadata": {},
   "outputs": [
    {
     "name": "stdout",
     "output_type": "stream",
     "text": [
      "<class 'pandas.core.frame.DataFrame'>\n",
      "Int64Index: 309194 entries, 16 to 3409975\n",
      "Data columns (total 9 columns):\n",
      " #   Column        Non-Null Count   Dtype \n",
      "---  ------        --------------   ----- \n",
      " 0   rating        309194 non-null  int64 \n",
      " 1   verified      309194 non-null  bool  \n",
      " 2   reviewTime    309194 non-null  object\n",
      " 3   reviewerID    309194 non-null  object\n",
      " 4   productID     309194 non-null  object\n",
      " 5   productType   309194 non-null  object\n",
      " 6   reviewerName  309194 non-null  object\n",
      " 7   reviewText    309194 non-null  object\n",
      " 8   summary       309194 non-null  object\n",
      "dtypes: bool(1), int64(1), object(7)\n",
      "memory usage: 21.5+ MB\n"
     ]
    }
   ],
   "source": [
    "df_temp.info() # We have 309194 negative reviews"
   ]
  },
  {
   "cell_type": "code",
   "execution_count": 22,
   "id": "7668fa3c",
   "metadata": {},
   "outputs": [],
   "source": [
    "df_temp2 = df.loc[(df['rating'] == 4) | (df['rating'] == 5)]"
   ]
  },
  {
   "cell_type": "code",
   "execution_count": 23,
   "id": "e5a39fcd",
   "metadata": {},
   "outputs": [],
   "source": [
    "df_temp2 = df_temp2[0:309194]"
   ]
  },
  {
   "cell_type": "code",
   "execution_count": 24,
   "id": "cce84a8a",
   "metadata": {},
   "outputs": [
    {
     "name": "stdout",
     "output_type": "stream",
     "text": [
      "<class 'pandas.core.frame.DataFrame'>\n",
      "Int64Index: 309194 entries, 0 to 446398\n",
      "Data columns (total 9 columns):\n",
      " #   Column        Non-Null Count   Dtype \n",
      "---  ------        --------------   ----- \n",
      " 0   rating        309194 non-null  int64 \n",
      " 1   verified      309194 non-null  bool  \n",
      " 2   reviewTime    309194 non-null  object\n",
      " 3   reviewerID    309194 non-null  object\n",
      " 4   productID     309194 non-null  object\n",
      " 5   productType   309194 non-null  object\n",
      " 6   reviewerName  309194 non-null  object\n",
      " 7   reviewText    309194 non-null  object\n",
      " 8   summary       309194 non-null  object\n",
      "dtypes: bool(1), int64(1), object(7)\n",
      "memory usage: 21.5+ MB\n"
     ]
    }
   ],
   "source": [
    "df_temp2.info() # We now have 309194 positive reviews"
   ]
  },
  {
   "cell_type": "code",
   "execution_count": 25,
   "id": "f0696f04",
   "metadata": {},
   "outputs": [],
   "source": [
    "df = pd.concat([df_temp, df_temp2], ignore_index=True)"
   ]
  },
  {
   "cell_type": "code",
   "execution_count": 26,
   "id": "aa27101e",
   "metadata": {},
   "outputs": [
    {
     "data": {
      "text/plain": [
       "5    233136\n",
       "1    162891\n",
       "2    146303\n",
       "4     76058\n",
       "Name: rating, dtype: int64"
      ]
     },
     "execution_count": 26,
     "metadata": {},
     "output_type": "execute_result"
    }
   ],
   "source": [
    "df['rating'].value_counts()"
   ]
  },
  {
   "cell_type": "markdown",
   "id": "d2d5c783",
   "metadata": {},
   "source": [
    "# Changing reviewTime to datetime object"
   ]
  },
  {
   "cell_type": "code",
   "execution_count": 27,
   "id": "1a3ae86c",
   "metadata": {},
   "outputs": [
    {
     "data": {
      "text/plain": [
       "str"
      ]
     },
     "execution_count": 27,
     "metadata": {},
     "output_type": "execute_result"
    }
   ],
   "source": [
    "type(df['reviewTime'][0]) \n",
    "# time in str format, lets change it to datetime object next"
   ]
  },
  {
   "cell_type": "code",
   "execution_count": 28,
   "id": "8deb15ed",
   "metadata": {},
   "outputs": [],
   "source": [
    "df['reviewTime'] = pd.to_datetime(df['reviewTime'], format='%m %d, %Y')"
   ]
  },
  {
   "cell_type": "code",
   "execution_count": 29,
   "id": "979a601a",
   "metadata": {},
   "outputs": [
    {
     "data": {
      "text/plain": [
       "pandas._libs.tslibs.timestamps.Timestamp"
      ]
     },
     "execution_count": 29,
     "metadata": {},
     "output_type": "execute_result"
    }
   ],
   "source": [
    "type(df['reviewTime'][0])"
   ]
  },
  {
   "cell_type": "code",
   "execution_count": 30,
   "id": "9472f0cd",
   "metadata": {},
   "outputs": [
    {
     "name": "stderr",
     "output_type": "stream",
     "text": [
      "C:\\Users\\eugen\\AppData\\Local\\Temp\\ipykernel_31592\\3300267488.py:1: FutureWarning: Treating datetime data as categorical rather than numeric in `.describe` is deprecated and will be removed in a future version of pandas. Specify `datetime_is_numeric=True` to silence this warning and adopt the future behavior now.\n",
      "  df['reviewTime'].describe()\n"
     ]
    },
    {
     "data": {
      "text/plain": [
       "count                  618388\n",
       "unique                   7257\n",
       "top       2015-02-20 00:00:00\n",
       "freq                     1179\n",
       "first     1997-12-02 00:00:00\n",
       "last      2018-09-27 00:00:00\n",
       "Name: reviewTime, dtype: object"
      ]
     },
     "execution_count": 30,
     "metadata": {},
     "output_type": "execute_result"
    }
   ],
   "source": [
    "df['reviewTime'].describe()"
   ]
  },
  {
   "cell_type": "code",
   "execution_count": 31,
   "id": "3f8c7358",
   "metadata": {},
   "outputs": [],
   "source": [
    "df = df.reset_index(drop=True)"
   ]
  },
  {
   "cell_type": "code",
   "execution_count": 32,
   "id": "76271a3e",
   "metadata": {},
   "outputs": [],
   "source": [
    "# Clone to another df called df1, will be setting index to date for this df1\n",
    "# Now df will be a backup and will be working on df1 here onwards\n",
    "# Note that we still have df_org as the raw data backup copy\n",
    "df1 = df"
   ]
  },
  {
   "cell_type": "code",
   "execution_count": 33,
   "id": "61e8e0ed",
   "metadata": {},
   "outputs": [],
   "source": [
    "df1 = df1.set_index('reviewTime')"
   ]
  },
  {
   "cell_type": "code",
   "execution_count": 34,
   "id": "5d28e3c0",
   "metadata": {},
   "outputs": [],
   "source": [
    "df1 = df1.sort_index()"
   ]
  },
  {
   "cell_type": "code",
   "execution_count": 35,
   "id": "5e06f813",
   "metadata": {},
   "outputs": [
    {
     "data": {
      "text/html": [
       "<div>\n",
       "<style scoped>\n",
       "    .dataframe tbody tr th:only-of-type {\n",
       "        vertical-align: middle;\n",
       "    }\n",
       "\n",
       "    .dataframe tbody tr th {\n",
       "        vertical-align: top;\n",
       "    }\n",
       "\n",
       "    .dataframe thead th {\n",
       "        text-align: right;\n",
       "    }\n",
       "</style>\n",
       "<table border=\"1\" class=\"dataframe\">\n",
       "  <thead>\n",
       "    <tr style=\"text-align: right;\">\n",
       "      <th></th>\n",
       "      <th>rating</th>\n",
       "      <th>verified</th>\n",
       "      <th>reviewerID</th>\n",
       "      <th>productID</th>\n",
       "      <th>productType</th>\n",
       "      <th>reviewerName</th>\n",
       "      <th>reviewText</th>\n",
       "      <th>summary</th>\n",
       "    </tr>\n",
       "    <tr>\n",
       "      <th>reviewTime</th>\n",
       "      <th></th>\n",
       "      <th></th>\n",
       "      <th></th>\n",
       "      <th></th>\n",
       "      <th></th>\n",
       "      <th></th>\n",
       "      <th></th>\n",
       "      <th></th>\n",
       "    </tr>\n",
       "  </thead>\n",
       "  <tbody>\n",
       "    <tr>\n",
       "      <th>1997-12-02</th>\n",
       "      <td>5</td>\n",
       "      <td>False</td>\n",
       "      <td>A28BJ12568I17K</td>\n",
       "      <td>6304123523</td>\n",
       "      <td>{'Format:': ' VHS Tape'}</td>\n",
       "      <td>Mire Uno</td>\n",
       "      <td>This TV animation series opened up many disput...</td>\n",
       "      <td>It arose \"Evangelion Phenomina\" in Japan</td>\n",
       "    </tr>\n",
       "    <tr>\n",
       "      <th>1998-01-03</th>\n",
       "      <td>4</td>\n",
       "      <td>False</td>\n",
       "      <td>A30Q8X8B1S3GGT</td>\n",
       "      <td>6300215695</td>\n",
       "      <td>{'Format:': ' VHS Tape'}</td>\n",
       "      <td>Mark Savary</td>\n",
       "      <td>Here's a semi-remake of \"Holiday Inn\" (1942), ...</td>\n",
       "      <td>Holiday favorite with Bing Crosby and Danny Kaye!</td>\n",
       "    </tr>\n",
       "    <tr>\n",
       "      <th>1998-02-05</th>\n",
       "      <td>5</td>\n",
       "      <td>False</td>\n",
       "      <td>A28BJ12568I17K</td>\n",
       "      <td>6303118240</td>\n",
       "      <td>{'Format:': ' VHS Tape'}</td>\n",
       "      <td>Mire Uno</td>\n",
       "      <td>Animation by Hayao Miyazaki and one of my favo...</td>\n",
       "      <td>Nostalgy for Japan in 50s</td>\n",
       "    </tr>\n",
       "    <tr>\n",
       "      <th>1998-02-24</th>\n",
       "      <td>5</td>\n",
       "      <td>False</td>\n",
       "      <td>A28BJ12568I17K</td>\n",
       "      <td>6303481264</td>\n",
       "      <td>{'Format:': ' VHS Tape'}</td>\n",
       "      <td>Mire Uno</td>\n",
       "      <td>Wings of Honneamise is the first theater versi...</td>\n",
       "      <td>Origin of Evangelion. GAINAX's first animation...</td>\n",
       "    </tr>\n",
       "    <tr>\n",
       "      <th>1998-02-24</th>\n",
       "      <td>5</td>\n",
       "      <td>False</td>\n",
       "      <td>A28BJ12568I17K</td>\n",
       "      <td>6304164084</td>\n",
       "      <td>{'Format:': ' VHS Tape'}</td>\n",
       "      <td>Mire Uno</td>\n",
       "      <td>Japanese title is Macross and quite long TV an...</td>\n",
       "      <td>Macross: well loved saga in Japan</td>\n",
       "    </tr>\n",
       "    <tr>\n",
       "      <th>...</th>\n",
       "      <td>...</td>\n",
       "      <td>...</td>\n",
       "      <td>...</td>\n",
       "      <td>...</td>\n",
       "      <td>...</td>\n",
       "      <td>...</td>\n",
       "      <td>...</td>\n",
       "      <td>...</td>\n",
       "    </tr>\n",
       "    <tr>\n",
       "      <th>2018-09-26</th>\n",
       "      <td>2</td>\n",
       "      <td>True</td>\n",
       "      <td>A1255OD4TD7RO9</td>\n",
       "      <td>B01DLVAHQG</td>\n",
       "      <td>{'Format:': ' DVD'}</td>\n",
       "      <td>bardo</td>\n",
       "      <td>Disappointing interpretation of Richard III by...</td>\n",
       "      <td>Disappointing; not worth buying.</td>\n",
       "    </tr>\n",
       "    <tr>\n",
       "      <th>2018-09-26</th>\n",
       "      <td>1</td>\n",
       "      <td>True</td>\n",
       "      <td>A19WMFLV99G7ML</td>\n",
       "      <td>B01GU82O9U</td>\n",
       "      <td>{'Format:': ' DVD'}</td>\n",
       "      <td>franktorres</td>\n",
       "      <td>this item was stollen</td>\n",
       "      <td>The tool of off my door step</td>\n",
       "    </tr>\n",
       "    <tr>\n",
       "      <th>2018-09-27</th>\n",
       "      <td>1</td>\n",
       "      <td>True</td>\n",
       "      <td>A33KOM5ACSIMFL</td>\n",
       "      <td>B01HDHA98A</td>\n",
       "      <td>{'Format:': ' DVD'}</td>\n",
       "      <td>tammy williams</td>\n",
       "      <td>Nothing even remotely scary about a werewolf i...</td>\n",
       "      <td>YIKES!!</td>\n",
       "    </tr>\n",
       "    <tr>\n",
       "      <th>2018-09-27</th>\n",
       "      <td>2</td>\n",
       "      <td>False</td>\n",
       "      <td>A3Q5S5SAN4GF3B</td>\n",
       "      <td>B01HC3880G</td>\n",
       "      <td>{'Format:': ' Prime Video'}</td>\n",
       "      <td>Lizzy C</td>\n",
       "      <td>I saw the first one and I loved it. I watched ...</td>\n",
       "      <td>I could have had a Mocha Latte for $3.99</td>\n",
       "    </tr>\n",
       "    <tr>\n",
       "      <th>2018-09-27</th>\n",
       "      <td>1</td>\n",
       "      <td>True</td>\n",
       "      <td>A2GP4LELY705YF</td>\n",
       "      <td>B01HC3880G</td>\n",
       "      <td>{'Format:': ' Prime Video'}</td>\n",
       "      <td>Terry Cadwallader</td>\n",
       "      <td>The movie was slapped together, script &amp; actin...</td>\n",
       "      <td>script &amp; acting were terrible!</td>\n",
       "    </tr>\n",
       "  </tbody>\n",
       "</table>\n",
       "<p>618388 rows × 8 columns</p>\n",
       "</div>"
      ],
      "text/plain": [
       "            rating  verified      reviewerID   productID  \\\n",
       "reviewTime                                                 \n",
       "1997-12-02       5     False  A28BJ12568I17K  6304123523   \n",
       "1998-01-03       4     False  A30Q8X8B1S3GGT  6300215695   \n",
       "1998-02-05       5     False  A28BJ12568I17K  6303118240   \n",
       "1998-02-24       5     False  A28BJ12568I17K  6303481264   \n",
       "1998-02-24       5     False  A28BJ12568I17K  6304164084   \n",
       "...            ...       ...             ...         ...   \n",
       "2018-09-26       2      True  A1255OD4TD7RO9  B01DLVAHQG   \n",
       "2018-09-26       1      True  A19WMFLV99G7ML  B01GU82O9U   \n",
       "2018-09-27       1      True  A33KOM5ACSIMFL  B01HDHA98A   \n",
       "2018-09-27       2     False  A3Q5S5SAN4GF3B  B01HC3880G   \n",
       "2018-09-27       1      True  A2GP4LELY705YF  B01HC3880G   \n",
       "\n",
       "                            productType       reviewerName  \\\n",
       "reviewTime                                                   \n",
       "1997-12-02     {'Format:': ' VHS Tape'}           Mire Uno   \n",
       "1998-01-03     {'Format:': ' VHS Tape'}        Mark Savary   \n",
       "1998-02-05     {'Format:': ' VHS Tape'}           Mire Uno   \n",
       "1998-02-24     {'Format:': ' VHS Tape'}           Mire Uno   \n",
       "1998-02-24     {'Format:': ' VHS Tape'}           Mire Uno   \n",
       "...                                 ...                ...   \n",
       "2018-09-26          {'Format:': ' DVD'}              bardo   \n",
       "2018-09-26          {'Format:': ' DVD'}        franktorres   \n",
       "2018-09-27          {'Format:': ' DVD'}     tammy williams   \n",
       "2018-09-27  {'Format:': ' Prime Video'}            Lizzy C   \n",
       "2018-09-27  {'Format:': ' Prime Video'}  Terry Cadwallader   \n",
       "\n",
       "                                                   reviewText  \\\n",
       "reviewTime                                                      \n",
       "1997-12-02  This TV animation series opened up many disput...   \n",
       "1998-01-03  Here's a semi-remake of \"Holiday Inn\" (1942), ...   \n",
       "1998-02-05  Animation by Hayao Miyazaki and one of my favo...   \n",
       "1998-02-24  Wings of Honneamise is the first theater versi...   \n",
       "1998-02-24  Japanese title is Macross and quite long TV an...   \n",
       "...                                                       ...   \n",
       "2018-09-26  Disappointing interpretation of Richard III by...   \n",
       "2018-09-26                              this item was stollen   \n",
       "2018-09-27  Nothing even remotely scary about a werewolf i...   \n",
       "2018-09-27  I saw the first one and I loved it. I watched ...   \n",
       "2018-09-27  The movie was slapped together, script & actin...   \n",
       "\n",
       "                                                      summary  \n",
       "reviewTime                                                     \n",
       "1997-12-02           It arose \"Evangelion Phenomina\" in Japan  \n",
       "1998-01-03  Holiday favorite with Bing Crosby and Danny Kaye!  \n",
       "1998-02-05                          Nostalgy for Japan in 50s  \n",
       "1998-02-24  Origin of Evangelion. GAINAX's first animation...  \n",
       "1998-02-24                  Macross: well loved saga in Japan  \n",
       "...                                                       ...  \n",
       "2018-09-26                   Disappointing; not worth buying.  \n",
       "2018-09-26                       The tool of off my door step  \n",
       "2018-09-27                                            YIKES!!  \n",
       "2018-09-27           I could have had a Mocha Latte for $3.99  \n",
       "2018-09-27                     script & acting were terrible!  \n",
       "\n",
       "[618388 rows x 8 columns]"
      ]
     },
     "execution_count": 35,
     "metadata": {},
     "output_type": "execute_result"
    }
   ],
   "source": [
    "df1"
   ]
  },
  {
   "cell_type": "markdown",
   "id": "49632048",
   "metadata": {},
   "source": [
    "# Exploratory Data Analysis"
   ]
  },
  {
   "cell_type": "code",
   "execution_count": 36,
   "id": "1e8a2683",
   "metadata": {},
   "outputs": [
    {
     "data": {
      "image/png": "[encoded data removed]",
      "text/plain": [
       "<Figure size 1000x600 with 1 Axes>"
      ]
     },
     "metadata": {},
     "output_type": "display_data"
    }
   ],
   "source": [
    "# Line plot to visualize the number of reviews per day across the datetime index\n",
    "df_count = df1.resample('D').count()\n",
    "df_count.plot(kind='line', figsize=(10, 6), legend=None, color='#00ace6')\n",
    "plt.xlabel('Date')\n",
    "plt.ylabel('Reviews per Day')\n",
    "plt.title('Daily reviews across time period')\n",
    "plt.show()"
   ]
  },
  {
   "cell_type": "code",
   "execution_count": 37,
   "id": "482a657e",
   "metadata": {},
   "outputs": [
    {
     "data": {
      "text/plain": [
       "1179"
      ]
     },
     "execution_count": 37,
     "metadata": {},
     "output_type": "execute_result"
    }
   ],
   "source": [
    "df_count['rating'].max()"
   ]
  },
  {
   "cell_type": "code",
   "execution_count": 38,
   "id": "de5cb9de",
   "metadata": {},
   "outputs": [
    {
     "name": "stdout",
     "output_type": "stream",
     "text": [
      "The highest number of reviews made in a day was 1179 reviews\n",
      "This occurred on 2015-02-20 00:00:00\n"
     ]
    }
   ],
   "source": [
    "most_reviews = df_count['rating'].max()\n",
    "date_most_reviews = df_count.index[df_count['rating'] == 1179]\n",
    "# Highest number of reviews made in a day was 6021 reviews\n",
    "print(f\"The highest number of reviews made in a day was {most_reviews} reviews\")\n",
    "print(f\"This occurred on {date_most_reviews[0]}\")"
   ]
  },
  {
   "cell_type": "code",
   "execution_count": 39,
   "id": "5ac766e5",
   "metadata": {},
   "outputs": [
    {
     "data": {
      "image/png": "[encoded data removed]",
      "text/plain": [
       "<Figure size 500x600 with 1 Axes>"
      ]
     },
     "metadata": {},
     "output_type": "display_data"
    }
   ],
   "source": [
    "# Barplot to visualize the ratings made by the customers\n",
    "plt.figure(figsize=(5,6))\n",
    "rating = df1['rating'].value_counts().sort_index(ascending=False)[::-1]\n",
    "total_count = len(df1)\n",
    "ax = rating.plot(kind='bar')\n",
    "for i,v in enumerate(rating):\n",
    "    percent = round((v/total_count)*100, 2)\n",
    "    ax.text(i-0.25, v+4000, str(percent) + '%')\n",
    "plt.xlabel('Ratings')\n",
    "plt.ylabel('Number of ratings')\n",
    "plt.xticks(rotation=0)  \n",
    "plt.show()"
   ]
  },
  {
   "cell_type": "code",
   "execution_count": 40,
   "id": "0113f3b1",
   "metadata": {},
   "outputs": [
    {
     "data": {
      "image/png": "[encoded data removed]",
      "text/plain": [
       "<Figure size 400x600 with 1 Axes>"
      ]
     },
     "metadata": {},
     "output_type": "display_data"
    }
   ],
   "source": [
    "# Barplot to visualize between the verified and not verified users\n",
    "plt.figure(figsize=(4,6))\n",
    "rating = df1['verified'].value_counts()\n",
    "total_count = len(df1)\n",
    "ax = rating.plot(kind='bar')\n",
    "for i,v in enumerate(rating):\n",
    "    percent = round((v/total_count)*100, 2)\n",
    "    ax.text(i-0.15, v+4000, str(percent) + '%')\n",
    "plt.xlabel('Verified')\n",
    "plt.xticks(rotation=0)\n",
    "plt.ylabel('Number of Users')\n",
    "plt.show()"
   ]
  },
  {
   "cell_type": "code",
   "execution_count": 41,
   "id": "a65d098a",
   "metadata": {},
   "outputs": [
    {
     "data": {
      "image/png": "[encoded data removed]",
      "text/plain": [
       "<Figure size 500x600 with 1 Axes>"
      ]
     },
     "metadata": {},
     "output_type": "display_data"
    },
    {
     "data": {
      "image/png": "[encoded data removed]",
      "text/plain": [
       "<Figure size 500x600 with 1 Axes>"
      ]
     },
     "metadata": {},
     "output_type": "display_data"
    }
   ],
   "source": [
    "'''\n",
    "Documentation to elaborate the definition of 'verified review'\n",
    "\n",
    "A 'verified review' means that the reviewer bought or used the item\n",
    "on Amazon, and paid a price available to most Amazon shoppers. \n",
    "After someone submits a review, Amazon check if they: \n",
    "Bought or used the item on Amazon; Paid a price available to most Amazon shoppers.\n",
    "\n",
    "'''\n",
    "\n",
    "\n",
    "\n",
    "'''\n",
    "\n",
    "This visualization checks whether there is any intentional input bias from\n",
    "non-verified reviewers whereby they could deliberately spam bad ratings (1-2)\n",
    "to skew to overall rating for the product.\n",
    "\n",
    "By comparing verified vs non-verified ratings, we can see that the overall\n",
    "sentiment is less positive for the non-verified ratings\n",
    "\n",
    "\n",
    "'''\n",
    "\n",
    "\n",
    "# Perform a visualization on the ratings made by the verified reviews\n",
    "\n",
    "# Subset the dataframe to only include rows where gender is male\n",
    "df_true = df1[df1['verified'] == True]\n",
    "\n",
    "# Group by rating and calculate the sum of total_ratings for each rating\n",
    "true_ratings = df_true.groupby('rating')['verified'].sum()\n",
    "\n",
    "# Create a barplot of the male ratings\n",
    "plt.figure(figsize=(5,6))\n",
    "plt.bar(true_ratings.index, true_ratings.values)\n",
    "plt.xlabel('Rating')\n",
    "plt.ylabel('Total Ratings')\n",
    "plt.title('Total Ratings by verified==True')\n",
    "\n",
    "# Add percentage values to each bar\n",
    "total = sum(true_ratings)\n",
    "for i, v in enumerate(true_ratings):\n",
    "    percent = round((v/total)*100, 2)\n",
    "    plt.text(i+1, v+3000, str(percent)+'%')\n",
    "    \n",
    "plt.show()\n",
    "\n",
    "\n",
    "\n",
    "\n",
    "df_false = df1[df1['verified'] == False]\n",
    "plt.figure(figsize=(5,6))\n",
    "rating = df_false['rating'].value_counts().sort_index(ascending=False)[::-1]\n",
    "total_count = len(df_false)\n",
    "ax = rating.plot(kind='bar')\n",
    "for i,v in enumerate(rating):\n",
    "    percent = round((v/total_count)*100, 2)\n",
    "    ax.text(i-0.3, v+1000, str(percent) + '%')\n",
    "plt.title('Total Ratings by verified==False')\n",
    "plt.xlabel('Ratings')\n",
    "plt.ylabel('Number of ratings')\n",
    "plt.xticks(rotation=0)  \n",
    "plt.show()"
   ]
  },
  {
   "cell_type": "code",
   "execution_count": 42,
   "id": "74ddcee3",
   "metadata": {},
   "outputs": [],
   "source": [
    "# # Line plot to visualize the number of reviews by non-verified reviewers per day across the datetime index\n",
    "# df_false_count = df_false.resample('D').count()\n",
    "# df_false_count.plot(kind='line', figsize=(10, 6), legend=None, color='#00ace6')\n",
    "# plt.xlabel('Date')\n",
    "# plt.ylabel('Reviews per Day')\n",
    "# plt.title('Daily reviews across time period')\n",
    "# plt.show()"
   ]
  },
  {
   "cell_type": "markdown",
   "id": "0cd76d15",
   "metadata": {},
   "source": [
    "# Visualizing word count for positive vs negative reviews"
   ]
  },
  {
   "cell_type": "code",
   "execution_count": 43,
   "id": "1ec52b7e",
   "metadata": {},
   "outputs": [
    {
     "data": {
      "text/plain": [
       "reviewTime\n",
       "1997-12-02    This TV animation series opened up many disput...\n",
       "1998-01-03    Here's a semi-remake of \"Holiday Inn\" (1942), ...\n",
       "1998-02-05    Animation by Hayao Miyazaki and one of my favo...\n",
       "1998-02-24    Wings of Honneamise is the first theater versi...\n",
       "1998-02-24    Japanese title is Macross and quite long TV an...\n",
       "                                    ...                        \n",
       "2018-09-26    Disappointing interpretation of Richard III by...\n",
       "2018-09-26                                this item was stollen\n",
       "2018-09-27    Nothing even remotely scary about a werewolf i...\n",
       "2018-09-27    I saw the first one and I loved it. I watched ...\n",
       "2018-09-27    The movie was slapped together, script & actin...\n",
       "Name: reviewText, Length: 618388, dtype: object"
      ]
     },
     "execution_count": 43,
     "metadata": {},
     "output_type": "execute_result"
    }
   ],
   "source": [
    "df1['reviewText']"
   ]
  },
  {
   "cell_type": "code",
   "execution_count": 44,
   "id": "edd33bba",
   "metadata": {},
   "outputs": [],
   "source": [
    "# with open('training_data.txt', 'w') as f:\n",
    "#     for review in df1['reviewText']:\n",
    "#         f.write(review + '\\n')"
   ]
  },
  {
   "cell_type": "code",
   "execution_count": 45,
   "id": "42936f14",
   "metadata": {},
   "outputs": [],
   "source": [
    "df1['word_count'] = df1['reviewText'].apply(lambda x: len(x.split()))"
   ]
  },
  {
   "cell_type": "code",
   "execution_count": 46,
   "id": "029b31c1",
   "metadata": {},
   "outputs": [
    {
     "data": {
      "text/html": [
       "<div>\n",
       "<style scoped>\n",
       "    .dataframe tbody tr th:only-of-type {\n",
       "        vertical-align: middle;\n",
       "    }\n",
       "\n",
       "    .dataframe tbody tr th {\n",
       "        vertical-align: top;\n",
       "    }\n",
       "\n",
       "    .dataframe thead th {\n",
       "        text-align: right;\n",
       "    }\n",
       "</style>\n",
       "<table border=\"1\" class=\"dataframe\">\n",
       "  <thead>\n",
       "    <tr style=\"text-align: right;\">\n",
       "      <th></th>\n",
       "      <th>rating</th>\n",
       "      <th>verified</th>\n",
       "      <th>reviewerID</th>\n",
       "      <th>productID</th>\n",
       "      <th>productType</th>\n",
       "      <th>reviewerName</th>\n",
       "      <th>reviewText</th>\n",
       "      <th>summary</th>\n",
       "      <th>word_count</th>\n",
       "    </tr>\n",
       "    <tr>\n",
       "      <th>reviewTime</th>\n",
       "      <th></th>\n",
       "      <th></th>\n",
       "      <th></th>\n",
       "      <th></th>\n",
       "      <th></th>\n",
       "      <th></th>\n",
       "      <th></th>\n",
       "      <th></th>\n",
       "      <th></th>\n",
       "    </tr>\n",
       "  </thead>\n",
       "  <tbody>\n",
       "    <tr>\n",
       "      <th>1997-12-02</th>\n",
       "      <td>5</td>\n",
       "      <td>False</td>\n",
       "      <td>A28BJ12568I17K</td>\n",
       "      <td>6304123523</td>\n",
       "      <td>{'Format:': ' VHS Tape'}</td>\n",
       "      <td>Mire Uno</td>\n",
       "      <td>This TV animation series opened up many disput...</td>\n",
       "      <td>It arose \"Evangelion Phenomina\" in Japan</td>\n",
       "      <td>263</td>\n",
       "    </tr>\n",
       "    <tr>\n",
       "      <th>1998-01-03</th>\n",
       "      <td>4</td>\n",
       "      <td>False</td>\n",
       "      <td>A30Q8X8B1S3GGT</td>\n",
       "      <td>6300215695</td>\n",
       "      <td>{'Format:': ' VHS Tape'}</td>\n",
       "      <td>Mark Savary</td>\n",
       "      <td>Here's a semi-remake of \"Holiday Inn\" (1942), ...</td>\n",
       "      <td>Holiday favorite with Bing Crosby and Danny Kaye!</td>\n",
       "      <td>263</td>\n",
       "    </tr>\n",
       "    <tr>\n",
       "      <th>1998-02-05</th>\n",
       "      <td>5</td>\n",
       "      <td>False</td>\n",
       "      <td>A28BJ12568I17K</td>\n",
       "      <td>6303118240</td>\n",
       "      <td>{'Format:': ' VHS Tape'}</td>\n",
       "      <td>Mire Uno</td>\n",
       "      <td>Animation by Hayao Miyazaki and one of my favo...</td>\n",
       "      <td>Nostalgy for Japan in 50s</td>\n",
       "      <td>111</td>\n",
       "    </tr>\n",
       "  </tbody>\n",
       "</table>\n",
       "</div>"
      ],
      "text/plain": [
       "            rating  verified      reviewerID   productID  \\\n",
       "reviewTime                                                 \n",
       "1997-12-02       5     False  A28BJ12568I17K  6304123523   \n",
       "1998-01-03       4     False  A30Q8X8B1S3GGT  6300215695   \n",
       "1998-02-05       5     False  A28BJ12568I17K  6303118240   \n",
       "\n",
       "                         productType reviewerName  \\\n",
       "reviewTime                                          \n",
       "1997-12-02  {'Format:': ' VHS Tape'}     Mire Uno   \n",
       "1998-01-03  {'Format:': ' VHS Tape'}  Mark Savary   \n",
       "1998-02-05  {'Format:': ' VHS Tape'}     Mire Uno   \n",
       "\n",
       "                                                   reviewText  \\\n",
       "reviewTime                                                      \n",
       "1997-12-02  This TV animation series opened up many disput...   \n",
       "1998-01-03  Here's a semi-remake of \"Holiday Inn\" (1942), ...   \n",
       "1998-02-05  Animation by Hayao Miyazaki and one of my favo...   \n",
       "\n",
       "                                                      summary  word_count  \n",
       "reviewTime                                                                 \n",
       "1997-12-02           It arose \"Evangelion Phenomina\" in Japan         263  \n",
       "1998-01-03  Holiday favorite with Bing Crosby and Danny Kaye!         263  \n",
       "1998-02-05                          Nostalgy for Japan in 50s         111  "
      ]
     },
     "execution_count": 46,
     "metadata": {},
     "output_type": "execute_result"
    }
   ],
   "source": [
    "df1.head(3)"
   ]
  },
  {
   "cell_type": "code",
   "execution_count": 47,
   "id": "915eedb5",
   "metadata": {},
   "outputs": [
    {
     "data": {
      "text/plain": [
       "5230"
      ]
     },
     "execution_count": 47,
     "metadata": {},
     "output_type": "execute_result"
    }
   ],
   "source": [
    "df1['word_count'].max()"
   ]
  },
  {
   "cell_type": "code",
   "execution_count": 48,
   "id": "b32637f5",
   "metadata": {},
   "outputs": [],
   "source": [
    "df_pos = df1[(df1['rating'] == 4) | (df1['rating'] == 5)]"
   ]
  },
  {
   "cell_type": "code",
   "execution_count": 49,
   "id": "d711af3e",
   "metadata": {},
   "outputs": [],
   "source": [
    "df_neg = df1[(df1['rating'] == 1) | (df1['rating'] == 2)]"
   ]
  },
  {
   "cell_type": "code",
   "execution_count": 50,
   "id": "f21afef5",
   "metadata": {},
   "outputs": [
    {
     "data": {
      "image/png": "[encoded data removed]",
      "text/plain": [
       "<Figure size 640x480 with 1 Axes>"
      ]
     },
     "metadata": {},
     "output_type": "display_data"
    },
    {
     "data": {
      "image/png": "[encoded data removed]",
      "text/plain": [
       "<Figure size 640x480 with 1 Axes>"
      ]
     },
     "metadata": {},
     "output_type": "display_data"
    }
   ],
   "source": [
    "plt.hist(df_pos['word_count'], bins=100)\n",
    "plt.title('Distribution of Word Counts for positive reviews')\n",
    "plt.xlabel('Word Count')\n",
    "plt.ylabel('Frequency')\n",
    "plt.xlim((0, 1200))\n",
    "plt.show()\n",
    "\n",
    "plt.hist(df_neg['word_count'], bins=100)\n",
    "plt.title('Distribution of Word Counts for negative reviews')\n",
    "plt.xlabel('Word Count')\n",
    "plt.ylabel('Frequency')\n",
    "plt.xlim((0, 1200))\n",
    "plt.show()"
   ]
  },
  {
   "cell_type": "code",
   "execution_count": 51,
   "id": "855465cb",
   "metadata": {},
   "outputs": [
    {
     "data": {
      "text/plain": [
       "103.74636312476956"
      ]
     },
     "execution_count": 51,
     "metadata": {},
     "output_type": "execute_result"
    }
   ],
   "source": [
    "df_pos['word_count'].mean()"
   ]
  },
  {
   "cell_type": "code",
   "execution_count": 52,
   "id": "6c9df2c9",
   "metadata": {},
   "outputs": [
    {
     "data": {
      "text/plain": [
       "105.52215437557003"
      ]
     },
     "execution_count": 52,
     "metadata": {},
     "output_type": "execute_result"
    }
   ],
   "source": [
    "df_neg['word_count'].mean() # negative reviews have more word count than positive reviews"
   ]
  },
  {
   "cell_type": "markdown",
   "id": "33965bb0",
   "metadata": {},
   "source": [
    "# Moving onto data preprocessing for NLP"
   ]
  },
  {
   "cell_type": "code",
   "execution_count": 53,
   "id": "1b37ab08",
   "metadata": {},
   "outputs": [],
   "source": [
    "df_nlp = df1[['rating','reviewText']]"
   ]
  },
  {
   "cell_type": "code",
   "execution_count": 54,
   "id": "3833330f",
   "metadata": {},
   "outputs": [],
   "source": [
    "df_nlp = df_nlp.loc[df_nlp['rating'] != 3]"
   ]
  },
  {
   "cell_type": "code",
   "execution_count": 55,
   "id": "a38e15f5",
   "metadata": {},
   "outputs": [],
   "source": [
    "df_nlp = df_nlp.reset_index(drop=True)"
   ]
  },
  {
   "cell_type": "code",
   "execution_count": 56,
   "id": "ed9ed1f5",
   "metadata": {},
   "outputs": [
    {
     "data": {
      "text/plain": [
       "5    233136\n",
       "1    162891\n",
       "2    146303\n",
       "4     76058\n",
       "Name: rating, dtype: int64"
      ]
     },
     "execution_count": 56,
     "metadata": {},
     "output_type": "execute_result"
    }
   ],
   "source": [
    "df_nlp['rating'].value_counts()"
   ]
  },
  {
   "cell_type": "code",
   "execution_count": 57,
   "id": "c9d51d84",
   "metadata": {},
   "outputs": [],
   "source": [
    "def get_sentiment(rating):\n",
    "    if rating <= 2:\n",
    "        return 'neg'\n",
    "    else:\n",
    "        return 'pos'"
   ]
  },
  {
   "cell_type": "code",
   "execution_count": 58,
   "id": "f54053dc",
   "metadata": {},
   "outputs": [],
   "source": [
    "df_nlp['label'] = df_nlp['rating'].apply(get_sentiment)"
   ]
  },
  {
   "cell_type": "code",
   "execution_count": 59,
   "id": "ab2097c5",
   "metadata": {},
   "outputs": [
    {
     "data": {
      "text/html": [
       "<div>\n",
       "<style scoped>\n",
       "    .dataframe tbody tr th:only-of-type {\n",
       "        vertical-align: middle;\n",
       "    }\n",
       "\n",
       "    .dataframe tbody tr th {\n",
       "        vertical-align: top;\n",
       "    }\n",
       "\n",
       "    .dataframe thead th {\n",
       "        text-align: right;\n",
       "    }\n",
       "</style>\n",
       "<table border=\"1\" class=\"dataframe\">\n",
       "  <thead>\n",
       "    <tr style=\"text-align: right;\">\n",
       "      <th></th>\n",
       "      <th>rating</th>\n",
       "      <th>reviewText</th>\n",
       "      <th>label</th>\n",
       "    </tr>\n",
       "  </thead>\n",
       "  <tbody>\n",
       "    <tr>\n",
       "      <th>0</th>\n",
       "      <td>5</td>\n",
       "      <td>This TV animation series opened up many disput...</td>\n",
       "      <td>pos</td>\n",
       "    </tr>\n",
       "    <tr>\n",
       "      <th>1</th>\n",
       "      <td>4</td>\n",
       "      <td>Here's a semi-remake of \"Holiday Inn\" (1942), ...</td>\n",
       "      <td>pos</td>\n",
       "    </tr>\n",
       "    <tr>\n",
       "      <th>2</th>\n",
       "      <td>5</td>\n",
       "      <td>Animation by Hayao Miyazaki and one of my favo...</td>\n",
       "      <td>pos</td>\n",
       "    </tr>\n",
       "    <tr>\n",
       "      <th>3</th>\n",
       "      <td>5</td>\n",
       "      <td>Wings of Honneamise is the first theater versi...</td>\n",
       "      <td>pos</td>\n",
       "    </tr>\n",
       "    <tr>\n",
       "      <th>4</th>\n",
       "      <td>5</td>\n",
       "      <td>Japanese title is Macross and quite long TV an...</td>\n",
       "      <td>pos</td>\n",
       "    </tr>\n",
       "  </tbody>\n",
       "</table>\n",
       "</div>"
      ],
      "text/plain": [
       "   rating                                         reviewText label\n",
       "0       5  This TV animation series opened up many disput...   pos\n",
       "1       4  Here's a semi-remake of \"Holiday Inn\" (1942), ...   pos\n",
       "2       5  Animation by Hayao Miyazaki and one of my favo...   pos\n",
       "3       5  Wings of Honneamise is the first theater versi...   pos\n",
       "4       5  Japanese title is Macross and quite long TV an...   pos"
      ]
     },
     "execution_count": 59,
     "metadata": {},
     "output_type": "execute_result"
    }
   ],
   "source": [
    "df_nlp.head()"
   ]
  },
  {
   "cell_type": "code",
   "execution_count": 60,
   "id": "bf4d53da",
   "metadata": {},
   "outputs": [
    {
     "data": {
      "image/png": "[encoded data removed]",
      "text/plain": [
       "<Figure size 400x600 with 1 Axes>"
      ]
     },
     "metadata": {},
     "output_type": "display_data"
    }
   ],
   "source": [
    "# create the bar plot\n",
    "plt.figure(figsize=(4,6))\n",
    "ax = df_nlp['label'].value_counts(normalize=True).mul(100).round(2).plot(kind='bar', rot=0)\n",
    "\n",
    "# set the x-axis label\n",
    "ax.set_xlabel('Sentiment')\n",
    "\n",
    "# set the y-axis label\n",
    "ax.set_ylabel('Percentage of data')\n",
    "\n",
    "# set the title of the plot\n",
    "ax.set_title('Pos vs Neg')\n",
    "\n",
    "# add a % sign to each bar\n",
    "for p in ax.patches:\n",
    "    ax.annotate(str(p.get_height()) + '%', (p.get_x() + p.get_width() / 2, p.get_height()),\n",
    "                ha='center', va='center', xytext=(0, 5), textcoords='offset points')\n",
    "\n",
    "# show the plot\n",
    "plt.show()\n"
   ]
  },
  {
   "cell_type": "markdown",
   "id": "aa3f6f27",
   "metadata": {},
   "source": [
    "# Linear Support Vector Classifier for Sentiment Analysis"
   ]
  },
  {
   "cell_type": "code",
   "execution_count": 67,
   "id": "2a9618a0",
   "metadata": {},
   "outputs": [],
   "source": [
    "from sklearn.model_selection import train_test_split\n",
    "\n",
    "X = df_nlp['reviewText']\n",
    "y = df_nlp['label']\n",
    "\n",
    "X_train, X_test, y_train, y_test = train_test_split(X, y, test_size=0.3)"
   ]
  },
  {
   "cell_type": "code",
   "execution_count": 68,
   "id": "3df67480",
   "metadata": {},
   "outputs": [
    {
     "data": {
      "text/html": [
       "<style>#sk-container-id-1 {color: black;background-color: white;}#sk-container-id-1 pre{padding: 0;}#sk-container-id-1 div.sk-toggleable {background-color: white;}#sk-container-id-1 label.sk-toggleable__label {cursor: pointer;display: block;width: 100%;margin-bottom: 0;padding: 0.3em;box-sizing: border-box;text-align: center;}#sk-container-id-1 label.sk-toggleable__label-arrow:before {content: \"▸\";float: left;margin-right: 0.25em;color: #696969;}#sk-container-id-1 label.sk-toggleable__label-arrow:hover:before {color: black;}#sk-container-id-1 div.sk-estimator:hover label.sk-toggleable__label-arrow:before {color: black;}#sk-container-id-1 div.sk-toggleable__content {max-height: 0;max-width: 0;overflow: hidden;text-align: left;background-color: #f0f8ff;}#sk-container-id-1 div.sk-toggleable__content pre {margin: 0.2em;color: black;border-radius: 0.25em;background-color: #f0f8ff;}#sk-container-id-1 input.sk-toggleable__control:checked~div.sk-toggleable__content {max-height: 200px;max-width: 100%;overflow: auto;}#sk-container-id-1 input.sk-toggleable__control:checked~label.sk-toggleable__label-arrow:before {content: \"▾\";}#sk-container-id-1 div.sk-estimator input.sk-toggleable__control:checked~label.sk-toggleable__label {background-color: #d4ebff;}#sk-container-id-1 div.sk-label input.sk-toggleable__control:checked~label.sk-toggleable__label {background-color: #d4ebff;}#sk-container-id-1 input.sk-hidden--visually {border: 0;clip: rect(1px 1px 1px 1px);clip: rect(1px, 1px, 1px, 1px);height: 1px;margin: -1px;overflow: hidden;padding: 0;position: absolute;width: 1px;}#sk-container-id-1 div.sk-estimator {font-family: monospace;background-color: #f0f8ff;border: 1px dotted black;border-radius: 0.25em;box-sizing: border-box;margin-bottom: 0.5em;}#sk-container-id-1 div.sk-estimator:hover {background-color: #d4ebff;}#sk-container-id-1 div.sk-parallel-item::after {content: \"\";width: 100%;border-bottom: 1px solid gray;flex-grow: 1;}#sk-container-id-1 div.sk-label:hover label.sk-toggleable__label {background-color: #d4ebff;}#sk-container-id-1 div.sk-serial::before {content: \"\";position: absolute;border-left: 1px solid gray;box-sizing: border-box;top: 0;bottom: 0;left: 50%;z-index: 0;}#sk-container-id-1 div.sk-serial {display: flex;flex-direction: column;align-items: center;background-color: white;padding-right: 0.2em;padding-left: 0.2em;position: relative;}#sk-container-id-1 div.sk-item {position: relative;z-index: 1;}#sk-container-id-1 div.sk-parallel {display: flex;align-items: stretch;justify-content: center;background-color: white;position: relative;}#sk-container-id-1 div.sk-item::before, #sk-container-id-1 div.sk-parallel-item::before {content: \"\";position: absolute;border-left: 1px solid gray;box-sizing: border-box;top: 0;bottom: 0;left: 50%;z-index: -1;}#sk-container-id-1 div.sk-parallel-item {display: flex;flex-direction: column;z-index: 1;position: relative;background-color: white;}#sk-container-id-1 div.sk-parallel-item:first-child::after {align-self: flex-end;width: 50%;}#sk-container-id-1 div.sk-parallel-item:last-child::after {align-self: flex-start;width: 50%;}#sk-container-id-1 div.sk-parallel-item:only-child::after {width: 0;}#sk-container-id-1 div.sk-dashed-wrapped {border: 1px dashed gray;margin: 0 0.4em 0.5em 0.4em;box-sizing: border-box;padding-bottom: 0.4em;background-color: white;}#sk-container-id-1 div.sk-label label {font-family: monospace;font-weight: bold;display: inline-block;line-height: 1.2em;}#sk-container-id-1 div.sk-label-container {text-align: center;}#sk-container-id-1 div.sk-container {/* jupyter's `normalize.less` sets `[hidden] { display: none; }` but bootstrap.min.css set `[hidden] { display: none !important; }` so we also need the `!important` here to be able to override the default hidden behavior on the sphinx rendered scikit-learn.org. See: https://github.com/scikit-learn/scikit-learn/issues/21755 */display: inline-block !important;position: relative;}#sk-container-id-1 div.sk-text-repr-fallback {display: none;}</style><div id=\"sk-container-id-1\" class=\"sk-top-container\"><div class=\"sk-text-repr-fallback\"><pre>TfidfVectorizer()</pre><b>In a Jupyter environment, please rerun this cell to show the HTML representation or trust the notebook. <br />On GitHub, the HTML representation is unable to render, please try loading this page with nbviewer.org.</b></div><div class=\"sk-container\" hidden><div class=\"sk-item\"><div class=\"sk-estimator sk-toggleable\"><input class=\"sk-toggleable__control sk-hidden--visually\" id=\"sk-estimator-id-1\" type=\"checkbox\" checked><label for=\"sk-estimator-id-1\" class=\"sk-toggleable__label sk-toggleable__label-arrow\">TfidfVectorizer</label><div class=\"sk-toggleable__content\"><pre>TfidfVectorizer()</pre></div></div></div></div></div>"
      ],
      "text/plain": [
       "TfidfVectorizer()"
      ]
     },
     "execution_count": 68,
     "metadata": {},
     "output_type": "execute_result"
    }
   ],
   "source": [
    "import pickle\n",
    "from sklearn.pipeline import Pipeline\n",
    "from sklearn.feature_extraction.text import TfidfVectorizer\n",
    "\n",
    "# Initialize the TfidfVectorizer object\n",
    "vectorizer = TfidfVectorizer()\n",
    "\n",
    "# Fit the vectorizer to the training data\n",
    "vectorizer.fit(X_train)\n",
    "\n",
    "# # Save the fitted vectorizer to a file\n",
    "# with open('tfidf_vectorizer.pkl', 'wb') as f:\n",
    "#     pickle.dump(vectorizer, f)"
   ]
  },
  {
   "cell_type": "code",
   "execution_count": 69,
   "id": "7160f973",
   "metadata": {},
   "outputs": [
    {
     "name": "stdout",
     "output_type": "stream",
     "text": [
      "Computational time taken = 25.05 seconds\n"
     ]
    }
   ],
   "source": [
    "from sklearn.pipeline import Pipeline\n",
    "from sklearn.feature_extraction.text import TfidfVectorizer\n",
    "from sklearn.svm import LinearSVC\n",
    "import time\n",
    "\n",
    "text_clf = Pipeline([('tfidf', TfidfVectorizer()), # remove stopwords will result in worse performance\n",
    "                     ('clf', LinearSVC()),])\n",
    "\n",
    "\n",
    "start_time = time.time()\n",
    "# Train the model by feeding the text data through the pipeline\n",
    "SVC_Model = text_clf.fit(X_train, y_train)  \n",
    "end_time = time.time()\n",
    "time_taken = round(end_time-start_time,2)\n",
    "print(f'Computational time taken = {time_taken} seconds') "
   ]
  },
  {
   "cell_type": "code",
   "execution_count": 70,
   "id": "39b4120f",
   "metadata": {},
   "outputs": [],
   "source": [
    "# Form a prediction set\n",
    "predictions = SVC_Model.predict(X_test)"
   ]
  },
  {
   "cell_type": "code",
   "execution_count": 71,
   "id": "97542e83",
   "metadata": {},
   "outputs": [
    {
     "name": "stdout",
     "output_type": "stream",
     "text": [
      "[[85362  7362]\n",
      " [ 7347 85446]]\n"
     ]
    }
   ],
   "source": [
    "# Report the confusion matrix\n",
    "from sklearn import metrics\n",
    "SVC_Model_metrics = metrics.confusion_matrix(y_test,predictions)\n",
    "print(SVC_Model_metrics)"
   ]
  },
  {
   "cell_type": "code",
   "execution_count": 72,
   "id": "02ba27d8",
   "metadata": {},
   "outputs": [
    {
     "data": {
      "text/plain": [
       "Text(50.722222222222214, 0.5, 'Actual Label')"
      ]
     },
     "execution_count": 72,
     "metadata": {},
     "output_type": "execute_result"
    },
    {
     "data": {
      "image/png": "[encoded data removed]",
      "text/plain": [
       "<Figure size 640x480 with 1 Axes>"
      ]
     },
     "metadata": {},
     "output_type": "display_data"
    }
   ],
   "source": [
    "heatmap = sns.heatmap(SVC_Model_metrics, annot=True, fmt='g', cmap='viridis', cbar=False)\n",
    "heatmap.set_xlabel('Predicted Label')\n",
    "heatmap.set_ylabel('Actual Label')"
   ]
  },
  {
   "cell_type": "code",
   "execution_count": 73,
   "id": "b0ed478a",
   "metadata": {},
   "outputs": [
    {
     "name": "stdout",
     "output_type": "stream",
     "text": [
      "              precision    recall  f1-score   support\n",
      "\n",
      "         neg       0.92      0.92      0.92     92724\n",
      "         pos       0.92      0.92      0.92     92793\n",
      "\n",
      "    accuracy                           0.92    185517\n",
      "   macro avg       0.92      0.92      0.92    185517\n",
      "weighted avg       0.92      0.92      0.92    185517\n",
      "\n"
     ]
    }
   ],
   "source": [
    "# Print a classification report\n",
    "print(metrics.classification_report(y_test,predictions))"
   ]
  },
  {
   "cell_type": "markdown",
   "id": "6811a009",
   "metadata": {},
   "source": [
    "# Hyperparameter Tuning using GridSearchCV"
   ]
  },
  {
   "cell_type": "code",
   "execution_count": 74,
   "id": "d6b6d93f",
   "metadata": {},
   "outputs": [
    {
     "name": "stdout",
     "output_type": "stream",
     "text": [
      "Computational time taken = 998.08 seconds\n",
      "Accuracy: 0.920395435458745\n",
      "Best hyperparameters: {'clf__C': 0.1}\n"
     ]
    }
   ],
   "source": [
    "from sklearn.model_selection import GridSearchCV\n",
    "\n",
    "parameters = {'clf__C': [0.1, 1, 10]}\n",
    "\n",
    "# create the grid search object\n",
    "SVC_Grid = GridSearchCV(text_clf, parameters, cv=10)\n",
    "\n",
    "start_time = time.time()\n",
    "# fit the grid search object on the training data\n",
    "SVC_Grid.fit(X_train, y_train)\n",
    "\n",
    "end_time = time.time()\n",
    "time_taken = round(end_time-start_time,2)\n",
    "print(f'Computational time taken = {time_taken} seconds')\n",
    "\n",
    "# evaluate the performance of the best estimator on the test data\n",
    "best_SVC_Model = SVC_Grid.best_estimator_\n",
    "score = best_SVC_Model.score(X_test, y_test)\n",
    "print(f\"Accuracy: {score}\")\n",
    "\n",
    "# print the best hyperparameters\n",
    "print(f\"Best hyperparameters: {SVC_Grid.best_params_}\")\n"
   ]
  },
  {
   "cell_type": "code",
   "execution_count": 75,
   "id": "5fdf61aa",
   "metadata": {},
   "outputs": [],
   "source": [
    "# This has better performance at f1-score 0.92 for both neg and pos\n",
    "predictions_temp = best_SVC_Model.predict(X_test)"
   ]
  },
  {
   "cell_type": "code",
   "execution_count": 76,
   "id": "fc153809",
   "metadata": {},
   "outputs": [
    {
     "name": "stdout",
     "output_type": "stream",
     "text": [
      "              precision    recall  f1-score   support\n",
      "\n",
      "         neg       0.92      0.92      0.92     92724\n",
      "         pos       0.92      0.92      0.92     92793\n",
      "\n",
      "    accuracy                           0.92    185517\n",
      "   macro avg       0.92      0.92      0.92    185517\n",
      "weighted avg       0.92      0.92      0.92    185517\n",
      "\n"
     ]
    }
   ],
   "source": [
    "# Print a classification report\n",
    "print(metrics.classification_report(y_test,predictions_temp))"
   ]
  }
 ],
 "metadata": {
  "kernelspec": {
   "display_name": "Python 3 (ipykernel)",
   "language": "python",
   "name": "python3"
  },
  "language_info": {
   "codemirror_mode": {
    "name": "ipython",
    "version": 3
   },
   "file_extension": ".py",
   "mimetype": "text/x-python",
   "name": "python",
   "nbconvert_exporter": "python",
   "pygments_lexer": "ipython3",
   "version": "3.9.16"
  }
 },
 "nbformat": 4,
 "nbformat_minor": 5
}
