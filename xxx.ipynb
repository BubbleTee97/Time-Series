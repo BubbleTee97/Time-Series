{
 "cells": [
  {
   "cell_type": "code",
   "execution_count": 64,
   "id": "9f80b299",
   "metadata": {},
   "outputs": [],
   "source": [
    "import pandas as pd\n",
    "import numpy as np\n",
    "import matplotlib.pyplot as plt\n",
    "import seaborn as sns"
   ]
  },
  {
   "cell_type": "code",
   "execution_count": 143,
   "id": "cccc931e",
   "metadata": {},
   "outputs": [],
   "source": [
    "# df = pd.read_csv(\"1429_1.csv\")"
   ]
  },
  {
   "cell_type": "code",
   "execution_count": 140,
   "id": "7b8ae7ec",
   "metadata": {},
   "outputs": [],
   "source": [
    "df = pd.read_json(\"Movies_and_TV_5.json.gz\", compression='gzip', lines=True)"
   ]
  },
  {
   "cell_type": "code",
   "execution_count": 141,
   "id": "b1fec0b8",
   "metadata": {},
   "outputs": [
    {
     "name": "stdout",
     "output_type": "stream",
     "text": [
      "<class 'pandas.core.frame.DataFrame'>\n",
      "RangeIndex: 3410019 entries, 0 to 3410018\n",
      "Data columns (total 12 columns):\n",
      " #   Column          Dtype \n",
      "---  ------          ----- \n",
      " 0   overall         int64 \n",
      " 1   verified        bool  \n",
      " 2   reviewTime      object\n",
      " 3   reviewerID      object\n",
      " 4   asin            object\n",
      " 5   style           object\n",
      " 6   reviewerName    object\n",
      " 7   reviewText      object\n",
      " 8   summary         object\n",
      " 9   unixReviewTime  int64 \n",
      " 10  vote            object\n",
      " 11  image           object\n",
      "dtypes: bool(1), int64(2), object(9)\n",
      "memory usage: 289.4+ MB\n"
     ]
    }
   ],
   "source": [
    "df.info()"
   ]
  },
  {
   "cell_type": "code",
   "execution_count": 144,
   "id": "0561b30c",
   "metadata": {},
   "outputs": [
    {
     "data": {
      "text/html": [
       "<div>\n",
       "<style scoped>\n",
       "    .dataframe tbody tr th:only-of-type {\n",
       "        vertical-align: middle;\n",
       "    }\n",
       "\n",
       "    .dataframe tbody tr th {\n",
       "        vertical-align: top;\n",
       "    }\n",
       "\n",
       "    .dataframe thead th {\n",
       "        text-align: right;\n",
       "    }\n",
       "</style>\n",
       "<table border=\"1\" class=\"dataframe\">\n",
       "  <thead>\n",
       "    <tr style=\"text-align: right;\">\n",
       "      <th></th>\n",
       "      <th>overall</th>\n",
       "      <th>verified</th>\n",
       "      <th>reviewTime</th>\n",
       "      <th>reviewerID</th>\n",
       "      <th>asin</th>\n",
       "      <th>style</th>\n",
       "      <th>reviewerName</th>\n",
       "      <th>reviewText</th>\n",
       "      <th>summary</th>\n",
       "      <th>unixReviewTime</th>\n",
       "      <th>vote</th>\n",
       "      <th>image</th>\n",
       "    </tr>\n",
       "  </thead>\n",
       "  <tbody>\n",
       "    <tr>\n",
       "      <th>0</th>\n",
       "      <td>5</td>\n",
       "      <td>True</td>\n",
       "      <td>11 9, 2012</td>\n",
       "      <td>A2M1CU2IRZG0K9</td>\n",
       "      <td>0005089549</td>\n",
       "      <td>{'Format:': ' VHS Tape'}</td>\n",
       "      <td>Terri</td>\n",
       "      <td>So sorry I didn't purchase this years ago when...</td>\n",
       "      <td>Amazing!</td>\n",
       "      <td>1352419200</td>\n",
       "      <td>NaN</td>\n",
       "      <td>NaN</td>\n",
       "    </tr>\n",
       "    <tr>\n",
       "      <th>1</th>\n",
       "      <td>5</td>\n",
       "      <td>True</td>\n",
       "      <td>12 30, 2011</td>\n",
       "      <td>AFTUJYISOFHY6</td>\n",
       "      <td>0005089549</td>\n",
       "      <td>{'Format:': ' VHS Tape'}</td>\n",
       "      <td>Melissa D. Abercrombie</td>\n",
       "      <td>Believe me when I tell you that you will recei...</td>\n",
       "      <td>Great Gospel VHS of the Cathedrals!</td>\n",
       "      <td>1325203200</td>\n",
       "      <td>NaN</td>\n",
       "      <td>NaN</td>\n",
       "    </tr>\n",
       "  </tbody>\n",
       "</table>\n",
       "</div>"
      ],
      "text/plain": [
       "   overall  verified   reviewTime      reviewerID        asin  \\\n",
       "0        5      True   11 9, 2012  A2M1CU2IRZG0K9  0005089549   \n",
       "1        5      True  12 30, 2011   AFTUJYISOFHY6  0005089549   \n",
       "\n",
       "                      style            reviewerName  \\\n",
       "0  {'Format:': ' VHS Tape'}                   Terri   \n",
       "1  {'Format:': ' VHS Tape'}  Melissa D. Abercrombie   \n",
       "\n",
       "                                          reviewText  \\\n",
       "0  So sorry I didn't purchase this years ago when...   \n",
       "1  Believe me when I tell you that you will recei...   \n",
       "\n",
       "                               summary  unixReviewTime vote image  \n",
       "0                             Amazing!      1352419200  NaN   NaN  \n",
       "1  Great Gospel VHS of the Cathedrals!      1325203200  NaN   NaN  "
      ]
     },
     "execution_count": 144,
     "metadata": {},
     "output_type": "execute_result"
    }
   ],
   "source": [
    "df.head(2)"
   ]
  },
  {
   "cell_type": "code",
   "execution_count": 145,
   "id": "04aa8189",
   "metadata": {},
   "outputs": [
    {
     "data": {
      "text/plain": [
       "Index(['overall', 'verified', 'reviewTime', 'reviewerID', 'asin', 'style',\n",
       "       'reviewerName', 'reviewText', 'summary', 'unixReviewTime', 'vote',\n",
       "       'image'],\n",
       "      dtype='object')"
      ]
     },
     "execution_count": 145,
     "metadata": {},
     "output_type": "execute_result"
    }
   ],
   "source": [
    "df.columns"
   ]
  },
  {
   "cell_type": "code",
   "execution_count": 146,
   "id": "645b1fb6",
   "metadata": {},
   "outputs": [
    {
     "data": {
      "text/plain": [
       "overall                 0\n",
       "verified                0\n",
       "reviewTime              0\n",
       "reviewerID              0\n",
       "asin                    0\n",
       "style              174207\n",
       "reviewerName           82\n",
       "reviewText           1581\n",
       "summary               640\n",
       "unixReviewTime          0\n",
       "vote              2768010\n",
       "image             3403048\n",
       "dtype: int64"
      ]
     },
     "execution_count": 146,
     "metadata": {},
     "output_type": "execute_result"
    }
   ],
   "source": [
    "df.isnull().sum()"
   ]
  },
  {
   "cell_type": "code",
   "execution_count": 164,
   "id": "c258ce08",
   "metadata": {},
   "outputs": [
    {
     "ename": "TypeError",
     "evalue": "unhashable type: 'dict'",
     "output_type": "error",
     "traceback": [
      "\u001b[1;31m---------------------------------------------------------------------------\u001b[0m",
      "\u001b[1;31mTypeError\u001b[0m                                 Traceback (most recent call last)",
      "\u001b[1;32mpandas\\_libs\\hashtable_class_helper.pxi\u001b[0m in \u001b[0;36mpandas._libs.hashtable.PyObjectHashTable.map_locations\u001b[1;34m()\u001b[0m\n",
      "\u001b[1;31mTypeError\u001b[0m: unhashable type: 'dict'"
     ]
    },
    {
     "name": "stderr",
     "output_type": "stream",
     "text": [
      "Exception ignored in: 'pandas._libs.index.IndexEngine._call_map_locations'\n",
      "Traceback (most recent call last):\n",
      "  File \"pandas\\_libs\\hashtable_class_helper.pxi\", line 4588, in pandas._libs.hashtable.PyObjectHashTable.map_locations\n",
      "TypeError: unhashable type: 'dict'\n"
     ]
    },
    {
     "data": {
      "text/plain": [
       "{'Format:': ' DVD'}                                1645586\n",
       "{'Format:': ' Amazon Video'}                       1027966\n",
       "{'Format:': ' Blu-ray'}                             335181\n",
       "{'Format:': ' Prime Video'}                         158950\n",
       "{'Format:': ' VHS Tape'}                             61821\n",
       "{'Format:': ' HD DVD'}                                1475\n",
       "{'Format:': ' DVD-R'}                                 1428\n",
       "{'Format:': ' Theatrical Release'}                     801\n",
       "{'Format:': ' Audio CD'}                               657\n",
       "{'Format:': ' DVD-ROM'}                                474\n",
       "{'Format:': ' UMD for PSP'}                            352\n",
       "{'Format:': ' Amazon Instant Video'}                   250\n",
       "{'Format:': ' Electronics'}                            116\n",
       "{'Format:': ' Hardcover'}                              107\n",
       "{'Format:': ' Interactive DVD'}                         97\n",
       "{'Format:': ' Paperback'}                               86\n",
       "{'Format:': ' Laser Disc'}                              80\n",
       "{'Format:': ' DVD Audio'}                               55\n",
       "{'Format:': ' Toy'}                                     36\n",
       "{'Format:': ' MP3 Music'}                               33\n",
       "{'Format:': ' Unknown Binding'}                         32\n",
       "{'Format:': ' Kindle Edition'}                          32\n",
       "{'Format:': ' CD-ROM'}                                  26\n",
       "{'Format:': ' Misc.'}                                   20\n",
       "{'Format:': ' Staple Bound'}                            19\n",
       "{'Size:': ' unknown'}                                   18\n",
       "{'Format:': ' Video CD'}                                14\n",
       "{'Format:': ' Wireless Phone Accessory'}                12\n",
       "{'Format:': ' Kindle Edition with Audio/Video'}         11\n",
       "{'Format:': ' Grocery'}                                  9\n",
       "{'Format:': ' Audio Cassette'}                           8\n",
       "{'Format:': ' Kitchen'}                                  8\n",
       "{'Size:': ' Dolphins'}                                   8\n",
       "{'Format:': ' Office Product'}                           7\n",
       "{'Format:': ' Vinyl'}                                    5\n",
       "{'Shape:': ' Hipcentric'}                                5\n",
       "{'Format:': ' Mass Market Paperback'}                    5\n",
       "{'Format:': ' Videotape'}                                5\n",
       "{'Format:': ' Video Game'}                               3\n",
       "{'Format:': ' Audible Audiobook'}                        3\n",
       "{'Shape:': ' Omnicentric'}                               2\n",
       "{'Format:': ' Misc. Supplies'}                           2\n",
       "{'Format:': ' MiniDisc'}                                 2\n",
       "{'Format:': ' Product Bundle'}                           1\n",
       "{'Format:': ' S-VHS'}                                    1\n",
       "{'Format:': ' Unbound'}                                  1\n",
       "{'Format:': ' Accessory'}                                1\n",
       "{'Format:': ' MP3 CD'}                                   1\n",
       "Name: style, dtype: int64"
      ]
     },
     "execution_count": 164,
     "metadata": {},
     "output_type": "execute_result"
    }
   ],
   "source": [
    "df['style'].value_counts()"
   ]
  },
  {
   "cell_type": "code",
   "execution_count": 70,
   "id": "0bdc2bc9",
   "metadata": {},
   "outputs": [],
   "source": [
    "df.drop(['reviews.didPurchase','reviews.id','reviews.userCity','reviews.userProvince','reviews.date','reviews.dateAdded'],axis=1,inplace=True)"
   ]
  },
  {
   "cell_type": "code",
   "execution_count": 73,
   "id": "0ab2d52b",
   "metadata": {},
   "outputs": [],
   "source": [
    "df = df.dropna(subset=['asins','reviews.rating','reviews.text','reviews.title','reviews.username'])"
   ]
  },
  {
   "cell_type": "code",
   "execution_count": 74,
   "id": "a4c8d93f",
   "metadata": {},
   "outputs": [
    {
     "data": {
      "text/plain": [
       "id                        0\n",
       "name                   6757\n",
       "asins                     0\n",
       "brand                     0\n",
       "categories                0\n",
       "keys                      0\n",
       "manufacturer              0\n",
       "reviews.dateSeen          0\n",
       "reviews.doRecommend     557\n",
       "reviews.numHelpful      491\n",
       "reviews.rating            0\n",
       "reviews.sourceURLs        0\n",
       "reviews.text              0\n",
       "reviews.title             0\n",
       "reviews.username          0\n",
       "dtype: int64"
      ]
     },
     "execution_count": 74,
     "metadata": {},
     "output_type": "execute_result"
    }
   ],
   "source": [
    "df.isnull().sum()"
   ]
  },
  {
   "cell_type": "code",
   "execution_count": 109,
   "id": "3db0475b",
   "metadata": {},
   "outputs": [
    {
     "data": {
      "image/png": "[encoded data removed]",
      "text/plain": [
       "<Figure size 432x576 with 1 Axes>"
      ]
     },
     "metadata": {
      "needs_background": "light"
     },
     "output_type": "display_data"
    }
   ],
   "source": [
    "plt.figure(figsize=(6,8))\n",
    "rating = df['reviews.rating'].value_counts()\n",
    "ax = rating.plot(kind='bar')\n",
    "for i,v in enumerate(rating):\n",
    "    ax.text(i-0.2, v+200, str(v))\n",
    "plt.xlabel('Ratings')\n",
    "plt.ylabel('Number of ratings')\n",
    "plt.show()"
   ]
  },
  {
   "cell_type": "code",
   "execution_count": 126,
   "id": "dceaf0a1",
   "metadata": {},
   "outputs": [
    {
     "data": {
      "text/plain": [
       "Text(0, 0.5, 'Number of counts')"
      ]
     },
     "execution_count": 126,
     "metadata": {},
     "output_type": "execute_result"
    },
    {
     "data": {
      "image/png": "[encoded data removed]",
      "text/plain": [
       "<Figure size 288x360 with 1 Axes>"
      ]
     },
     "metadata": {
      "needs_background": "light"
     },
     "output_type": "display_data"
    }
   ],
   "source": [
    "plt.figure(figsize=(4,5))\n",
    "rec = df['reviews.doRecommend'].value_counts()\n",
    "ax = rec.plot(kind='bar')\n",
    "for i,v in enumerate(rec):\n",
    "    ax.text(i-0.1, v+200, str(v))\n",
    "plt.xlabel('Recommend to others')\n",
    "plt.ylabel('Number of counts')"
   ]
  },
  {
   "cell_type": "code",
   "execution_count": 132,
   "id": "2837434a",
   "metadata": {},
   "outputs": [],
   "source": [
    "df = df.rename(columns={'id' : 'product_id'})"
   ]
  },
  {
   "cell_type": "code",
   "execution_count": 133,
   "id": "a824e508",
   "metadata": {},
   "outputs": [
    {
     "data": {
      "text/plain": [
       "38"
      ]
     },
     "execution_count": 133,
     "metadata": {},
     "output_type": "execute_result"
    }
   ],
   "source": [
    "df['product_id'].nunique() # 38 unique products"
   ]
  },
  {
   "cell_type": "code",
   "execution_count": 134,
   "id": "c43f3892",
   "metadata": {},
   "outputs": [
    {
     "data": {
      "text/plain": [
       "AVphgVaX1cnluZ0-DR74    10965\n",
       "AVpfl8cLLJeJML43AE3S     6617\n",
       "AV1YE_muvKc47QAVgpwE     5056\n",
       "AV1YnRtnglJLPUi8IJmV     3176\n",
       "AVqkIhwDv8e3D1O-lebb     2814\n",
       "AVqVGWLKnnc1JgDc3jF1     1685\n",
       "AVpjEN4jLJeJML43rpUe     1038\n",
       "AVpfpK8KLJeJML43BCuD      636\n",
       "AVphPmHuilAPnD_x3E5h      580\n",
       "AVsRjfwAU2_QcyX9PHqe      400\n",
       "AV1YnR7wglJLPUi8IJmi      372\n",
       "AVqVGWQDv8e3D1O-ldFr      270\n",
       "AVpidLjVilAPnD_xEVpI      255\n",
       "AVqVGZNvQMlgsOJE6eUY      212\n",
       "AVqkIiKWnnc1JgDc3khH      158\n",
       "AVpfIfGA1cnluZ0-emyp       73\n",
       "AVqVGZO3nnc1JgDc3jGK       67\n",
       "AVpftoij1cnluZ0-p5n2       51\n",
       "AVqkIdntQMlgsOJE6fuB       30\n",
       "AVzRlorb-jtxr-f3ygvQ       16\n",
       "AVpf_4sUilAPnD_xlwYV       15\n",
       "AVpe7AsMilAPnD_xQ78G       15\n",
       "AVqkIj9snnc1JgDc3khU       14\n",
       "AVpfiBlyLJeJML43-4Tp       13\n",
       "AVphLY7v1cnluZ0-_Ty0       13\n",
       "AVpf_znpilAPnD_xlvAF       10\n",
       "AVpgdkC8ilAPnD_xsvyi       10\n",
       "AVzvXXwEvKc47QAVfRhx        8\n",
       "AVpggqsrLJeJML43O5zp        8\n",
       "AVqkIhxunnc1JgDc3kg_        7\n",
       "AVqVGZN9QMlgsOJE6eUZ        6\n",
       "AVzoGHhAglJLPUi8GfzY        6\n",
       "AVph0EeEilAPnD_x9myq        6\n",
       "AVpg3q4RLJeJML43TxA_        6\n",
       "AVpe9CMS1cnluZ0-aoC5        5\n",
       "AVzvXXxbvKc47QAVfRhy        3\n",
       "AVqkEM34QMlgsOJE6e8q        1\n",
       "AVpff7_VilAPnD_xc1E_        1\n",
       "Name: product_id, dtype: int64"
      ]
     },
     "execution_count": 134,
     "metadata": {},
     "output_type": "execute_result"
    }
   ],
   "source": [
    " df['product_id'].value_counts() # most popular product with almost 11k reviews"
   ]
  },
  {
   "cell_type": "code",
   "execution_count": 30,
   "id": "e546e19a",
   "metadata": {},
   "outputs": [],
   "source": [
    "df2 = df[['reviews.text','reviews.rating']]"
   ]
  },
  {
   "cell_type": "code",
   "execution_count": 31,
   "id": "87cdbcf9",
   "metadata": {},
   "outputs": [
    {
     "data": {
      "text/html": [
       "<div>\n",
       "<style scoped>\n",
       "    .dataframe tbody tr th:only-of-type {\n",
       "        vertical-align: middle;\n",
       "    }\n",
       "\n",
       "    .dataframe tbody tr th {\n",
       "        vertical-align: top;\n",
       "    }\n",
       "\n",
       "    .dataframe thead th {\n",
       "        text-align: right;\n",
       "    }\n",
       "</style>\n",
       "<table border=\"1\" class=\"dataframe\">\n",
       "  <thead>\n",
       "    <tr style=\"text-align: right;\">\n",
       "      <th></th>\n",
       "      <th>reviews.text</th>\n",
       "      <th>reviews.rating</th>\n",
       "    </tr>\n",
       "  </thead>\n",
       "  <tbody>\n",
       "    <tr>\n",
       "      <th>0</th>\n",
       "      <td>This product so far has not disappointed. My c...</td>\n",
       "      <td>5.0</td>\n",
       "    </tr>\n",
       "    <tr>\n",
       "      <th>1</th>\n",
       "      <td>great for beginner or experienced person. Boug...</td>\n",
       "      <td>5.0</td>\n",
       "    </tr>\n",
       "    <tr>\n",
       "      <th>2</th>\n",
       "      <td>Inexpensive tablet for him to use and learn on...</td>\n",
       "      <td>5.0</td>\n",
       "    </tr>\n",
       "    <tr>\n",
       "      <th>3</th>\n",
       "      <td>I've had my Fire HD 8 two weeks now and I love...</td>\n",
       "      <td>4.0</td>\n",
       "    </tr>\n",
       "    <tr>\n",
       "      <th>4</th>\n",
       "      <td>I bought this for my grand daughter when she c...</td>\n",
       "      <td>5.0</td>\n",
       "    </tr>\n",
       "  </tbody>\n",
       "</table>\n",
       "</div>"
      ],
      "text/plain": [
       "                                        reviews.text  reviews.rating\n",
       "0  This product so far has not disappointed. My c...             5.0\n",
       "1  great for beginner or experienced person. Boug...             5.0\n",
       "2  Inexpensive tablet for him to use and learn on...             5.0\n",
       "3  I've had my Fire HD 8 two weeks now and I love...             4.0\n",
       "4  I bought this for my grand daughter when she c...             5.0"
      ]
     },
     "execution_count": 31,
     "metadata": {},
     "output_type": "execute_result"
    }
   ],
   "source": [
    "df2.head()"
   ]
  },
  {
   "cell_type": "code",
   "execution_count": 34,
   "id": "9743f18a",
   "metadata": {},
   "outputs": [
    {
     "name": "stdout",
     "output_type": "stream",
     "text": [
      "<class 'pandas.core.frame.DataFrame'>\n",
      "RangeIndex: 34660 entries, 0 to 34659\n",
      "Data columns (total 2 columns):\n",
      " #   Column          Non-Null Count  Dtype  \n",
      "---  ------          --------------  -----  \n",
      " 0   reviews.text    34659 non-null  object \n",
      " 1   reviews.rating  34627 non-null  float64\n",
      "dtypes: float64(1), object(1)\n",
      "memory usage: 541.7+ KB\n"
     ]
    }
   ],
   "source": [
    "df2.info()"
   ]
  },
  {
   "cell_type": "code",
   "execution_count": 35,
   "id": "c73bc5f9",
   "metadata": {},
   "outputs": [
    {
     "data": {
      "text/plain": [
       "'This product so far has not disappointed. My children love to use it and I like the ability to monitor control what content they see with ease.'"
      ]
     },
     "execution_count": 35,
     "metadata": {},
     "output_type": "execute_result"
    }
   ],
   "source": [
    "df2['reviews.text'][0]"
   ]
  },
  {
   "cell_type": "code",
   "execution_count": null,
   "id": "978b796f",
   "metadata": {},
   "outputs": [],
   "source": []
  }
 ],
 "metadata": {
  "kernelspec": {
   "display_name": "Python 3",
   "language": "python",
   "name": "python3"
  },
  "language_info": {
   "codemirror_mode": {
    "name": "ipython",
    "version": 3
   },
   "file_extension": ".py",
   "mimetype": "text/x-python",
   "name": "python",
   "nbconvert_exporter": "python",
   "pygments_lexer": "ipython3",
   "version": "3.8.8"
  }
 },
 "nbformat": 4,
 "nbformat_minor": 5
}
