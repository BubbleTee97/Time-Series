{
 "cells": [
  {
   "cell_type": "markdown",
   "id": "f89145a1",
   "metadata": {},
   "source": [
    "# Dataset source: \n",
    "https://nijianmo.github.io/amazon/index.html"
   ]
  },
  {
   "cell_type": "code",
   "execution_count": 134,
   "id": "59ce759c",
   "metadata": {},
   "outputs": [],
   "source": [
    "import pandas as pd\n",
    "import numpy as np\n",
    "import matplotlib.pyplot as plt\n",
    "import seaborn as sns"
   ]
  },
  {
   "cell_type": "code",
   "execution_count": 135,
   "id": "4cd3af94",
   "metadata": {},
   "outputs": [],
   "source": [
    "df = pd.read_json(\"Movies_and_TV_5.json.gz\", compression='gzip', lines=True)"
   ]
  },
  {
   "cell_type": "code",
   "execution_count": 136,
   "id": "8737dc5b",
   "metadata": {},
   "outputs": [],
   "source": [
    "df10 = df \n",
    "# Save original backup copy to df1"
   ]
  },
  {
   "cell_type": "code",
   "execution_count": 137,
   "id": "6a3fce2c",
   "metadata": {},
   "outputs": [
    {
     "data": {
      "text/html": [
       "<div>\n",
       "<style scoped>\n",
       "    .dataframe tbody tr th:only-of-type {\n",
       "        vertical-align: middle;\n",
       "    }\n",
       "\n",
       "    .dataframe tbody tr th {\n",
       "        vertical-align: top;\n",
       "    }\n",
       "\n",
       "    .dataframe thead th {\n",
       "        text-align: right;\n",
       "    }\n",
       "</style>\n",
       "<table border=\"1\" class=\"dataframe\">\n",
       "  <thead>\n",
       "    <tr style=\"text-align: right;\">\n",
       "      <th></th>\n",
       "      <th>overall</th>\n",
       "      <th>verified</th>\n",
       "      <th>reviewTime</th>\n",
       "      <th>reviewerID</th>\n",
       "      <th>asin</th>\n",
       "      <th>style</th>\n",
       "      <th>reviewerName</th>\n",
       "      <th>reviewText</th>\n",
       "      <th>summary</th>\n",
       "      <th>unixReviewTime</th>\n",
       "      <th>vote</th>\n",
       "      <th>image</th>\n",
       "    </tr>\n",
       "  </thead>\n",
       "  <tbody>\n",
       "    <tr>\n",
       "      <th>0</th>\n",
       "      <td>5</td>\n",
       "      <td>True</td>\n",
       "      <td>11 9, 2012</td>\n",
       "      <td>A2M1CU2IRZG0K9</td>\n",
       "      <td>0005089549</td>\n",
       "      <td>{'Format:': ' VHS Tape'}</td>\n",
       "      <td>Terri</td>\n",
       "      <td>So sorry I didn't purchase this years ago when...</td>\n",
       "      <td>Amazing!</td>\n",
       "      <td>1352419200</td>\n",
       "      <td>NaN</td>\n",
       "      <td>NaN</td>\n",
       "    </tr>\n",
       "    <tr>\n",
       "      <th>1</th>\n",
       "      <td>5</td>\n",
       "      <td>True</td>\n",
       "      <td>12 30, 2011</td>\n",
       "      <td>AFTUJYISOFHY6</td>\n",
       "      <td>0005089549</td>\n",
       "      <td>{'Format:': ' VHS Tape'}</td>\n",
       "      <td>Melissa D. Abercrombie</td>\n",
       "      <td>Believe me when I tell you that you will recei...</td>\n",
       "      <td>Great Gospel VHS of the Cathedrals!</td>\n",
       "      <td>1325203200</td>\n",
       "      <td>NaN</td>\n",
       "      <td>NaN</td>\n",
       "    </tr>\n",
       "    <tr>\n",
       "      <th>2</th>\n",
       "      <td>5</td>\n",
       "      <td>True</td>\n",
       "      <td>04 21, 2005</td>\n",
       "      <td>A3JVF9Y53BEOGC</td>\n",
       "      <td>000503860X</td>\n",
       "      <td>{'Format:': ' DVD'}</td>\n",
       "      <td>Anthony Thompson</td>\n",
       "      <td>I have seen X live many times, both in the ear...</td>\n",
       "      <td>A great document of a great band</td>\n",
       "      <td>1114041600</td>\n",
       "      <td>11</td>\n",
       "      <td>NaN</td>\n",
       "    </tr>\n",
       "    <tr>\n",
       "      <th>3</th>\n",
       "      <td>5</td>\n",
       "      <td>True</td>\n",
       "      <td>04 6, 2005</td>\n",
       "      <td>A12VPEOEZS1KTC</td>\n",
       "      <td>000503860X</td>\n",
       "      <td>{'Format:': ' DVD'}</td>\n",
       "      <td>JadeRain</td>\n",
       "      <td>I was so excited for this!  Finally, a live co...</td>\n",
       "      <td>YES!!  X LIVE!!</td>\n",
       "      <td>1112745600</td>\n",
       "      <td>5</td>\n",
       "      <td>NaN</td>\n",
       "    </tr>\n",
       "    <tr>\n",
       "      <th>4</th>\n",
       "      <td>5</td>\n",
       "      <td>True</td>\n",
       "      <td>12 3, 2010</td>\n",
       "      <td>ATLZNVLYKP9AZ</td>\n",
       "      <td>000503860X</td>\n",
       "      <td>{'Format:': ' DVD'}</td>\n",
       "      <td>T. Fisher</td>\n",
       "      <td>X is one of the best punk bands ever. I don't ...</td>\n",
       "      <td>X have still got it</td>\n",
       "      <td>1291334400</td>\n",
       "      <td>5</td>\n",
       "      <td>NaN</td>\n",
       "    </tr>\n",
       "  </tbody>\n",
       "</table>\n",
       "</div>"
      ],
      "text/plain": [
       "   overall  verified   reviewTime      reviewerID        asin  \\\n",
       "0        5      True   11 9, 2012  A2M1CU2IRZG0K9  0005089549   \n",
       "1        5      True  12 30, 2011   AFTUJYISOFHY6  0005089549   \n",
       "2        5      True  04 21, 2005  A3JVF9Y53BEOGC  000503860X   \n",
       "3        5      True   04 6, 2005  A12VPEOEZS1KTC  000503860X   \n",
       "4        5      True   12 3, 2010   ATLZNVLYKP9AZ  000503860X   \n",
       "\n",
       "                      style            reviewerName  \\\n",
       "0  {'Format:': ' VHS Tape'}                   Terri   \n",
       "1  {'Format:': ' VHS Tape'}  Melissa D. Abercrombie   \n",
       "2       {'Format:': ' DVD'}        Anthony Thompson   \n",
       "3       {'Format:': ' DVD'}                JadeRain   \n",
       "4       {'Format:': ' DVD'}               T. Fisher   \n",
       "\n",
       "                                          reviewText  \\\n",
       "0  So sorry I didn't purchase this years ago when...   \n",
       "1  Believe me when I tell you that you will recei...   \n",
       "2  I have seen X live many times, both in the ear...   \n",
       "3  I was so excited for this!  Finally, a live co...   \n",
       "4  X is one of the best punk bands ever. I don't ...   \n",
       "\n",
       "                               summary  unixReviewTime vote image  \n",
       "0                             Amazing!      1352419200  NaN   NaN  \n",
       "1  Great Gospel VHS of the Cathedrals!      1325203200  NaN   NaN  \n",
       "2     A great document of a great band      1114041600   11   NaN  \n",
       "3                      YES!!  X LIVE!!      1112745600    5   NaN  \n",
       "4                  X have still got it      1291334400    5   NaN  "
      ]
     },
     "execution_count": 137,
     "metadata": {},
     "output_type": "execute_result"
    }
   ],
   "source": [
    "df.head()"
   ]
  },
  {
   "cell_type": "code",
   "execution_count": 138,
   "id": "a8d3f0de",
   "metadata": {},
   "outputs": [
    {
     "name": "stdout",
     "output_type": "stream",
     "text": [
      "<class 'pandas.core.frame.DataFrame'>\n",
      "RangeIndex: 3410019 entries, 0 to 3410018\n",
      "Data columns (total 12 columns):\n",
      " #   Column          Dtype \n",
      "---  ------          ----- \n",
      " 0   overall         int64 \n",
      " 1   verified        bool  \n",
      " 2   reviewTime      object\n",
      " 3   reviewerID      object\n",
      " 4   asin            object\n",
      " 5   style           object\n",
      " 6   reviewerName    object\n",
      " 7   reviewText      object\n",
      " 8   summary         object\n",
      " 9   unixReviewTime  int64 \n",
      " 10  vote            object\n",
      " 11  image           object\n",
      "dtypes: bool(1), int64(2), object(9)\n",
      "memory usage: 289.4+ MB\n"
     ]
    }
   ],
   "source": [
    "df.info()"
   ]
  },
  {
   "cell_type": "code",
   "execution_count": 139,
   "id": "4ef475f4",
   "metadata": {},
   "outputs": [
    {
     "data": {
      "text/plain": [
       "Index(['overall', 'verified', 'reviewTime', 'reviewerID', 'asin', 'style',\n",
       "       'reviewerName', 'reviewText', 'summary', 'unixReviewTime', 'vote',\n",
       "       'image'],\n",
       "      dtype='object')"
      ]
     },
     "execution_count": 139,
     "metadata": {},
     "output_type": "execute_result"
    }
   ],
   "source": [
    "df.columns"
   ]
  },
  {
   "cell_type": "markdown",
   "id": "8ca35f57",
   "metadata": {},
   "source": [
    "# Data Cleaning"
   ]
  },
  {
   "cell_type": "code",
   "execution_count": 140,
   "id": "ae8103f6",
   "metadata": {},
   "outputs": [
    {
     "data": {
      "text/plain": [
       "overall                 0\n",
       "verified                0\n",
       "reviewTime              0\n",
       "reviewerID              0\n",
       "asin                    0\n",
       "style              174207\n",
       "reviewerName           82\n",
       "reviewText           1581\n",
       "summary               640\n",
       "unixReviewTime          0\n",
       "vote              2768010\n",
       "image             3403048\n",
       "dtype: int64"
      ]
     },
     "execution_count": 140,
     "metadata": {},
     "output_type": "execute_result"
    }
   ],
   "source": [
    "df.isnull().sum()\n",
    "# will be dropping null for column 'styles' ~5% of data"
   ]
  },
  {
   "cell_type": "code",
   "execution_count": 141,
   "id": "c4b02347",
   "metadata": {},
   "outputs": [
    {
     "data": {
      "text/plain": [
       "{'Format:': ' DVD'}                                1645586\n",
       "{'Format:': ' Amazon Video'}                       1027966\n",
       "{'Format:': ' Blu-ray'}                             335181\n",
       "{'Format:': ' Prime Video'}                         158950\n",
       "{'Format:': ' VHS Tape'}                             61821\n",
       "{'Format:': ' HD DVD'}                                1475\n",
       "{'Format:': ' DVD-R'}                                 1428\n",
       "{'Format:': ' Theatrical Release'}                     801\n",
       "{'Format:': ' Audio CD'}                               657\n",
       "{'Format:': ' DVD-ROM'}                                474\n",
       "{'Format:': ' UMD for PSP'}                            352\n",
       "{'Format:': ' Amazon Instant Video'}                   250\n",
       "{'Format:': ' Electronics'}                            116\n",
       "{'Format:': ' Hardcover'}                              107\n",
       "{'Format:': ' Interactive DVD'}                         97\n",
       "{'Format:': ' Paperback'}                               86\n",
       "{'Format:': ' Laser Disc'}                              80\n",
       "{'Format:': ' DVD Audio'}                               55\n",
       "{'Format:': ' Toy'}                                     36\n",
       "{'Format:': ' MP3 Music'}                               33\n",
       "{'Format:': ' Kindle Edition'}                          32\n",
       "{'Format:': ' Unknown Binding'}                         32\n",
       "{'Format:': ' CD-ROM'}                                  26\n",
       "{'Format:': ' Misc.'}                                   20\n",
       "{'Format:': ' Staple Bound'}                            19\n",
       "{'Size:': ' unknown'}                                   18\n",
       "{'Format:': ' Video CD'}                                14\n",
       "{'Format:': ' Wireless Phone Accessory'}                12\n",
       "{'Format:': ' Kindle Edition with Audio/Video'}         11\n",
       "{'Format:': ' Grocery'}                                  9\n",
       "{'Format:': ' Kitchen'}                                  8\n",
       "{'Format:': ' Audio Cassette'}                           8\n",
       "{'Size:': ' Dolphins'}                                   8\n",
       "{'Format:': ' Office Product'}                           7\n",
       "{'Format:': ' Vinyl'}                                    5\n",
       "{'Format:': ' Mass Market Paperback'}                    5\n",
       "{'Shape:': ' Hipcentric'}                                5\n",
       "{'Format:': ' Videotape'}                                5\n",
       "{'Format:': ' Audible Audiobook'}                        3\n",
       "{'Format:': ' Video Game'}                               3\n",
       "{'Shape:': ' Omnicentric'}                               2\n",
       "{'Format:': ' MiniDisc'}                                 2\n",
       "{'Format:': ' Misc. Supplies'}                           2\n",
       "{'Format:': ' Unbound'}                                  1\n",
       "{'Format:': ' S-VHS'}                                    1\n",
       "{'Format:': ' Product Bundle'}                           1\n",
       "{'Format:': ' MP3 CD'}                                   1\n",
       "{'Format:': ' Accessory'}                                1\n",
       "Name: style, dtype: int64"
      ]
     },
     "execution_count": 141,
     "metadata": {},
     "output_type": "execute_result"
    }
   ],
   "source": [
    "df['style'].value_counts() "
   ]
  },
  {
   "cell_type": "code",
   "execution_count": 142,
   "id": "d20ce62f",
   "metadata": {},
   "outputs": [
    {
     "data": {
      "text/plain": [
       "0          So sorry I didn't purchase this years ago when...\n",
       "1          Believe me when I tell you that you will recei...\n",
       "2          I have seen X live many times, both in the ear...\n",
       "3          I was so excited for this!  Finally, a live co...\n",
       "4          X is one of the best punk bands ever. I don't ...\n",
       "                                 ...                        \n",
       "3410014    The singing parts are very good as expected fr...\n",
       "3410015    This recording of the 2015 production by the M...\n",
       "3410016    I do not wish to write a review about this rel...\n",
       "3410017                                       It was a gift.\n",
       "3410018    This Otello originates from the Salzburg Festi...\n",
       "Name: reviewText, Length: 3410019, dtype: object"
      ]
     },
     "execution_count": 142,
     "metadata": {},
     "output_type": "execute_result"
    }
   ],
   "source": [
    "df['reviewText']"
   ]
  },
  {
   "cell_type": "code",
   "execution_count": 143,
   "id": "6f3e7f29",
   "metadata": {},
   "outputs": [
    {
     "data": {
      "text/plain": [
       "\"So sorry I didn't purchase this years ago when it first came out!!  This is very good and entertaining!  We absolutely loved it and anticipate seeing it repeatedly.  We actually wore out the cassette years back, so we also purchased this same product on cd.  Best purchase we made out of all!  Would purchase on dvd if we could find one.\""
      ]
     },
     "execution_count": 143,
     "metadata": {},
     "output_type": "execute_result"
    }
   ],
   "source": [
    "df['reviewText'][0]"
   ]
  },
  {
   "cell_type": "code",
   "execution_count": 144,
   "id": "17b811dc",
   "metadata": {},
   "outputs": [],
   "source": [
    "# drop null values from these columns\n",
    "df = df.dropna(subset=['style','reviewerName', 'reviewText', 'summary'])"
   ]
  },
  {
   "cell_type": "code",
   "execution_count": 145,
   "id": "834d5b25",
   "metadata": {},
   "outputs": [
    {
     "name": "stderr",
     "output_type": "stream",
     "text": [
      "C:\\Users\\eugen\\AppData\\Local\\Temp\\ipykernel_360\\2848868238.py:2: SettingWithCopyWarning: \n",
      "A value is trying to be set on a copy of a slice from a DataFrame\n",
      "\n",
      "See the caveats in the documentation: https://pandas.pydata.org/pandas-docs/stable/user_guide/indexing.html#returning-a-view-versus-a-copy\n",
      "  df.drop(['vote','image','unixReviewTime'],axis=1,inplace=True)\n"
     ]
    }
   ],
   "source": [
    "# drop these columns\n",
    "df.drop(['vote','image','unixReviewTime'],axis=1,inplace=True)"
   ]
  },
  {
   "cell_type": "code",
   "execution_count": 146,
   "id": "8cc4c56a",
   "metadata": {},
   "outputs": [
    {
     "data": {
      "text/plain": [
       "overall         0\n",
       "verified        0\n",
       "reviewTime      0\n",
       "reviewerID      0\n",
       "asin            0\n",
       "style           0\n",
       "reviewerName    0\n",
       "reviewText      0\n",
       "summary         0\n",
       "dtype: int64"
      ]
     },
     "execution_count": 146,
     "metadata": {},
     "output_type": "execute_result"
    }
   ],
   "source": [
    "df.isnull().sum()"
   ]
  },
  {
   "cell_type": "code",
   "execution_count": 147,
   "id": "014f27cb",
   "metadata": {},
   "outputs": [],
   "source": [
    "duplicated_reviews = df[df.duplicated(['reviewText'], keep=False)]"
   ]
  },
  {
   "cell_type": "code",
   "execution_count": 148,
   "id": "ba90dc5b",
   "metadata": {},
   "outputs": [
    {
     "name": "stdout",
     "output_type": "stream",
     "text": [
      "<class 'pandas.core.frame.DataFrame'>\n",
      "Int64Index: 868955 entries, 29 to 3410018\n",
      "Data columns (total 9 columns):\n",
      " #   Column        Non-Null Count   Dtype \n",
      "---  ------        --------------   ----- \n",
      " 0   overall       868955 non-null  int64 \n",
      " 1   verified      868955 non-null  bool  \n",
      " 2   reviewTime    868955 non-null  object\n",
      " 3   reviewerID    868955 non-null  object\n",
      " 4   asin          868955 non-null  object\n",
      " 5   style         868955 non-null  object\n",
      " 6   reviewerName  868955 non-null  object\n",
      " 7   reviewText    868955 non-null  object\n",
      " 8   summary       868955 non-null  object\n",
      "dtypes: bool(1), int64(1), object(7)\n",
      "memory usage: 60.5+ MB\n"
     ]
    }
   ],
   "source": [
    "duplicated_reviews.info()\n",
    "# we have about 860k duplicates of text review\n",
    "# lets remove them, which is about 25% of the dataset"
   ]
  },
  {
   "cell_type": "code",
   "execution_count": 149,
   "id": "3032fbac",
   "metadata": {},
   "outputs": [],
   "source": [
    "df = df.drop_duplicates(subset=['reviewText'])"
   ]
  },
  {
   "cell_type": "code",
   "execution_count": 150,
   "id": "fdc74340",
   "metadata": {},
   "outputs": [
    {
     "name": "stdout",
     "output_type": "stream",
     "text": [
      "<class 'pandas.core.frame.DataFrame'>\n",
      "Int64Index: 2560768 entries, 0 to 3410016\n",
      "Data columns (total 9 columns):\n",
      " #   Column        Dtype \n",
      "---  ------        ----- \n",
      " 0   overall       int64 \n",
      " 1   verified      bool  \n",
      " 2   reviewTime    object\n",
      " 3   reviewerID    object\n",
      " 4   asin          object\n",
      " 5   style         object\n",
      " 6   reviewerName  object\n",
      " 7   reviewText    object\n",
      " 8   summary       object\n",
      "dtypes: bool(1), int64(1), object(7)\n",
      "memory usage: 178.3+ MB\n"
     ]
    }
   ],
   "source": [
    "df.info()"
   ]
  },
  {
   "cell_type": "code",
   "execution_count": 151,
   "id": "1a3ae86c",
   "metadata": {},
   "outputs": [
    {
     "data": {
      "text/plain": [
       "str"
      ]
     },
     "execution_count": 151,
     "metadata": {},
     "output_type": "execute_result"
    }
   ],
   "source": [
    "type(df['reviewTime'][0]) # time in str format, lets change it to datetime object"
   ]
  },
  {
   "cell_type": "code",
   "execution_count": 152,
   "id": "8deb15ed",
   "metadata": {},
   "outputs": [],
   "source": [
    "df['reviewTime'] = pd.to_datetime(df['reviewTime'], format='%m %d, %Y')"
   ]
  },
  {
   "cell_type": "code",
   "execution_count": 153,
   "id": "979a601a",
   "metadata": {},
   "outputs": [
    {
     "data": {
      "text/plain": [
       "pandas._libs.tslibs.timestamps.Timestamp"
      ]
     },
     "execution_count": 153,
     "metadata": {},
     "output_type": "execute_result"
    }
   ],
   "source": [
    "type(df['reviewTime'][0])"
   ]
  },
  {
   "cell_type": "code",
   "execution_count": 154,
   "id": "9472f0cd",
   "metadata": {},
   "outputs": [
    {
     "name": "stderr",
     "output_type": "stream",
     "text": [
      "C:\\Users\\eugen\\AppData\\Local\\Temp\\ipykernel_360\\3300267488.py:1: FutureWarning: Treating datetime data as categorical rather than numeric in `.describe` is deprecated and will be removed in a future version of pandas. Specify `datetime_is_numeric=True` to silence this warning and adopt the future behavior now.\n",
      "  df['reviewTime'].describe()\n"
     ]
    },
    {
     "data": {
      "text/plain": [
       "count                 2560768\n",
       "unique                   7285\n",
       "top       2015-02-20 00:00:00\n",
       "freq                     6021\n",
       "first     1997-12-02 00:00:00\n",
       "last      2018-10-01 00:00:00\n",
       "Name: reviewTime, dtype: object"
      ]
     },
     "execution_count": 154,
     "metadata": {},
     "output_type": "execute_result"
    }
   ],
   "source": [
    "df['reviewTime'].describe()"
   ]
  },
  {
   "cell_type": "code",
   "execution_count": 155,
   "id": "3f8c7358",
   "metadata": {},
   "outputs": [],
   "source": [
    "df = df.reset_index(drop=True)"
   ]
  },
  {
   "cell_type": "code",
   "execution_count": 156,
   "id": "358c5563",
   "metadata": {},
   "outputs": [],
   "source": [
    "df = df.rename(columns={'overall':'rating','asin':'productID','style':'productType'})"
   ]
  },
  {
   "cell_type": "code",
   "execution_count": 157,
   "id": "2bcd3c76",
   "metadata": {},
   "outputs": [],
   "source": [
    "# Clone to another df called df1, will be setting index to date for this df1"
   ]
  },
  {
   "cell_type": "code",
   "execution_count": 158,
   "id": "76271a3e",
   "metadata": {},
   "outputs": [],
   "source": [
    "df1 = df"
   ]
  },
  {
   "cell_type": "code",
   "execution_count": 159,
   "id": "61e8e0ed",
   "metadata": {},
   "outputs": [],
   "source": [
    "df1 = df1.set_index('reviewTime')"
   ]
  },
  {
   "cell_type": "code",
   "execution_count": 160,
   "id": "5d28e3c0",
   "metadata": {},
   "outputs": [],
   "source": [
    "df1 = df1.sort_index()"
   ]
  },
  {
   "cell_type": "code",
   "execution_count": 161,
   "id": "5e06f813",
   "metadata": {},
   "outputs": [
    {
     "data": {
      "text/html": [
       "<div>\n",
       "<style scoped>\n",
       "    .dataframe tbody tr th:only-of-type {\n",
       "        vertical-align: middle;\n",
       "    }\n",
       "\n",
       "    .dataframe tbody tr th {\n",
       "        vertical-align: top;\n",
       "    }\n",
       "\n",
       "    .dataframe thead th {\n",
       "        text-align: right;\n",
       "    }\n",
       "</style>\n",
       "<table border=\"1\" class=\"dataframe\">\n",
       "  <thead>\n",
       "    <tr style=\"text-align: right;\">\n",
       "      <th></th>\n",
       "      <th>rating</th>\n",
       "      <th>verified</th>\n",
       "      <th>reviewerID</th>\n",
       "      <th>productID</th>\n",
       "      <th>productType</th>\n",
       "      <th>reviewerName</th>\n",
       "      <th>reviewText</th>\n",
       "      <th>summary</th>\n",
       "    </tr>\n",
       "    <tr>\n",
       "      <th>reviewTime</th>\n",
       "      <th></th>\n",
       "      <th></th>\n",
       "      <th></th>\n",
       "      <th></th>\n",
       "      <th></th>\n",
       "      <th></th>\n",
       "      <th></th>\n",
       "      <th></th>\n",
       "    </tr>\n",
       "  </thead>\n",
       "  <tbody>\n",
       "    <tr>\n",
       "      <th>1997-12-02</th>\n",
       "      <td>5</td>\n",
       "      <td>False</td>\n",
       "      <td>A28BJ12568I17K</td>\n",
       "      <td>6304123523</td>\n",
       "      <td>{'Format:': ' VHS Tape'}</td>\n",
       "      <td>Mire Uno</td>\n",
       "      <td>This TV animation series opened up many disput...</td>\n",
       "      <td>It arose \"Evangelion Phenomina\" in Japan</td>\n",
       "    </tr>\n",
       "    <tr>\n",
       "      <th>1998-01-03</th>\n",
       "      <td>4</td>\n",
       "      <td>False</td>\n",
       "      <td>A30Q8X8B1S3GGT</td>\n",
       "      <td>6300215695</td>\n",
       "      <td>{'Format:': ' VHS Tape'}</td>\n",
       "      <td>Mark Savary</td>\n",
       "      <td>Here's a semi-remake of \"Holiday Inn\" (1942), ...</td>\n",
       "      <td>Holiday favorite with Bing Crosby and Danny Kaye!</td>\n",
       "    </tr>\n",
       "    <tr>\n",
       "      <th>1998-01-03</th>\n",
       "      <td>4</td>\n",
       "      <td>True</td>\n",
       "      <td>A3TQZ521KSRUZ1</td>\n",
       "      <td>B0001NBMEY</td>\n",
       "      <td>{'Format:': ' VHS Tape'}</td>\n",
       "      <td>Anthony Scheinman</td>\n",
       "      <td>This verison (which was first made as a theatr...</td>\n",
       "      <td>A version that will keep viewers riveted!</td>\n",
       "    </tr>\n",
       "    <tr>\n",
       "      <th>1998-02-05</th>\n",
       "      <td>5</td>\n",
       "      <td>False</td>\n",
       "      <td>A28BJ12568I17K</td>\n",
       "      <td>6303118240</td>\n",
       "      <td>{'Format:': ' VHS Tape'}</td>\n",
       "      <td>Mire Uno</td>\n",
       "      <td>Animation by Hayao Miyazaki and one of my favo...</td>\n",
       "      <td>Nostalgy for Japan in 50s</td>\n",
       "    </tr>\n",
       "    <tr>\n",
       "      <th>1998-02-24</th>\n",
       "      <td>5</td>\n",
       "      <td>False</td>\n",
       "      <td>A28BJ12568I17K</td>\n",
       "      <td>6304164084</td>\n",
       "      <td>{'Format:': ' VHS Tape'}</td>\n",
       "      <td>Mire Uno</td>\n",
       "      <td>Japanese title is Macross and quite long TV an...</td>\n",
       "      <td>Macross: well loved saga in Japan</td>\n",
       "    </tr>\n",
       "    <tr>\n",
       "      <th>...</th>\n",
       "      <td>...</td>\n",
       "      <td>...</td>\n",
       "      <td>...</td>\n",
       "      <td>...</td>\n",
       "      <td>...</td>\n",
       "      <td>...</td>\n",
       "      <td>...</td>\n",
       "      <td>...</td>\n",
       "    </tr>\n",
       "    <tr>\n",
       "      <th>2018-09-28</th>\n",
       "      <td>4</td>\n",
       "      <td>True</td>\n",
       "      <td>A2TRYG5M981MG8</td>\n",
       "      <td>B01FRCEVDM</td>\n",
       "      <td>{'Format:': ' DVD'}</td>\n",
       "      <td>Robert E</td>\n",
       "      <td>I enjoyed it but can't say more so as not to s...</td>\n",
       "      <td>Interesting Movie</td>\n",
       "    </tr>\n",
       "    <tr>\n",
       "      <th>2018-09-29</th>\n",
       "      <td>5</td>\n",
       "      <td>True</td>\n",
       "      <td>A1Y5BG2UI932NA</td>\n",
       "      <td>B01HEXXM9G</td>\n",
       "      <td>{'Format:': ' Blu-ray'}</td>\n",
       "      <td>Crazzie1</td>\n",
       "      <td>I must say, this one is a really good one. I'd...</td>\n",
       "      <td>Dont pass it up.</td>\n",
       "    </tr>\n",
       "    <tr>\n",
       "      <th>2018-09-29</th>\n",
       "      <td>4</td>\n",
       "      <td>True</td>\n",
       "      <td>A26NCB8P62PZAW</td>\n",
       "      <td>B01GF9N7FE</td>\n",
       "      <td>{'Format:': ' DVD'}</td>\n",
       "      <td>S. Karl</td>\n",
       "      <td>Was there a chance that this movie would ever ...</td>\n",
       "      <td>Not for the Oscar crowd.</td>\n",
       "    </tr>\n",
       "    <tr>\n",
       "      <th>2018-09-29</th>\n",
       "      <td>4</td>\n",
       "      <td>False</td>\n",
       "      <td>A2O4V3MCB7EPPU</td>\n",
       "      <td>B01H2G0LX0</td>\n",
       "      <td>{'Format:': ' DVD'}</td>\n",
       "      <td>Bellingham Bookworm</td>\n",
       "      <td>Susan Sarandon is a widow who just wants to sh...</td>\n",
       "      <td>A sweet and lovely movie</td>\n",
       "    </tr>\n",
       "    <tr>\n",
       "      <th>2018-10-01</th>\n",
       "      <td>5</td>\n",
       "      <td>True</td>\n",
       "      <td>A3JJ21YCMGSKGH</td>\n",
       "      <td>B01HD2TOWW</td>\n",
       "      <td>{'Format:': ' DVD'}</td>\n",
       "      <td>Amazon Customer</td>\n",
       "      <td>Me Natalie was released in 1969. It starred Pa...</td>\n",
       "      <td>Wnderful Patty Duke Film !</td>\n",
       "    </tr>\n",
       "  </tbody>\n",
       "</table>\n",
       "<p>2560768 rows × 8 columns</p>\n",
       "</div>"
      ],
      "text/plain": [
       "            rating  verified      reviewerID   productID  \\\n",
       "reviewTime                                                 \n",
       "1997-12-02       5     False  A28BJ12568I17K  6304123523   \n",
       "1998-01-03       4     False  A30Q8X8B1S3GGT  6300215695   \n",
       "1998-01-03       4      True  A3TQZ521KSRUZ1  B0001NBMEY   \n",
       "1998-02-05       5     False  A28BJ12568I17K  6303118240   \n",
       "1998-02-24       5     False  A28BJ12568I17K  6304164084   \n",
       "...            ...       ...             ...         ...   \n",
       "2018-09-28       4      True  A2TRYG5M981MG8  B01FRCEVDM   \n",
       "2018-09-29       5      True  A1Y5BG2UI932NA  B01HEXXM9G   \n",
       "2018-09-29       4      True  A26NCB8P62PZAW  B01GF9N7FE   \n",
       "2018-09-29       4     False  A2O4V3MCB7EPPU  B01H2G0LX0   \n",
       "2018-10-01       5      True  A3JJ21YCMGSKGH  B01HD2TOWW   \n",
       "\n",
       "                         productType         reviewerName  \\\n",
       "reviewTime                                                  \n",
       "1997-12-02  {'Format:': ' VHS Tape'}             Mire Uno   \n",
       "1998-01-03  {'Format:': ' VHS Tape'}          Mark Savary   \n",
       "1998-01-03  {'Format:': ' VHS Tape'}    Anthony Scheinman   \n",
       "1998-02-05  {'Format:': ' VHS Tape'}             Mire Uno   \n",
       "1998-02-24  {'Format:': ' VHS Tape'}             Mire Uno   \n",
       "...                              ...                  ...   \n",
       "2018-09-28       {'Format:': ' DVD'}             Robert E   \n",
       "2018-09-29   {'Format:': ' Blu-ray'}             Crazzie1   \n",
       "2018-09-29       {'Format:': ' DVD'}              S. Karl   \n",
       "2018-09-29       {'Format:': ' DVD'}  Bellingham Bookworm   \n",
       "2018-10-01       {'Format:': ' DVD'}      Amazon Customer   \n",
       "\n",
       "                                                   reviewText  \\\n",
       "reviewTime                                                      \n",
       "1997-12-02  This TV animation series opened up many disput...   \n",
       "1998-01-03  Here's a semi-remake of \"Holiday Inn\" (1942), ...   \n",
       "1998-01-03  This verison (which was first made as a theatr...   \n",
       "1998-02-05  Animation by Hayao Miyazaki and one of my favo...   \n",
       "1998-02-24  Japanese title is Macross and quite long TV an...   \n",
       "...                                                       ...   \n",
       "2018-09-28  I enjoyed it but can't say more so as not to s...   \n",
       "2018-09-29  I must say, this one is a really good one. I'd...   \n",
       "2018-09-29  Was there a chance that this movie would ever ...   \n",
       "2018-09-29  Susan Sarandon is a widow who just wants to sh...   \n",
       "2018-10-01  Me Natalie was released in 1969. It starred Pa...   \n",
       "\n",
       "                                                      summary  \n",
       "reviewTime                                                     \n",
       "1997-12-02           It arose \"Evangelion Phenomina\" in Japan  \n",
       "1998-01-03  Holiday favorite with Bing Crosby and Danny Kaye!  \n",
       "1998-01-03          A version that will keep viewers riveted!  \n",
       "1998-02-05                          Nostalgy for Japan in 50s  \n",
       "1998-02-24                  Macross: well loved saga in Japan  \n",
       "...                                                       ...  \n",
       "2018-09-28                                  Interesting Movie  \n",
       "2018-09-29                                   Dont pass it up.  \n",
       "2018-09-29                           Not for the Oscar crowd.  \n",
       "2018-09-29                           A sweet and lovely movie  \n",
       "2018-10-01                         Wnderful Patty Duke Film !  \n",
       "\n",
       "[2560768 rows x 8 columns]"
      ]
     },
     "execution_count": 161,
     "metadata": {},
     "output_type": "execute_result"
    }
   ],
   "source": [
    "df1"
   ]
  },
  {
   "cell_type": "code",
   "execution_count": 162,
   "id": "1e8a2683",
   "metadata": {},
   "outputs": [
    {
     "data": {
      "image/png": "[encoded data removed]",
      "text/plain": [
       "<Figure size 1000x600 with 1 Axes>"
      ]
     },
     "metadata": {},
     "output_type": "display_data"
    }
   ],
   "source": [
    "df_count = df1.resample('D').count()\n",
    "\n",
    "# Create a line plot of the number of data points across the datetime index\n",
    "df_count.plot(kind='line', figsize=(10, 6), legend=None, color='#00ace6')\n",
    "plt.xlabel('Date')\n",
    "plt.ylabel('Number of Reviews per Day')\n",
    "plt.title('Daily Reviews')\n",
    "plt.show()"
   ]
  },
  {
   "cell_type": "code",
   "execution_count": 163,
   "id": "9507f443",
   "metadata": {},
   "outputs": [],
   "source": [
    "# df1['year'] = df1['reviewTime'].dt.year()"
   ]
  },
  {
   "cell_type": "code",
   "execution_count": 164,
   "id": "5ac766e5",
   "metadata": {},
   "outputs": [
    {
     "data": {
      "image/png": "[encoded data removed]",
      "text/plain": [
       "<Figure size 500x600 with 1 Axes>"
      ]
     },
     "metadata": {},
     "output_type": "display_data"
    }
   ],
   "source": [
    "plt.figure(figsize=(5,6))\n",
    "rating = df1['rating'].value_counts().sort_index(ascending=False)[::-1]\n",
    "total_count = len(df1)\n",
    "ax = rating.plot(kind='bar')\n",
    "for i,v in enumerate(rating):\n",
    "    percent = round((v/total_count)*100, 2)\n",
    "    ax.text(i-0.3, v+25000, str(percent) + '%')\n",
    "plt.xlabel('Ratings')\n",
    "plt.ylabel('Number of ratings')\n",
    "plt.xticks(rotation=0)  \n",
    "plt.show()"
   ]
  },
  {
   "cell_type": "code",
   "execution_count": 165,
   "id": "0113f3b1",
   "metadata": {},
   "outputs": [
    {
     "data": {
      "image/png": "[encoded data removed]",
      "text/plain": [
       "<Figure size 400x600 with 1 Axes>"
      ]
     },
     "metadata": {},
     "output_type": "display_data"
    }
   ],
   "source": [
    "plt.figure(figsize=(4,6))\n",
    "rating = df1['verified'].value_counts()\n",
    "total_count = len(df1)\n",
    "ax = rating.plot(kind='bar')\n",
    "for i,v in enumerate(rating):\n",
    "    percent = round((v/total_count)*100, 2)\n",
    "    ax.text(i-0.15, v+25000, str(percent) + '%')\n",
    "plt.xlabel('Verified')\n",
    "plt.xticks(rotation=0)\n",
    "plt.ylabel('Number of Users')\n",
    "plt.show()"
   ]
  },
  {
   "cell_type": "code",
   "execution_count": 166,
   "id": "a65d098a",
   "metadata": {},
   "outputs": [
    {
     "data": {
      "image/png": "[encoded data removed]",
      "text/plain": [
       "<Figure size 640x480 with 1 Axes>"
      ]
     },
     "metadata": {},
     "output_type": "display_data"
    }
   ],
   "source": [
    "# Subset the dataframe to only include rows where gender is male\n",
    "df_true = df1[df1['verified'] == True]\n",
    "\n",
    "# Group by rating and calculate the sum of total_ratings for each rating\n",
    "true_ratings = df_true.groupby('rating')['verified'].sum()\n",
    "\n",
    "# Create a barplot of the male ratings\n",
    "plt.bar(true_ratings.index, true_ratings.values)\n",
    "plt.xlabel('Rating')\n",
    "plt.ylabel('Total Ratings')\n",
    "plt.title('Total Ratings by verified==True')\n",
    "\n",
    "# Add percentage values to each bar\n",
    "total = sum(true_ratings)\n",
    "for i, v in enumerate(true_ratings):\n",
    "    percent = round((v/total)*100, 2)\n",
    "    plt.text(i+0.8, v+6000, str(percent)+'%')\n",
    "    \n",
    "plt.show()"
   ]
  },
  {
   "cell_type": "code",
   "execution_count": null,
   "id": "6c543489",
   "metadata": {},
   "outputs": [],
   "source": [
    "df_false = df1[df1['verified'] == False]"
   ]
  },
  {
   "cell_type": "code",
   "execution_count": 176,
   "id": "8cd56f00",
   "metadata": {},
   "outputs": [
    {
     "data": {
      "text/html": [
       "<div>\n",
       "<style scoped>\n",
       "    .dataframe tbody tr th:only-of-type {\n",
       "        vertical-align: middle;\n",
       "    }\n",
       "\n",
       "    .dataframe tbody tr th {\n",
       "        vertical-align: top;\n",
       "    }\n",
       "\n",
       "    .dataframe thead th {\n",
       "        text-align: right;\n",
       "    }\n",
       "</style>\n",
       "<table border=\"1\" class=\"dataframe\">\n",
       "  <thead>\n",
       "    <tr style=\"text-align: right;\">\n",
       "      <th></th>\n",
       "      <th>rating</th>\n",
       "      <th>verified</th>\n",
       "      <th>reviewerID</th>\n",
       "      <th>productID</th>\n",
       "      <th>productType</th>\n",
       "      <th>reviewerName</th>\n",
       "      <th>reviewText</th>\n",
       "      <th>summary</th>\n",
       "    </tr>\n",
       "    <tr>\n",
       "      <th>reviewTime</th>\n",
       "      <th></th>\n",
       "      <th></th>\n",
       "      <th></th>\n",
       "      <th></th>\n",
       "      <th></th>\n",
       "      <th></th>\n",
       "      <th></th>\n",
       "      <th></th>\n",
       "    </tr>\n",
       "  </thead>\n",
       "  <tbody>\n",
       "    <tr>\n",
       "      <th>1997-12-02</th>\n",
       "      <td>5</td>\n",
       "      <td>False</td>\n",
       "      <td>A28BJ12568I17K</td>\n",
       "      <td>6304123523</td>\n",
       "      <td>{'Format:': ' VHS Tape'}</td>\n",
       "      <td>Mire Uno</td>\n",
       "      <td>This TV animation series opened up many disput...</td>\n",
       "      <td>It arose \"Evangelion Phenomina\" in Japan</td>\n",
       "    </tr>\n",
       "    <tr>\n",
       "      <th>1998-01-03</th>\n",
       "      <td>4</td>\n",
       "      <td>False</td>\n",
       "      <td>A30Q8X8B1S3GGT</td>\n",
       "      <td>6300215695</td>\n",
       "      <td>{'Format:': ' VHS Tape'}</td>\n",
       "      <td>Mark Savary</td>\n",
       "      <td>Here's a semi-remake of \"Holiday Inn\" (1942), ...</td>\n",
       "      <td>Holiday favorite with Bing Crosby and Danny Kaye!</td>\n",
       "    </tr>\n",
       "  </tbody>\n",
       "</table>\n",
       "</div>"
      ],
      "text/plain": [
       "            rating  verified      reviewerID   productID  \\\n",
       "reviewTime                                                 \n",
       "1997-12-02       5     False  A28BJ12568I17K  6304123523   \n",
       "1998-01-03       4     False  A30Q8X8B1S3GGT  6300215695   \n",
       "\n",
       "                         productType reviewerName  \\\n",
       "reviewTime                                          \n",
       "1997-12-02  {'Format:': ' VHS Tape'}     Mire Uno   \n",
       "1998-01-03  {'Format:': ' VHS Tape'}  Mark Savary   \n",
       "\n",
       "                                                   reviewText  \\\n",
       "reviewTime                                                      \n",
       "1997-12-02  This TV animation series opened up many disput...   \n",
       "1998-01-03  Here's a semi-remake of \"Holiday Inn\" (1942), ...   \n",
       "\n",
       "                                                      summary  \n",
       "reviewTime                                                     \n",
       "1997-12-02           It arose \"Evangelion Phenomina\" in Japan  \n",
       "1998-01-03  Holiday favorite with Bing Crosby and Danny Kaye!  "
      ]
     },
     "execution_count": 176,
     "metadata": {},
     "output_type": "execute_result"
    }
   ],
   "source": [
    "df_false.head(2)"
   ]
  },
  {
   "cell_type": "code",
   "execution_count": 174,
   "id": "3e912bfc",
   "metadata": {},
   "outputs": [
    {
     "data": {
      "text/plain": [
       "5    336821\n",
       "4    183953\n",
       "3    106874\n",
       "1     72681\n",
       "2     62369\n",
       "Name: rating, dtype: int64"
      ]
     },
     "execution_count": 174,
     "metadata": {},
     "output_type": "execute_result"
    }
   ],
   "source": [
    "df_false['rating'].value_counts()"
   ]
  },
  {
   "cell_type": "code",
   "execution_count": 182,
   "id": "ff954296",
   "metadata": {},
   "outputs": [
    {
     "data": {
      "image/png": "[encoded data removed]",
      "text/plain": [
       "<Figure size 500x600 with 1 Axes>"
      ]
     },
     "metadata": {},
     "output_type": "display_data"
    }
   ],
   "source": [
    "plt.figure(figsize=(5,6))\n",
    "rating = df_false['rating'].value_counts().sort_index(ascending=False)[::-1]\n",
    "total_count = len(df_false)\n",
    "ax = rating.plot(kind='bar')\n",
    "for i,v in enumerate(rating):\n",
    "    percent = round((v/total_count)*100, 2)\n",
    "    ax.text(i-0.3, v+4000, str(percent) + '%')\n",
    "plt.title('Total Ratings by verified==False')\n",
    "plt.xlabel('Ratings')\n",
    "plt.ylabel('Number of ratings')\n",
    "plt.xticks(rotation=0)  \n",
    "plt.show()"
   ]
  },
  {
   "cell_type": "code",
   "execution_count": null,
   "id": "056a7c61",
   "metadata": {},
   "outputs": [],
   "source": []
  }
 ],
 "metadata": {
  "kernelspec": {
   "display_name": "Python 3 (ipykernel)",
   "language": "python",
   "name": "python3"
  },
  "language_info": {
   "codemirror_mode": {
    "name": "ipython",
    "version": 3
   },
   "file_extension": ".py",
   "mimetype": "text/x-python",
   "name": "python",
   "nbconvert_exporter": "python",
   "pygments_lexer": "ipython3",
   "version": "3.9.16"
  }
 },
 "nbformat": 4,
 "nbformat_minor": 5
}
