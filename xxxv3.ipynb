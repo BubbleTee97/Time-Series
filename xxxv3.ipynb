{
 "cells": [
  {
   "cell_type": "markdown",
   "id": "f89145a1",
   "metadata": {},
   "source": [
    "# Dataset details:\n",
    "Dataset Title = Ratings and reviews for Movies/TV products from Amazon\n",
    "\n",
    "Number of reviews = 3,410,019\n",
    "\n",
    "Date range = 1997-12-02 to 2018-10-01\n",
    "\n",
    "Size of dataset = 791MB\n",
    "\n",
    "source: https://nijianmo.github.io/amazon/index.html"
   ]
  },
  {
   "cell_type": "code",
   "execution_count": 1,
   "id": "59ce759c",
   "metadata": {},
   "outputs": [],
   "source": [
    "import pandas as pd\n",
    "import numpy as np\n",
    "import matplotlib.pyplot as plt\n",
    "import seaborn as sns"
   ]
  },
  {
   "cell_type": "code",
   "execution_count": 2,
   "id": "4cd3af94",
   "metadata": {},
   "outputs": [],
   "source": [
    "df = pd.read_json(\"Movies_and_TV_5.json.gz\", compression='gzip', lines=True)"
   ]
  },
  {
   "cell_type": "code",
   "execution_count": 3,
   "id": "8737dc5b",
   "metadata": {},
   "outputs": [],
   "source": [
    "df_org = df \n",
    "# Save raw data backup copy to df_org"
   ]
  },
  {
   "cell_type": "code",
   "execution_count": 4,
   "id": "6a3fce2c",
   "metadata": {},
   "outputs": [
    {
     "data": {
      "text/html": [
       "<div>\n",
       "<style scoped>\n",
       "    .dataframe tbody tr th:only-of-type {\n",
       "        vertical-align: middle;\n",
       "    }\n",
       "\n",
       "    .dataframe tbody tr th {\n",
       "        vertical-align: top;\n",
       "    }\n",
       "\n",
       "    .dataframe thead th {\n",
       "        text-align: right;\n",
       "    }\n",
       "</style>\n",
       "<table border=\"1\" class=\"dataframe\">\n",
       "  <thead>\n",
       "    <tr style=\"text-align: right;\">\n",
       "      <th></th>\n",
       "      <th>overall</th>\n",
       "      <th>verified</th>\n",
       "      <th>reviewTime</th>\n",
       "      <th>reviewerID</th>\n",
       "      <th>asin</th>\n",
       "      <th>style</th>\n",
       "      <th>reviewerName</th>\n",
       "      <th>reviewText</th>\n",
       "      <th>summary</th>\n",
       "      <th>unixReviewTime</th>\n",
       "      <th>vote</th>\n",
       "      <th>image</th>\n",
       "    </tr>\n",
       "  </thead>\n",
       "  <tbody>\n",
       "    <tr>\n",
       "      <th>0</th>\n",
       "      <td>5</td>\n",
       "      <td>True</td>\n",
       "      <td>11 9, 2012</td>\n",
       "      <td>A2M1CU2IRZG0K9</td>\n",
       "      <td>0005089549</td>\n",
       "      <td>{'Format:': ' VHS Tape'}</td>\n",
       "      <td>Terri</td>\n",
       "      <td>So sorry I didn't purchase this years ago when...</td>\n",
       "      <td>Amazing!</td>\n",
       "      <td>1352419200</td>\n",
       "      <td>NaN</td>\n",
       "      <td>NaN</td>\n",
       "    </tr>\n",
       "    <tr>\n",
       "      <th>1</th>\n",
       "      <td>5</td>\n",
       "      <td>True</td>\n",
       "      <td>12 30, 2011</td>\n",
       "      <td>AFTUJYISOFHY6</td>\n",
       "      <td>0005089549</td>\n",
       "      <td>{'Format:': ' VHS Tape'}</td>\n",
       "      <td>Melissa D. Abercrombie</td>\n",
       "      <td>Believe me when I tell you that you will recei...</td>\n",
       "      <td>Great Gospel VHS of the Cathedrals!</td>\n",
       "      <td>1325203200</td>\n",
       "      <td>NaN</td>\n",
       "      <td>NaN</td>\n",
       "    </tr>\n",
       "    <tr>\n",
       "      <th>2</th>\n",
       "      <td>5</td>\n",
       "      <td>True</td>\n",
       "      <td>04 21, 2005</td>\n",
       "      <td>A3JVF9Y53BEOGC</td>\n",
       "      <td>000503860X</td>\n",
       "      <td>{'Format:': ' DVD'}</td>\n",
       "      <td>Anthony Thompson</td>\n",
       "      <td>I have seen X live many times, both in the ear...</td>\n",
       "      <td>A great document of a great band</td>\n",
       "      <td>1114041600</td>\n",
       "      <td>11</td>\n",
       "      <td>NaN</td>\n",
       "    </tr>\n",
       "    <tr>\n",
       "      <th>3</th>\n",
       "      <td>5</td>\n",
       "      <td>True</td>\n",
       "      <td>04 6, 2005</td>\n",
       "      <td>A12VPEOEZS1KTC</td>\n",
       "      <td>000503860X</td>\n",
       "      <td>{'Format:': ' DVD'}</td>\n",
       "      <td>JadeRain</td>\n",
       "      <td>I was so excited for this!  Finally, a live co...</td>\n",
       "      <td>YES!!  X LIVE!!</td>\n",
       "      <td>1112745600</td>\n",
       "      <td>5</td>\n",
       "      <td>NaN</td>\n",
       "    </tr>\n",
       "    <tr>\n",
       "      <th>4</th>\n",
       "      <td>5</td>\n",
       "      <td>True</td>\n",
       "      <td>12 3, 2010</td>\n",
       "      <td>ATLZNVLYKP9AZ</td>\n",
       "      <td>000503860X</td>\n",
       "      <td>{'Format:': ' DVD'}</td>\n",
       "      <td>T. Fisher</td>\n",
       "      <td>X is one of the best punk bands ever. I don't ...</td>\n",
       "      <td>X have still got it</td>\n",
       "      <td>1291334400</td>\n",
       "      <td>5</td>\n",
       "      <td>NaN</td>\n",
       "    </tr>\n",
       "  </tbody>\n",
       "</table>\n",
       "</div>"
      ],
      "text/plain": [
       "   overall  verified   reviewTime      reviewerID        asin  \\\n",
       "0        5      True   11 9, 2012  A2M1CU2IRZG0K9  0005089549   \n",
       "1        5      True  12 30, 2011   AFTUJYISOFHY6  0005089549   \n",
       "2        5      True  04 21, 2005  A3JVF9Y53BEOGC  000503860X   \n",
       "3        5      True   04 6, 2005  A12VPEOEZS1KTC  000503860X   \n",
       "4        5      True   12 3, 2010   ATLZNVLYKP9AZ  000503860X   \n",
       "\n",
       "                      style            reviewerName  \\\n",
       "0  {'Format:': ' VHS Tape'}                   Terri   \n",
       "1  {'Format:': ' VHS Tape'}  Melissa D. Abercrombie   \n",
       "2       {'Format:': ' DVD'}        Anthony Thompson   \n",
       "3       {'Format:': ' DVD'}                JadeRain   \n",
       "4       {'Format:': ' DVD'}               T. Fisher   \n",
       "\n",
       "                                          reviewText  \\\n",
       "0  So sorry I didn't purchase this years ago when...   \n",
       "1  Believe me when I tell you that you will recei...   \n",
       "2  I have seen X live many times, both in the ear...   \n",
       "3  I was so excited for this!  Finally, a live co...   \n",
       "4  X is one of the best punk bands ever. I don't ...   \n",
       "\n",
       "                               summary  unixReviewTime vote image  \n",
       "0                             Amazing!      1352419200  NaN   NaN  \n",
       "1  Great Gospel VHS of the Cathedrals!      1325203200  NaN   NaN  \n",
       "2     A great document of a great band      1114041600   11   NaN  \n",
       "3                      YES!!  X LIVE!!      1112745600    5   NaN  \n",
       "4                  X have still got it      1291334400    5   NaN  "
      ]
     },
     "execution_count": 4,
     "metadata": {},
     "output_type": "execute_result"
    }
   ],
   "source": [
    "df.head()"
   ]
  },
  {
   "cell_type": "code",
   "execution_count": 5,
   "id": "a8d3f0de",
   "metadata": {},
   "outputs": [
    {
     "name": "stdout",
     "output_type": "stream",
     "text": [
      "<class 'pandas.core.frame.DataFrame'>\n",
      "RangeIndex: 3410019 entries, 0 to 3410018\n",
      "Data columns (total 12 columns):\n",
      " #   Column          Dtype \n",
      "---  ------          ----- \n",
      " 0   overall         int64 \n",
      " 1   verified        bool  \n",
      " 2   reviewTime      object\n",
      " 3   reviewerID      object\n",
      " 4   asin            object\n",
      " 5   style           object\n",
      " 6   reviewerName    object\n",
      " 7   reviewText      object\n",
      " 8   summary         object\n",
      " 9   unixReviewTime  int64 \n",
      " 10  vote            object\n",
      " 11  image           object\n",
      "dtypes: bool(1), int64(2), object(9)\n",
      "memory usage: 289.4+ MB\n"
     ]
    }
   ],
   "source": [
    "df.info()"
   ]
  },
  {
   "cell_type": "code",
   "execution_count": 6,
   "id": "4ef475f4",
   "metadata": {},
   "outputs": [
    {
     "data": {
      "text/plain": [
       "Index(['overall', 'verified', 'reviewTime', 'reviewerID', 'asin', 'style',\n",
       "       'reviewerName', 'reviewText', 'summary', 'unixReviewTime', 'vote',\n",
       "       'image'],\n",
       "      dtype='object')"
      ]
     },
     "execution_count": 6,
     "metadata": {},
     "output_type": "execute_result"
    }
   ],
   "source": [
    "df.columns"
   ]
  },
  {
   "cell_type": "markdown",
   "id": "8ca35f57",
   "metadata": {},
   "source": [
    "# Data Cleaning"
   ]
  },
  {
   "cell_type": "code",
   "execution_count": 7,
   "id": "ae8103f6",
   "metadata": {},
   "outputs": [
    {
     "data": {
      "text/plain": [
       "overall                 0\n",
       "verified                0\n",
       "reviewTime              0\n",
       "reviewerID              0\n",
       "asin                    0\n",
       "style              174207\n",
       "reviewerName           82\n",
       "reviewText           1581\n",
       "summary               640\n",
       "unixReviewTime          0\n",
       "vote              2768010\n",
       "image             3403048\n",
       "dtype: int64"
      ]
     },
     "execution_count": 7,
     "metadata": {},
     "output_type": "execute_result"
    }
   ],
   "source": [
    "# Check for null entries\n",
    "df.isnull().sum()\n",
    "# Will be dropping null for column 'styles' ~5% of data later"
   ]
  },
  {
   "cell_type": "code",
   "execution_count": 8,
   "id": "c4b02347",
   "metadata": {},
   "outputs": [
    {
     "data": {
      "text/plain": [
       "{'Format:': ' DVD'}                                1645586\n",
       "{'Format:': ' Amazon Video'}                       1027966\n",
       "{'Format:': ' Blu-ray'}                             335181\n",
       "{'Format:': ' Prime Video'}                         158950\n",
       "{'Format:': ' VHS Tape'}                             61821\n",
       "{'Format:': ' HD DVD'}                                1475\n",
       "{'Format:': ' DVD-R'}                                 1428\n",
       "{'Format:': ' Theatrical Release'}                     801\n",
       "{'Format:': ' Audio CD'}                               657\n",
       "{'Format:': ' DVD-ROM'}                                474\n",
       "{'Format:': ' UMD for PSP'}                            352\n",
       "{'Format:': ' Amazon Instant Video'}                   250\n",
       "{'Format:': ' Electronics'}                            116\n",
       "{'Format:': ' Hardcover'}                              107\n",
       "{'Format:': ' Interactive DVD'}                         97\n",
       "{'Format:': ' Paperback'}                               86\n",
       "{'Format:': ' Laser Disc'}                              80\n",
       "{'Format:': ' DVD Audio'}                               55\n",
       "{'Format:': ' Toy'}                                     36\n",
       "{'Format:': ' MP3 Music'}                               33\n",
       "{'Format:': ' Kindle Edition'}                          32\n",
       "{'Format:': ' Unknown Binding'}                         32\n",
       "{'Format:': ' CD-ROM'}                                  26\n",
       "{'Format:': ' Misc.'}                                   20\n",
       "{'Format:': ' Staple Bound'}                            19\n",
       "{'Size:': ' unknown'}                                   18\n",
       "{'Format:': ' Video CD'}                                14\n",
       "{'Format:': ' Wireless Phone Accessory'}                12\n",
       "{'Format:': ' Kindle Edition with Audio/Video'}         11\n",
       "{'Format:': ' Grocery'}                                  9\n",
       "{'Format:': ' Kitchen'}                                  8\n",
       "{'Format:': ' Audio Cassette'}                           8\n",
       "{'Size:': ' Dolphins'}                                   8\n",
       "{'Format:': ' Office Product'}                           7\n",
       "{'Format:': ' Vinyl'}                                    5\n",
       "{'Format:': ' Mass Market Paperback'}                    5\n",
       "{'Shape:': ' Hipcentric'}                                5\n",
       "{'Format:': ' Videotape'}                                5\n",
       "{'Format:': ' Audible Audiobook'}                        3\n",
       "{'Format:': ' Video Game'}                               3\n",
       "{'Shape:': ' Omnicentric'}                               2\n",
       "{'Format:': ' MiniDisc'}                                 2\n",
       "{'Format:': ' Misc. Supplies'}                           2\n",
       "{'Format:': ' Unbound'}                                  1\n",
       "{'Format:': ' S-VHS'}                                    1\n",
       "{'Format:': ' Product Bundle'}                           1\n",
       "{'Format:': ' MP3 CD'}                                   1\n",
       "{'Format:': ' Accessory'}                                1\n",
       "Name: style, dtype: int64"
      ]
     },
     "execution_count": 8,
     "metadata": {},
     "output_type": "execute_result"
    }
   ],
   "source": [
    "df['style'].value_counts() "
   ]
  },
  {
   "cell_type": "code",
   "execution_count": 9,
   "id": "d20ce62f",
   "metadata": {},
   "outputs": [
    {
     "data": {
      "text/plain": [
       "0          So sorry I didn't purchase this years ago when...\n",
       "1          Believe me when I tell you that you will recei...\n",
       "2          I have seen X live many times, both in the ear...\n",
       "3          I was so excited for this!  Finally, a live co...\n",
       "4          X is one of the best punk bands ever. I don't ...\n",
       "                                 ...                        \n",
       "3410014    The singing parts are very good as expected fr...\n",
       "3410015    This recording of the 2015 production by the M...\n",
       "3410016    I do not wish to write a review about this rel...\n",
       "3410017                                       It was a gift.\n",
       "3410018    This Otello originates from the Salzburg Festi...\n",
       "Name: reviewText, Length: 3410019, dtype: object"
      ]
     },
     "execution_count": 9,
     "metadata": {},
     "output_type": "execute_result"
    }
   ],
   "source": [
    "df['reviewText']"
   ]
  },
  {
   "cell_type": "code",
   "execution_count": 10,
   "id": "6f3e7f29",
   "metadata": {},
   "outputs": [
    {
     "data": {
      "text/plain": [
       "\"So sorry I didn't purchase this years ago when it first came out!!  This is very good and entertaining!  We absolutely loved it and anticipate seeing it repeatedly.  We actually wore out the cassette years back, so we also purchased this same product on cd.  Best purchase we made out of all!  Would purchase on dvd if we could find one.\""
      ]
     },
     "execution_count": 10,
     "metadata": {},
     "output_type": "execute_result"
    }
   ],
   "source": [
    "df['reviewText'][0]"
   ]
  },
  {
   "cell_type": "code",
   "execution_count": 11,
   "id": "17b811dc",
   "metadata": {},
   "outputs": [],
   "source": [
    "# Drop null values from these columns\n",
    "df = df.dropna(subset=['style','reviewerName', 'reviewText', 'summary'])"
   ]
  },
  {
   "cell_type": "code",
   "execution_count": 12,
   "id": "834d5b25",
   "metadata": {},
   "outputs": [
    {
     "name": "stderr",
     "output_type": "stream",
     "text": [
      "C:\\Users\\eugen\\AppData\\Local\\Temp\\ipykernel_6732\\38963360.py:2: SettingWithCopyWarning: \n",
      "A value is trying to be set on a copy of a slice from a DataFrame\n",
      "\n",
      "See the caveats in the documentation: https://pandas.pydata.org/pandas-docs/stable/user_guide/indexing.html#returning-a-view-versus-a-copy\n",
      "  df.drop(['vote','image','unixReviewTime'],axis=1,inplace=True)\n"
     ]
    }
   ],
   "source": [
    "# Drop these columns\n",
    "df.drop(['vote','image','unixReviewTime'],axis=1,inplace=True)"
   ]
  },
  {
   "cell_type": "code",
   "execution_count": 13,
   "id": "8cc4c56a",
   "metadata": {},
   "outputs": [
    {
     "data": {
      "text/plain": [
       "overall         0\n",
       "verified        0\n",
       "reviewTime      0\n",
       "reviewerID      0\n",
       "asin            0\n",
       "style           0\n",
       "reviewerName    0\n",
       "reviewText      0\n",
       "summary         0\n",
       "dtype: int64"
      ]
     },
     "execution_count": 13,
     "metadata": {},
     "output_type": "execute_result"
    }
   ],
   "source": [
    "# Check if data is cleaned\n",
    "df.isnull().sum()"
   ]
  },
  {
   "cell_type": "code",
   "execution_count": 14,
   "id": "014f27cb",
   "metadata": {},
   "outputs": [],
   "source": [
    "duplicated_reviews = df[df.duplicated(['reviewText'], keep=False)]"
   ]
  },
  {
   "cell_type": "code",
   "execution_count": 15,
   "id": "ba90dc5b",
   "metadata": {},
   "outputs": [
    {
     "name": "stdout",
     "output_type": "stream",
     "text": [
      "<class 'pandas.core.frame.DataFrame'>\n",
      "Int64Index: 868955 entries, 29 to 3410018\n",
      "Data columns (total 9 columns):\n",
      " #   Column        Non-Null Count   Dtype \n",
      "---  ------        --------------   ----- \n",
      " 0   overall       868955 non-null  int64 \n",
      " 1   verified      868955 non-null  bool  \n",
      " 2   reviewTime    868955 non-null  object\n",
      " 3   reviewerID    868955 non-null  object\n",
      " 4   asin          868955 non-null  object\n",
      " 5   style         868955 non-null  object\n",
      " 6   reviewerName  868955 non-null  object\n",
      " 7   reviewText    868955 non-null  object\n",
      " 8   summary       868955 non-null  object\n",
      "dtypes: bool(1), int64(1), object(7)\n",
      "memory usage: 60.5+ MB\n"
     ]
    }
   ],
   "source": [
    "duplicated_reviews.info()\n",
    "# We have about 860k duplicates of text review\n",
    "# lets remove them, which is about 25% of the dataset"
   ]
  },
  {
   "cell_type": "code",
   "execution_count": 16,
   "id": "3032fbac",
   "metadata": {},
   "outputs": [],
   "source": [
    "df = df.drop_duplicates(subset=['reviewText'])"
   ]
  },
  {
   "cell_type": "code",
   "execution_count": 17,
   "id": "fdc74340",
   "metadata": {},
   "outputs": [
    {
     "name": "stdout",
     "output_type": "stream",
     "text": [
      "<class 'pandas.core.frame.DataFrame'>\n",
      "Int64Index: 2560768 entries, 0 to 3410016\n",
      "Data columns (total 9 columns):\n",
      " #   Column        Dtype \n",
      "---  ------        ----- \n",
      " 0   overall       int64 \n",
      " 1   verified      bool  \n",
      " 2   reviewTime    object\n",
      " 3   reviewerID    object\n",
      " 4   asin          object\n",
      " 5   style         object\n",
      " 6   reviewerName  object\n",
      " 7   reviewText    object\n",
      " 8   summary       object\n",
      "dtypes: bool(1), int64(1), object(7)\n",
      "memory usage: 178.3+ MB\n"
     ]
    }
   ],
   "source": [
    "df.info()\n",
    "# We still have 2.5 million entries after removing 25% of data"
   ]
  },
  {
   "cell_type": "code",
   "execution_count": 18,
   "id": "1a3ae86c",
   "metadata": {},
   "outputs": [
    {
     "data": {
      "text/plain": [
       "str"
      ]
     },
     "execution_count": 18,
     "metadata": {},
     "output_type": "execute_result"
    }
   ],
   "source": [
    "type(df['reviewTime'][0]) \n",
    "# time in str format, lets change it to datetime object next"
   ]
  },
  {
   "cell_type": "code",
   "execution_count": 19,
   "id": "8deb15ed",
   "metadata": {},
   "outputs": [],
   "source": [
    "df['reviewTime'] = pd.to_datetime(df['reviewTime'], format='%m %d, %Y')"
   ]
  },
  {
   "cell_type": "code",
   "execution_count": 20,
   "id": "979a601a",
   "metadata": {},
   "outputs": [
    {
     "data": {
      "text/plain": [
       "pandas._libs.tslibs.timestamps.Timestamp"
      ]
     },
     "execution_count": 20,
     "metadata": {},
     "output_type": "execute_result"
    }
   ],
   "source": [
    "type(df['reviewTime'][0])"
   ]
  },
  {
   "cell_type": "code",
   "execution_count": 21,
   "id": "9472f0cd",
   "metadata": {},
   "outputs": [
    {
     "name": "stderr",
     "output_type": "stream",
     "text": [
      "C:\\Users\\eugen\\AppData\\Local\\Temp\\ipykernel_6732\\3300267488.py:1: FutureWarning: Treating datetime data as categorical rather than numeric in `.describe` is deprecated and will be removed in a future version of pandas. Specify `datetime_is_numeric=True` to silence this warning and adopt the future behavior now.\n",
      "  df['reviewTime'].describe()\n"
     ]
    },
    {
     "data": {
      "text/plain": [
       "count                 2560768\n",
       "unique                   7285\n",
       "top       2015-02-20 00:00:00\n",
       "freq                     6021\n",
       "first     1997-12-02 00:00:00\n",
       "last      2018-10-01 00:00:00\n",
       "Name: reviewTime, dtype: object"
      ]
     },
     "execution_count": 21,
     "metadata": {},
     "output_type": "execute_result"
    }
   ],
   "source": [
    "df['reviewTime'].describe()"
   ]
  },
  {
   "cell_type": "code",
   "execution_count": 22,
   "id": "3f8c7358",
   "metadata": {},
   "outputs": [],
   "source": [
    "df = df.reset_index(drop=True)"
   ]
  },
  {
   "cell_type": "code",
   "execution_count": 23,
   "id": "358c5563",
   "metadata": {},
   "outputs": [],
   "source": [
    "# For aesthetics purposes\n",
    "df = df.rename(columns={'overall':'rating','asin':'productID','style':'productType'})"
   ]
  },
  {
   "cell_type": "code",
   "execution_count": 24,
   "id": "76271a3e",
   "metadata": {},
   "outputs": [],
   "source": [
    "# Clone to another df called df1, will be setting index to date for this df1\n",
    "# Now df will be a backup and will be working on df1 here onwards\n",
    "# Note that we still have df_org as the raw data backup copy\n",
    "df1 = df"
   ]
  },
  {
   "cell_type": "code",
   "execution_count": 25,
   "id": "61e8e0ed",
   "metadata": {},
   "outputs": [],
   "source": [
    "df1 = df1.set_index('reviewTime')"
   ]
  },
  {
   "cell_type": "code",
   "execution_count": 26,
   "id": "5d28e3c0",
   "metadata": {},
   "outputs": [],
   "source": [
    "df1 = df1.sort_index()"
   ]
  },
  {
   "cell_type": "code",
   "execution_count": 27,
   "id": "5e06f813",
   "metadata": {},
   "outputs": [
    {
     "data": {
      "text/html": [
       "<div>\n",
       "<style scoped>\n",
       "    .dataframe tbody tr th:only-of-type {\n",
       "        vertical-align: middle;\n",
       "    }\n",
       "\n",
       "    .dataframe tbody tr th {\n",
       "        vertical-align: top;\n",
       "    }\n",
       "\n",
       "    .dataframe thead th {\n",
       "        text-align: right;\n",
       "    }\n",
       "</style>\n",
       "<table border=\"1\" class=\"dataframe\">\n",
       "  <thead>\n",
       "    <tr style=\"text-align: right;\">\n",
       "      <th></th>\n",
       "      <th>rating</th>\n",
       "      <th>verified</th>\n",
       "      <th>reviewerID</th>\n",
       "      <th>productID</th>\n",
       "      <th>productType</th>\n",
       "      <th>reviewerName</th>\n",
       "      <th>reviewText</th>\n",
       "      <th>summary</th>\n",
       "    </tr>\n",
       "    <tr>\n",
       "      <th>reviewTime</th>\n",
       "      <th></th>\n",
       "      <th></th>\n",
       "      <th></th>\n",
       "      <th></th>\n",
       "      <th></th>\n",
       "      <th></th>\n",
       "      <th></th>\n",
       "      <th></th>\n",
       "    </tr>\n",
       "  </thead>\n",
       "  <tbody>\n",
       "    <tr>\n",
       "      <th>1997-12-02</th>\n",
       "      <td>5</td>\n",
       "      <td>False</td>\n",
       "      <td>A28BJ12568I17K</td>\n",
       "      <td>6304123523</td>\n",
       "      <td>{'Format:': ' VHS Tape'}</td>\n",
       "      <td>Mire Uno</td>\n",
       "      <td>This TV animation series opened up many disput...</td>\n",
       "      <td>It arose \"Evangelion Phenomina\" in Japan</td>\n",
       "    </tr>\n",
       "    <tr>\n",
       "      <th>1998-01-03</th>\n",
       "      <td>4</td>\n",
       "      <td>False</td>\n",
       "      <td>A30Q8X8B1S3GGT</td>\n",
       "      <td>6300215695</td>\n",
       "      <td>{'Format:': ' VHS Tape'}</td>\n",
       "      <td>Mark Savary</td>\n",
       "      <td>Here's a semi-remake of \"Holiday Inn\" (1942), ...</td>\n",
       "      <td>Holiday favorite with Bing Crosby and Danny Kaye!</td>\n",
       "    </tr>\n",
       "    <tr>\n",
       "      <th>1998-01-03</th>\n",
       "      <td>4</td>\n",
       "      <td>True</td>\n",
       "      <td>A3TQZ521KSRUZ1</td>\n",
       "      <td>B0001NBMEY</td>\n",
       "      <td>{'Format:': ' VHS Tape'}</td>\n",
       "      <td>Anthony Scheinman</td>\n",
       "      <td>This verison (which was first made as a theatr...</td>\n",
       "      <td>A version that will keep viewers riveted!</td>\n",
       "    </tr>\n",
       "    <tr>\n",
       "      <th>1998-02-05</th>\n",
       "      <td>5</td>\n",
       "      <td>False</td>\n",
       "      <td>A28BJ12568I17K</td>\n",
       "      <td>6303118240</td>\n",
       "      <td>{'Format:': ' VHS Tape'}</td>\n",
       "      <td>Mire Uno</td>\n",
       "      <td>Animation by Hayao Miyazaki and one of my favo...</td>\n",
       "      <td>Nostalgy for Japan in 50s</td>\n",
       "    </tr>\n",
       "    <tr>\n",
       "      <th>1998-02-24</th>\n",
       "      <td>5</td>\n",
       "      <td>False</td>\n",
       "      <td>A28BJ12568I17K</td>\n",
       "      <td>6304164084</td>\n",
       "      <td>{'Format:': ' VHS Tape'}</td>\n",
       "      <td>Mire Uno</td>\n",
       "      <td>Japanese title is Macross and quite long TV an...</td>\n",
       "      <td>Macross: well loved saga in Japan</td>\n",
       "    </tr>\n",
       "    <tr>\n",
       "      <th>...</th>\n",
       "      <td>...</td>\n",
       "      <td>...</td>\n",
       "      <td>...</td>\n",
       "      <td>...</td>\n",
       "      <td>...</td>\n",
       "      <td>...</td>\n",
       "      <td>...</td>\n",
       "      <td>...</td>\n",
       "    </tr>\n",
       "    <tr>\n",
       "      <th>2018-09-28</th>\n",
       "      <td>4</td>\n",
       "      <td>True</td>\n",
       "      <td>A2TRYG5M981MG8</td>\n",
       "      <td>B01FRCEVDM</td>\n",
       "      <td>{'Format:': ' DVD'}</td>\n",
       "      <td>Robert E</td>\n",
       "      <td>I enjoyed it but can't say more so as not to s...</td>\n",
       "      <td>Interesting Movie</td>\n",
       "    </tr>\n",
       "    <tr>\n",
       "      <th>2018-09-29</th>\n",
       "      <td>5</td>\n",
       "      <td>True</td>\n",
       "      <td>A1Y5BG2UI932NA</td>\n",
       "      <td>B01HEXXM9G</td>\n",
       "      <td>{'Format:': ' Blu-ray'}</td>\n",
       "      <td>Crazzie1</td>\n",
       "      <td>I must say, this one is a really good one. I'd...</td>\n",
       "      <td>Dont pass it up.</td>\n",
       "    </tr>\n",
       "    <tr>\n",
       "      <th>2018-09-29</th>\n",
       "      <td>4</td>\n",
       "      <td>True</td>\n",
       "      <td>A26NCB8P62PZAW</td>\n",
       "      <td>B01GF9N7FE</td>\n",
       "      <td>{'Format:': ' DVD'}</td>\n",
       "      <td>S. Karl</td>\n",
       "      <td>Was there a chance that this movie would ever ...</td>\n",
       "      <td>Not for the Oscar crowd.</td>\n",
       "    </tr>\n",
       "    <tr>\n",
       "      <th>2018-09-29</th>\n",
       "      <td>4</td>\n",
       "      <td>False</td>\n",
       "      <td>A2O4V3MCB7EPPU</td>\n",
       "      <td>B01H2G0LX0</td>\n",
       "      <td>{'Format:': ' DVD'}</td>\n",
       "      <td>Bellingham Bookworm</td>\n",
       "      <td>Susan Sarandon is a widow who just wants to sh...</td>\n",
       "      <td>A sweet and lovely movie</td>\n",
       "    </tr>\n",
       "    <tr>\n",
       "      <th>2018-10-01</th>\n",
       "      <td>5</td>\n",
       "      <td>True</td>\n",
       "      <td>A3JJ21YCMGSKGH</td>\n",
       "      <td>B01HD2TOWW</td>\n",
       "      <td>{'Format:': ' DVD'}</td>\n",
       "      <td>Amazon Customer</td>\n",
       "      <td>Me Natalie was released in 1969. It starred Pa...</td>\n",
       "      <td>Wnderful Patty Duke Film !</td>\n",
       "    </tr>\n",
       "  </tbody>\n",
       "</table>\n",
       "<p>2560768 rows × 8 columns</p>\n",
       "</div>"
      ],
      "text/plain": [
       "            rating  verified      reviewerID   productID  \\\n",
       "reviewTime                                                 \n",
       "1997-12-02       5     False  A28BJ12568I17K  6304123523   \n",
       "1998-01-03       4     False  A30Q8X8B1S3GGT  6300215695   \n",
       "1998-01-03       4      True  A3TQZ521KSRUZ1  B0001NBMEY   \n",
       "1998-02-05       5     False  A28BJ12568I17K  6303118240   \n",
       "1998-02-24       5     False  A28BJ12568I17K  6304164084   \n",
       "...            ...       ...             ...         ...   \n",
       "2018-09-28       4      True  A2TRYG5M981MG8  B01FRCEVDM   \n",
       "2018-09-29       5      True  A1Y5BG2UI932NA  B01HEXXM9G   \n",
       "2018-09-29       4      True  A26NCB8P62PZAW  B01GF9N7FE   \n",
       "2018-09-29       4     False  A2O4V3MCB7EPPU  B01H2G0LX0   \n",
       "2018-10-01       5      True  A3JJ21YCMGSKGH  B01HD2TOWW   \n",
       "\n",
       "                         productType         reviewerName  \\\n",
       "reviewTime                                                  \n",
       "1997-12-02  {'Format:': ' VHS Tape'}             Mire Uno   \n",
       "1998-01-03  {'Format:': ' VHS Tape'}          Mark Savary   \n",
       "1998-01-03  {'Format:': ' VHS Tape'}    Anthony Scheinman   \n",
       "1998-02-05  {'Format:': ' VHS Tape'}             Mire Uno   \n",
       "1998-02-24  {'Format:': ' VHS Tape'}             Mire Uno   \n",
       "...                              ...                  ...   \n",
       "2018-09-28       {'Format:': ' DVD'}             Robert E   \n",
       "2018-09-29   {'Format:': ' Blu-ray'}             Crazzie1   \n",
       "2018-09-29       {'Format:': ' DVD'}              S. Karl   \n",
       "2018-09-29       {'Format:': ' DVD'}  Bellingham Bookworm   \n",
       "2018-10-01       {'Format:': ' DVD'}      Amazon Customer   \n",
       "\n",
       "                                                   reviewText  \\\n",
       "reviewTime                                                      \n",
       "1997-12-02  This TV animation series opened up many disput...   \n",
       "1998-01-03  Here's a semi-remake of \"Holiday Inn\" (1942), ...   \n",
       "1998-01-03  This verison (which was first made as a theatr...   \n",
       "1998-02-05  Animation by Hayao Miyazaki and one of my favo...   \n",
       "1998-02-24  Japanese title is Macross and quite long TV an...   \n",
       "...                                                       ...   \n",
       "2018-09-28  I enjoyed it but can't say more so as not to s...   \n",
       "2018-09-29  I must say, this one is a really good one. I'd...   \n",
       "2018-09-29  Was there a chance that this movie would ever ...   \n",
       "2018-09-29  Susan Sarandon is a widow who just wants to sh...   \n",
       "2018-10-01  Me Natalie was released in 1969. It starred Pa...   \n",
       "\n",
       "                                                      summary  \n",
       "reviewTime                                                     \n",
       "1997-12-02           It arose \"Evangelion Phenomina\" in Japan  \n",
       "1998-01-03  Holiday favorite with Bing Crosby and Danny Kaye!  \n",
       "1998-01-03          A version that will keep viewers riveted!  \n",
       "1998-02-05                          Nostalgy for Japan in 50s  \n",
       "1998-02-24                  Macross: well loved saga in Japan  \n",
       "...                                                       ...  \n",
       "2018-09-28                                  Interesting Movie  \n",
       "2018-09-29                                   Dont pass it up.  \n",
       "2018-09-29                           Not for the Oscar crowd.  \n",
       "2018-09-29                           A sweet and lovely movie  \n",
       "2018-10-01                         Wnderful Patty Duke Film !  \n",
       "\n",
       "[2560768 rows x 8 columns]"
      ]
     },
     "execution_count": 27,
     "metadata": {},
     "output_type": "execute_result"
    }
   ],
   "source": [
    "df1"
   ]
  },
  {
   "cell_type": "markdown",
   "id": "49632048",
   "metadata": {},
   "source": [
    "# Exploratory Data Analysis"
   ]
  },
  {
   "cell_type": "code",
   "execution_count": 28,
   "id": "1e8a2683",
   "metadata": {},
   "outputs": [
    {
     "data": {
      "image/png": "[encoded data removed]",
      "text/plain": [
       "<Figure size 1000x600 with 1 Axes>"
      ]
     },
     "metadata": {},
     "output_type": "display_data"
    }
   ],
   "source": [
    "# Line plot to visualize the number of reviews per day across the datetime index\n",
    "df_count = df1.resample('D').count()\n",
    "df_count.plot(kind='line', figsize=(10, 6), legend=None, color='#00ace6')\n",
    "plt.xlabel('Date')\n",
    "plt.ylabel('Reviews per Day')\n",
    "plt.title('Daily reviews across time period')\n",
    "plt.show()"
   ]
  },
  {
   "cell_type": "code",
   "execution_count": 29,
   "id": "482a657e",
   "metadata": {},
   "outputs": [
    {
     "data": {
      "text/plain": [
       "6021"
      ]
     },
     "execution_count": 29,
     "metadata": {},
     "output_type": "execute_result"
    }
   ],
   "source": [
    "df_count['rating'].max()"
   ]
  },
  {
   "cell_type": "code",
   "execution_count": 30,
   "id": "de5cb9de",
   "metadata": {},
   "outputs": [
    {
     "name": "stdout",
     "output_type": "stream",
     "text": [
      "The highest number of reviews made in a day was 6021 reviews\n",
      "This occurred on 2015-02-20 00:00:00\n"
     ]
    }
   ],
   "source": [
    "most_reviews = df_count['rating'].max()\n",
    "date_most_reviews = df_count.index[df_count['rating'] == 6021]\n",
    "# Highest number of reviews made in a day was 6021 reviews\n",
    "print(f\"The highest number of reviews made in a day was {most_reviews} reviews\")\n",
    "print(f\"This occurred on {date_most_reviews[0]}\")"
   ]
  },
  {
   "cell_type": "code",
   "execution_count": 31,
   "id": "5ac766e5",
   "metadata": {},
   "outputs": [
    {
     "data": {
      "image/png": "[encoded data removed]",
      "text/plain": [
       "<Figure size 500x600 with 1 Axes>"
      ]
     },
     "metadata": {},
     "output_type": "display_data"
    }
   ],
   "source": [
    "# Barplot to visualize the ratings made by the customers\n",
    "plt.figure(figsize=(5,6))\n",
    "rating = df1['rating'].value_counts().sort_index(ascending=False)[::-1]\n",
    "total_count = len(df1)\n",
    "ax = rating.plot(kind='bar')\n",
    "for i,v in enumerate(rating):\n",
    "    percent = round((v/total_count)*100, 2)\n",
    "    ax.text(i-0.3, v+25000, str(percent) + '%')\n",
    "plt.xlabel('Ratings')\n",
    "plt.ylabel('Number of ratings')\n",
    "plt.xticks(rotation=0)  \n",
    "plt.show()"
   ]
  },
  {
   "cell_type": "code",
   "execution_count": 32,
   "id": "0113f3b1",
   "metadata": {},
   "outputs": [
    {
     "data": {
      "image/png": "[encoded data removed]",
      "text/plain": [
       "<Figure size 400x600 with 1 Axes>"
      ]
     },
     "metadata": {},
     "output_type": "display_data"
    }
   ],
   "source": [
    "# Barplot to visualize between the verified and not verified users\n",
    "plt.figure(figsize=(4,6))\n",
    "rating = df1['verified'].value_counts()\n",
    "total_count = len(df1)\n",
    "ax = rating.plot(kind='bar')\n",
    "for i,v in enumerate(rating):\n",
    "    percent = round((v/total_count)*100, 2)\n",
    "    ax.text(i-0.15, v+25000, str(percent) + '%')\n",
    "plt.xlabel('Verified')\n",
    "plt.xticks(rotation=0)\n",
    "plt.ylabel('Number of Users')\n",
    "plt.show()"
   ]
  },
  {
   "cell_type": "code",
   "execution_count": 33,
   "id": "a65d098a",
   "metadata": {},
   "outputs": [
    {
     "data": {
      "image/png": "[encoded data removed]",
      "text/plain": [
       "<Figure size 500x600 with 1 Axes>"
      ]
     },
     "metadata": {},
     "output_type": "display_data"
    },
    {
     "data": {
      "image/png": "[encoded data removed]",
      "text/plain": [
       "<Figure size 500x600 with 1 Axes>"
      ]
     },
     "metadata": {},
     "output_type": "display_data"
    }
   ],
   "source": [
    "'''\n",
    "Documentation to elaborate the definition of 'verified review'\n",
    "\n",
    "A 'verified review' means that the reviewer bought or used the item\n",
    "on Amazon, and paid a price available to most Amazon shoppers. \n",
    "After someone submits a review, Amazon check if they: \n",
    "Bought or used the item on Amazon; Paid a price available to most Amazon shoppers.\n",
    "\n",
    "'''\n",
    "\n",
    "\n",
    "\n",
    "'''\n",
    "\n",
    "This visualization checks whether there is any intentional input bias from\n",
    "non-verified reviewers whereby they could deliberately spam bad ratings (1-2)\n",
    "to skew to overall rating for the product.\n",
    "\n",
    "By comparing verified vs non-verified ratings, we can see that the overall\n",
    "sentiment is less positive for the non-verified ratings\n",
    "\n",
    "\n",
    "'''\n",
    "\n",
    "\n",
    "# Perform a visualization on the ratings made by the verified reviews\n",
    "\n",
    "# Subset the dataframe to only include rows where gender is male\n",
    "df_true = df1[df1['verified'] == True]\n",
    "\n",
    "# Group by rating and calculate the sum of total_ratings for each rating\n",
    "true_ratings = df_true.groupby('rating')['verified'].sum()\n",
    "\n",
    "# Create a barplot of the male ratings\n",
    "plt.figure(figsize=(5,6))\n",
    "plt.bar(true_ratings.index, true_ratings.values)\n",
    "plt.xlabel('Rating')\n",
    "plt.ylabel('Total Ratings')\n",
    "plt.title('Total Ratings by verified==True')\n",
    "\n",
    "# Add percentage values to each bar\n",
    "total = sum(true_ratings)\n",
    "for i, v in enumerate(true_ratings):\n",
    "    percent = round((v/total)*100, 2)\n",
    "    plt.text(i+0.8, v+6000, str(percent)+'%')\n",
    "    \n",
    "plt.show()\n",
    "\n",
    "\n",
    "\n",
    "\n",
    "df_false = df1[df1['verified'] == False]\n",
    "plt.figure(figsize=(5,6))\n",
    "rating = df_false['rating'].value_counts().sort_index(ascending=False)[::-1]\n",
    "total_count = len(df_false)\n",
    "ax = rating.plot(kind='bar')\n",
    "for i,v in enumerate(rating):\n",
    "    percent = round((v/total_count)*100, 2)\n",
    "    ax.text(i-0.3, v+4000, str(percent) + '%')\n",
    "plt.title('Total Ratings by verified==False')\n",
    "plt.xlabel('Ratings')\n",
    "plt.ylabel('Number of ratings')\n",
    "plt.xticks(rotation=0)  \n",
    "plt.show()"
   ]
  },
  {
   "cell_type": "code",
   "execution_count": 34,
   "id": "74ddcee3",
   "metadata": {},
   "outputs": [
    {
     "data": {
      "image/png": "[encoded data removed]",
      "text/plain": [
       "<Figure size 1000x600 with 1 Axes>"
      ]
     },
     "metadata": {},
     "output_type": "display_data"
    }
   ],
   "source": [
    "# Line plot to visualize the number of reviews per day across the datetime index\n",
    "df_false_count = df_false.resample('D').count()\n",
    "df_false_count.plot(kind='line', figsize=(10, 6), legend=None, color='#00ace6')\n",
    "plt.xlabel('Date')\n",
    "plt.ylabel('Reviews per Day')\n",
    "plt.title('Daily reviews across time period')\n",
    "plt.show()"
   ]
  },
  {
   "cell_type": "code",
   "execution_count": 35,
   "id": "6aa97ed9",
   "metadata": {},
   "outputs": [
    {
     "data": {
      "text/plain": [
       "1360"
      ]
     },
     "execution_count": 35,
     "metadata": {},
     "output_type": "execute_result"
    }
   ],
   "source": [
    "df_false_count['rating'].max()"
   ]
  },
  {
   "cell_type": "code",
   "execution_count": 36,
   "id": "3a9955cc",
   "metadata": {},
   "outputs": [
    {
     "data": {
      "text/html": [
       "<div>\n",
       "<style scoped>\n",
       "    .dataframe tbody tr th:only-of-type {\n",
       "        vertical-align: middle;\n",
       "    }\n",
       "\n",
       "    .dataframe tbody tr th {\n",
       "        vertical-align: top;\n",
       "    }\n",
       "\n",
       "    .dataframe thead th {\n",
       "        text-align: right;\n",
       "    }\n",
       "</style>\n",
       "<table border=\"1\" class=\"dataframe\">\n",
       "  <thead>\n",
       "    <tr style=\"text-align: right;\">\n",
       "      <th></th>\n",
       "      <th>rating</th>\n",
       "      <th>verified</th>\n",
       "      <th>reviewerID</th>\n",
       "      <th>productID</th>\n",
       "      <th>productType</th>\n",
       "      <th>reviewerName</th>\n",
       "      <th>reviewText</th>\n",
       "      <th>summary</th>\n",
       "    </tr>\n",
       "    <tr>\n",
       "      <th>reviewTime</th>\n",
       "      <th></th>\n",
       "      <th></th>\n",
       "      <th></th>\n",
       "      <th></th>\n",
       "      <th></th>\n",
       "      <th></th>\n",
       "      <th></th>\n",
       "      <th></th>\n",
       "    </tr>\n",
       "  </thead>\n",
       "  <tbody>\n",
       "    <tr>\n",
       "      <th>1997-12-02</th>\n",
       "      <td>5</td>\n",
       "      <td>False</td>\n",
       "      <td>A28BJ12568I17K</td>\n",
       "      <td>6304123523</td>\n",
       "      <td>{'Format:': ' VHS Tape'}</td>\n",
       "      <td>Mire Uno</td>\n",
       "      <td>This TV animation series opened up many disput...</td>\n",
       "      <td>It arose \"Evangelion Phenomina\" in Japan</td>\n",
       "    </tr>\n",
       "    <tr>\n",
       "      <th>1998-01-03</th>\n",
       "      <td>4</td>\n",
       "      <td>False</td>\n",
       "      <td>A30Q8X8B1S3GGT</td>\n",
       "      <td>6300215695</td>\n",
       "      <td>{'Format:': ' VHS Tape'}</td>\n",
       "      <td>Mark Savary</td>\n",
       "      <td>Here's a semi-remake of \"Holiday Inn\" (1942), ...</td>\n",
       "      <td>Holiday favorite with Bing Crosby and Danny Kaye!</td>\n",
       "    </tr>\n",
       "  </tbody>\n",
       "</table>\n",
       "</div>"
      ],
      "text/plain": [
       "            rating  verified      reviewerID   productID  \\\n",
       "reviewTime                                                 \n",
       "1997-12-02       5     False  A28BJ12568I17K  6304123523   \n",
       "1998-01-03       4     False  A30Q8X8B1S3GGT  6300215695   \n",
       "\n",
       "                         productType reviewerName  \\\n",
       "reviewTime                                          \n",
       "1997-12-02  {'Format:': ' VHS Tape'}     Mire Uno   \n",
       "1998-01-03  {'Format:': ' VHS Tape'}  Mark Savary   \n",
       "\n",
       "                                                   reviewText  \\\n",
       "reviewTime                                                      \n",
       "1997-12-02  This TV animation series opened up many disput...   \n",
       "1998-01-03  Here's a semi-remake of \"Holiday Inn\" (1942), ...   \n",
       "\n",
       "                                                      summary  \n",
       "reviewTime                                                     \n",
       "1997-12-02           It arose \"Evangelion Phenomina\" in Japan  \n",
       "1998-01-03  Holiday favorite with Bing Crosby and Danny Kaye!  "
      ]
     },
     "execution_count": 36,
     "metadata": {},
     "output_type": "execute_result"
    }
   ],
   "source": [
    "df1.head(2)"
   ]
  },
  {
   "cell_type": "markdown",
   "id": "33965bb0",
   "metadata": {},
   "source": [
    "# Moving onto NLP"
   ]
  },
  {
   "cell_type": "code",
   "execution_count": 52,
   "id": "1b37ab08",
   "metadata": {},
   "outputs": [],
   "source": [
    "df_nlp = df1[['rating','reviewText']]"
   ]
  },
  {
   "cell_type": "code",
   "execution_count": 53,
   "id": "5d999df3",
   "metadata": {},
   "outputs": [],
   "source": [
    "df_nlp = df_nlp.loc[df_nlp['rating'] != 3]"
   ]
  },
  {
   "cell_type": "code",
   "execution_count": 54,
   "id": "a38e15f5",
   "metadata": {},
   "outputs": [],
   "source": [
    "df_nlp = df_nlp.reset_index(drop=True)"
   ]
  },
  {
   "cell_type": "code",
   "execution_count": 55,
   "id": "6f30a17f",
   "metadata": {},
   "outputs": [
    {
     "data": {
      "text/plain": [
       "5    1438318\n",
       "4     527109\n",
       "1     162891\n",
       "2     146303\n",
       "Name: rating, dtype: int64"
      ]
     },
     "execution_count": 55,
     "metadata": {},
     "output_type": "execute_result"
    }
   ],
   "source": [
    "df_nlp['rating'].value_counts()"
   ]
  },
  {
   "cell_type": "code",
   "execution_count": 56,
   "id": "c9d51d84",
   "metadata": {},
   "outputs": [],
   "source": [
    "def get_sentiment(rating):\n",
    "    if rating <= 2:\n",
    "        return 'neg'\n",
    "    else:\n",
    "        return 'pos'"
   ]
  },
  {
   "cell_type": "code",
   "execution_count": 57,
   "id": "f54053dc",
   "metadata": {},
   "outputs": [],
   "source": [
    "df_nlp['label'] = df_nlp['rating'].apply(get_sentiment)"
   ]
  },
  {
   "cell_type": "code",
   "execution_count": 58,
   "id": "ab2097c5",
   "metadata": {},
   "outputs": [
    {
     "data": {
      "text/html": [
       "<div>\n",
       "<style scoped>\n",
       "    .dataframe tbody tr th:only-of-type {\n",
       "        vertical-align: middle;\n",
       "    }\n",
       "\n",
       "    .dataframe tbody tr th {\n",
       "        vertical-align: top;\n",
       "    }\n",
       "\n",
       "    .dataframe thead th {\n",
       "        text-align: right;\n",
       "    }\n",
       "</style>\n",
       "<table border=\"1\" class=\"dataframe\">\n",
       "  <thead>\n",
       "    <tr style=\"text-align: right;\">\n",
       "      <th></th>\n",
       "      <th>rating</th>\n",
       "      <th>reviewText</th>\n",
       "      <th>label</th>\n",
       "    </tr>\n",
       "  </thead>\n",
       "  <tbody>\n",
       "    <tr>\n",
       "      <th>0</th>\n",
       "      <td>5</td>\n",
       "      <td>This TV animation series opened up many disput...</td>\n",
       "      <td>pos</td>\n",
       "    </tr>\n",
       "    <tr>\n",
       "      <th>1</th>\n",
       "      <td>4</td>\n",
       "      <td>Here's a semi-remake of \"Holiday Inn\" (1942), ...</td>\n",
       "      <td>pos</td>\n",
       "    </tr>\n",
       "    <tr>\n",
       "      <th>2</th>\n",
       "      <td>4</td>\n",
       "      <td>This verison (which was first made as a theatr...</td>\n",
       "      <td>pos</td>\n",
       "    </tr>\n",
       "    <tr>\n",
       "      <th>3</th>\n",
       "      <td>5</td>\n",
       "      <td>Animation by Hayao Miyazaki and one of my favo...</td>\n",
       "      <td>pos</td>\n",
       "    </tr>\n",
       "    <tr>\n",
       "      <th>4</th>\n",
       "      <td>5</td>\n",
       "      <td>Japanese title is Macross and quite long TV an...</td>\n",
       "      <td>pos</td>\n",
       "    </tr>\n",
       "  </tbody>\n",
       "</table>\n",
       "</div>"
      ],
      "text/plain": [
       "   rating                                         reviewText label\n",
       "0       5  This TV animation series opened up many disput...   pos\n",
       "1       4  Here's a semi-remake of \"Holiday Inn\" (1942), ...   pos\n",
       "2       4  This verison (which was first made as a theatr...   pos\n",
       "3       5  Animation by Hayao Miyazaki and one of my favo...   pos\n",
       "4       5  Japanese title is Macross and quite long TV an...   pos"
      ]
     },
     "execution_count": 58,
     "metadata": {},
     "output_type": "execute_result"
    }
   ],
   "source": [
    "df_nlp.head()"
   ]
  },
  {
   "cell_type": "code",
   "execution_count": 66,
   "id": "005661a7",
   "metadata": {},
   "outputs": [
    {
     "data": {
      "image/png": "[encoded data removed]",
      "text/plain": [
       "<Figure size 400x600 with 1 Axes>"
      ]
     },
     "metadata": {},
     "output_type": "display_data"
    }
   ],
   "source": [
    "# create the bar plot\n",
    "plt.figure(figsize=(4,6))\n",
    "ax = df_nlp['label'].value_counts(normalize=True).mul(100).round(2).plot(kind='bar', rot=0)\n",
    "\n",
    "# set the x-axis label\n",
    "ax.set_xlabel('Sentiment')\n",
    "\n",
    "# set the y-axis label\n",
    "ax.set_ylabel('Percentage of data')\n",
    "\n",
    "# set the title of the plot\n",
    "ax.set_title('Pos vs Neg')\n",
    "\n",
    "# add a % sign to each bar\n",
    "for p in ax.patches:\n",
    "    ax.annotate(str(p.get_height()) + '%', (p.get_x() + p.get_width() / 2, p.get_height()),\n",
    "                ha='center', va='center', xytext=(0, 5), textcoords='offset points')\n",
    "\n",
    "# show the plot\n",
    "plt.show()\n"
   ]
  },
  {
   "cell_type": "markdown",
   "id": "1bfc161b",
   "metadata": {},
   "source": [
    "# Sentiment Analysis using VADER"
   ]
  },
  {
   "cell_type": "code",
   "execution_count": 69,
   "id": "8dcd6fca",
   "metadata": {},
   "outputs": [],
   "source": [
    "# !pip install nltk\n",
    "# import nltk\n",
    "# nltk.downloader.download('vader_lexicon')"
   ]
  },
  {
   "cell_type": "code",
   "execution_count": 70,
   "id": "0bec7d34",
   "metadata": {},
   "outputs": [],
   "source": [
    "# from nltk.sentiment.vader import SentimentIntensityAnalyzer\n",
    "# sid = SentimentIntensityAnalyzer()"
   ]
  },
  {
   "cell_type": "code",
   "execution_count": 95,
   "id": "c8806b05",
   "metadata": {},
   "outputs": [
    {
     "name": "stdout",
     "output_type": "stream",
     "text": [
      "Computational time taken = 273.23 seconds\n"
     ]
    },
    {
     "data": {
      "image/png": "[encoded data removed]",
      "text/plain": [
       "<Figure size 640x480 with 1 Axes>"
      ]
     },
     "metadata": {},
     "output_type": "display_data"
    }
   ],
   "source": [
    "# # This cell takes very long to run\n",
    "\n",
    "# import time\n",
    "# start_time = time.time()\n",
    "\n",
    "# # Testing VADER computational time for a subset of 100k reviews from df_nlp\n",
    "# testingdf = df_nlp['reviewText'][0:100000].apply(lambda review: {'positive': sid.polarity_scores(review)['pos'], 'negative': sid.polarity_scores(review)['neg']} )\n",
    "\n",
    "# # convert the resulting series of dictionaries to a dataframe\n",
    "# testingdf = pd.DataFrame(testingdf.tolist())\n",
    "\n",
    "# # plot the distribution of positive and negative sentiment scores\n",
    "# testingdf.plot(kind='density')\n",
    "\n",
    "\n",
    "# end_time = time.time()\n",
    "# time_taken = round(end_time-start_time,2)\n",
    "# print(f'Computational time taken = {time_taken} seconds') "
   ]
  },
  {
   "cell_type": "markdown",
   "id": "aa3f6f27",
   "metadata": {},
   "source": [
    "# Linear Support Vector Classifier for Sentiment Analysis"
   ]
  },
  {
   "cell_type": "code",
   "execution_count": 72,
   "id": "2a9618a0",
   "metadata": {},
   "outputs": [],
   "source": [
    "from sklearn.model_selection import train_test_split\n",
    "\n",
    "X = df_nlp['reviewText']\n",
    "y = df_nlp['label']\n",
    "\n",
    "X_train, X_test, y_train, y_test = train_test_split(X, y, test_size=0.3)"
   ]
  },
  {
   "cell_type": "code",
   "execution_count": 97,
   "id": "d8c12b11",
   "metadata": {},
   "outputs": [
    {
     "name": "stdout",
     "output_type": "stream",
     "text": [
      "Computational time taken = 79.55 seconds\n"
     ]
    }
   ],
   "source": [
    "from sklearn.pipeline import Pipeline\n",
    "from sklearn.feature_extraction.text import TfidfVectorizer\n",
    "from sklearn.svm import LinearSVC\n",
    "\n",
    "text_clf = Pipeline([('tfidf', TfidfVectorizer()),\n",
    "                     ('clf', LinearSVC()),])\n",
    "\n",
    "start_time = time.time()\n",
    "# Train the model by feeding the text data through the pipeline\n",
    "SVC_Model = text_clf.fit(X_train, y_train)  \n",
    "end_time = time.time()\n",
    "time_taken = round(end_time-start_time,2)\n",
    "print(f'Computational time taken = {time_taken} seconds') "
   ]
  },
  {
   "cell_type": "code",
   "execution_count": 98,
   "id": "39b4120f",
   "metadata": {},
   "outputs": [],
   "source": [
    "# Form a prediction set\n",
    "predictions = SVC_Model.predict(X_test)"
   ]
  },
  {
   "cell_type": "code",
   "execution_count": 99,
   "id": "97542e83",
   "metadata": {},
   "outputs": [
    {
     "name": "stdout",
     "output_type": "stream",
     "text": [
      "[[ 65124  27327]\n",
      " [ 12142 577794]]\n"
     ]
    }
   ],
   "source": [
    "# Report the confusion matrix\n",
    "from sklearn import metrics\n",
    "svc_metrics = metrics.confusion_matrix(y_test,predictions)\n",
    "print(svc_metrics)"
   ]
  },
  {
   "cell_type": "code",
   "execution_count": 100,
   "id": "3a9307a3",
   "metadata": {},
   "outputs": [
    {
     "data": {
      "text/plain": [
       "Text(50.722222222222214, 0.5, 'Actual Label')"
      ]
     },
     "execution_count": 100,
     "metadata": {},
     "output_type": "execute_result"
    },
    {
     "data": {
      "image/png": "[encoded data removed]",
      "text/plain": [
       "<Figure size 640x480 with 1 Axes>"
      ]
     },
     "metadata": {},
     "output_type": "display_data"
    }
   ],
   "source": [
    "heatmap = sns.heatmap(svc_metrics, annot=True, fmt='g', cmap='viridis', cbar=False)\n",
    "heatmap.set_xlabel('Predicted Label')\n",
    "heatmap.set_ylabel('Actual Label')"
   ]
  },
  {
   "cell_type": "code",
   "execution_count": 101,
   "id": "9d973e73",
   "metadata": {},
   "outputs": [
    {
     "name": "stdout",
     "output_type": "stream",
     "text": [
      "              precision    recall  f1-score   support\n",
      "\n",
      "         neg       0.84      0.70      0.77     92451\n",
      "         pos       0.95      0.98      0.97    589936\n",
      "\n",
      "    accuracy                           0.94    682387\n",
      "   macro avg       0.90      0.84      0.87    682387\n",
      "weighted avg       0.94      0.94      0.94    682387\n",
      "\n"
     ]
    }
   ],
   "source": [
    "# Print a classification report\n",
    "print(metrics.classification_report(y_test,predictions))"
   ]
  },
  {
   "cell_type": "code",
   "execution_count": 102,
   "id": "11556e52",
   "metadata": {},
   "outputs": [
    {
     "name": "stdout",
     "output_type": "stream",
     "text": [
      "0.9421603869944768\n"
     ]
    }
   ],
   "source": [
    "# Print the overall accuracy\n",
    "print(metrics.accuracy_score(y_test,predictions))"
   ]
  },
  {
   "cell_type": "code",
   "execution_count": 103,
   "id": "8e5c7fb6",
   "metadata": {},
   "outputs": [],
   "source": [
    "# # This code is to save the trained SVC_Model\n",
    "# import pickle\n",
    "\n",
    "# # save the SVC_Model object to a file\n",
    "# with open('SVC_Model.pickle', 'wb') as f:\n",
    "#     pickle.dump(SVC_Model, f)"
   ]
  },
  {
   "cell_type": "code",
   "execution_count": null,
   "id": "6a27b3e9",
   "metadata": {},
   "outputs": [],
   "source": [
    "# # This code is to load the trained SVC_Model\n",
    "# import pickle\n",
    "\n",
    "# # load the SVC_Model object from a file\n",
    "# with open('SVC_Model.pickle', 'rb') as f:\n",
    "#     SVC_Model = pickle.load(f)\n",
    "#     f.close()"
   ]
  },
  {
   "cell_type": "markdown",
   "id": "402c282c",
   "metadata": {},
   "source": [
    "# LSTM for Sentiment Analysis\n",
    "\n",
    "## Data preprocessing for input to LSTM "
   ]
  },
  {
   "cell_type": "code",
   "execution_count": 106,
   "id": "10b5d7b5",
   "metadata": {},
   "outputs": [
    {
     "data": {
      "text/plain": [
       "0          This TV animation series opened up many disput...\n",
       "1          Here's a semi-remake of \"Holiday Inn\" (1942), ...\n",
       "2          This verison (which was first made as a theatr...\n",
       "3          Animation by Hayao Miyazaki and one of my favo...\n",
       "4          Japanese title is Macross and quite long TV an...\n",
       "                                 ...                        \n",
       "2274616    I enjoyed it but can't say more so as not to s...\n",
       "2274617    I must say, this one is a really good one. I'd...\n",
       "2274618    Was there a chance that this movie would ever ...\n",
       "2274619    Susan Sarandon is a widow who just wants to sh...\n",
       "2274620    Me Natalie was released in 1969. It starred Pa...\n",
       "Name: reviewText, Length: 2274621, dtype: object"
      ]
     },
     "execution_count": 106,
     "metadata": {},
     "output_type": "execute_result"
    }
   ],
   "source": [
    "df_nlp['reviewText']"
   ]
  },
  {
   "cell_type": "code",
   "execution_count": 159,
   "id": "d10fdb31",
   "metadata": {},
   "outputs": [],
   "source": [
    "text = df_nlp['reviewText'].tolist()"
   ]
  },
  {
   "cell_type": "code",
   "execution_count": 162,
   "id": "491f222e",
   "metadata": {},
   "outputs": [],
   "source": [
    "import nltk\n",
    "from nltk.corpus import stopwords\n",
    "\n",
    "stop_words = set(stopwords.words('english'))\n",
    "\n",
    "# Remove stop words\n",
    "text = [' '.join(word for word in sentence.split() if word not in stop_words) for sentence in text]"
   ]
  },
  {
   "cell_type": "code",
   "execution_count": 163,
   "id": "de220799",
   "metadata": {},
   "outputs": [],
   "source": [
    "text_label = df_nlp['label'].replace({'pos': 1, 'neg': 0})\n",
    "text_label = np.array(text_label)"
   ]
  },
  {
   "cell_type": "code",
   "execution_count": 164,
   "id": "935df7a0",
   "metadata": {},
   "outputs": [
    {
     "name": "stdout",
     "output_type": "stream",
     "text": [
      "Computational time taken = 116.23 seconds\n"
     ]
    }
   ],
   "source": [
    "import tensorflow as tf\n",
    "from tensorflow.keras.models import Sequential\n",
    "from tensorflow.keras.layers import Embedding, LSTM, Dense, Bidirectional, GlobalAveragePooling1D, Flatten, Dropout\n",
    "from tensorflow.keras.preprocessing.text import Tokenizer\n",
    "from tensorflow.keras.preprocessing.sequence import pad_sequences\n",
    "from sklearn.model_selection import train_test_split\n",
    "import numpy as np\n",
    "\n",
    "start_time = time.time()\n",
    "# define the maximum number of words to consider in the vocabulary\n",
    "MAX_WORDS = 10000\n",
    "\n",
    "# define the maximum length of a sequence (in words)\n",
    "MAX_SEQ_LEN = 50\n",
    "oov_tok = \"<OOV>\"\n",
    "trunc_type='post'\n",
    "padding_type='post'\n",
    "\n",
    "tokenizer = Tokenizer(num_words=MAX_WORDS, oov_token=oov_tok)\n",
    "tokenizer.fit_on_texts(text)\n",
    "sequences = tokenizer.texts_to_sequences(text)\n",
    "\n",
    "# pad the sequences to a fixed length\n",
    "data = pad_sequences(sequences, maxlen=MAX_SEQ_LEN, padding=padding_type, truncating=trunc_type)\n",
    "\n",
    "# convert the target labels to a numpy array\n",
    "labels = np.array(text_label)\n",
    "\n",
    "# split the data into training and testing sets\n",
    "X_train, X_test, y_train, y_test = train_test_split(data, labels, test_size=0.3)\n",
    "\n",
    "\n",
    "end_time = time.time()\n",
    "time_taken = round(end_time-start_time,2)\n",
    "print(f'Computational time taken = {time_taken} seconds') "
   ]
  },
  {
   "cell_type": "code",
   "execution_count": 165,
   "id": "fe20290f",
   "metadata": {},
   "outputs": [],
   "source": [
    "model = tf.keras.Sequential([\n",
    "# YOUR CODE HERE. KEEP THIS OUTPUT LAYER INTACT OR TESTS MAY FAIL\n",
    "\n",
    "tf.keras.layers.Embedding(MAX_WORDS, 128, input_length=MAX_SEQ_LEN),\n",
    "# tf.keras.layers.Bidirectional(tf.keras.layers.LSTM(64, return_sequences=True)),\n",
    "tf.keras.layers.Bidirectional(tf.keras.layers.LSTM(16)),\n",
    "# tf.keras.layers.GlobalAveragePooling1D(),\n",
    "# tf.keras.layers.Flatten(),\n",
    "tf.keras.layers.Dense(32, activation='relu'),\n",
    "tf.keras.layers.Dropout(0.3),\n",
    "tf.keras.layers.Dense(1, activation='sigmoid')\n",
    "])\n",
    "\n",
    "\n",
    "# compile the model and specify the loss function and optimization algorithm\n",
    "model.compile(loss='binary_crossentropy', optimizer='adam', metrics=['accuracy'])"
   ]
  },
  {
   "cell_type": "code",
   "execution_count": 166,
   "id": "8d104b75",
   "metadata": {},
   "outputs": [
    {
     "name": "stdout",
     "output_type": "stream",
     "text": [
      "Model: \"sequential_10\"\n",
      "_________________________________________________________________\n",
      "Layer (type)                 Output Shape              Param #   \n",
      "=================================================================\n",
      "embedding_10 (Embedding)     (None, 50, 128)           1280000   \n",
      "_________________________________________________________________\n",
      "bidirectional_6 (Bidirection (None, 32)                18560     \n",
      "_________________________________________________________________\n",
      "dense_16 (Dense)             (None, 32)                1056      \n",
      "_________________________________________________________________\n",
      "dropout_6 (Dropout)          (None, 32)                0         \n",
      "_________________________________________________________________\n",
      "dense_17 (Dense)             (None, 1)                 33        \n",
      "=================================================================\n",
      "Total params: 1,299,649\n",
      "Trainable params: 1,299,649\n",
      "Non-trainable params: 0\n",
      "_________________________________________________________________\n"
     ]
    }
   ],
   "source": [
    "model.summary()"
   ]
  },
  {
   "cell_type": "code",
   "execution_count": 178,
   "id": "eb514e00",
   "metadata": {},
   "outputs": [
    {
     "name": "stdout",
     "output_type": "stream",
     "text": [
      "Epoch 1/10\n",
      "99515/99515 [==============================] - 964s 10ms/step - loss: 0.1629 - accuracy: 0.9385 - val_loss: 0.1599 - val_accuracy: 0.9387\n",
      "Epoch 2/10\n",
      "99515/99515 [==============================] - 942s 9ms/step - loss: 0.1527 - accuracy: 0.9425 - val_loss: 0.1615 - val_accuracy: 0.9385\n",
      "Epoch 3/10\n",
      "99515/99515 [==============================] - 949s 10ms/step - loss: 0.1474 - accuracy: 0.9444 - val_loss: 0.1668 - val_accuracy: 0.9379\n",
      "Epoch 4/10\n",
      "99515/99515 [==============================] - 975s 10ms/step - loss: 0.1438 - accuracy: 0.9460 - val_loss: 0.1660 - val_accuracy: 0.9387\n"
     ]
    }
   ],
   "source": [
    "from tensorflow.keras.callbacks import EarlyStopping\n",
    "from tqdm.keras import TqdmCallback\n",
    "\n",
    "num_epochs = 10\n",
    "early_stop = EarlyStopping(monitor='val_loss', patience=3)\n",
    "\n",
    "# compile the model and specify the loss function and optimization algorithm\n",
    "model.compile(loss='binary_crossentropy', optimizer='adam', metrics=['accuracy'])\n",
    "\n",
    "# train the model on the training data\n",
    "LSTM_Model = model.fit(X_train, y_train, epochs=num_epochs, batch_size=16, validation_data=(X_test, y_test), \n",
    "                        callbacks=[early_stop])\n"
   ]
  },
  {
   "cell_type": "code",
   "execution_count": 179,
   "id": "5dd0938a",
   "metadata": {},
   "outputs": [
    {
     "name": "stdout",
     "output_type": "stream",
     "text": [
      "Test accuracy: 0.9387092590332031\n"
     ]
    }
   ],
   "source": [
    "# evaluate the model on the testing data\n",
    "loss, accuracy = model.evaluate(X_test, y_test, verbose=0)\n",
    "print('Test accuracy:', accuracy)"
   ]
  },
  {
   "cell_type": "code",
   "execution_count": 180,
   "id": "c2b20d34",
   "metadata": {},
   "outputs": [
    {
     "name": "stdout",
     "output_type": "stream",
     "text": [
      "Test accuracy: 0.94\n",
      "F1 score: 0.97\n"
     ]
    }
   ],
   "source": [
    "# evaluate the model on the test data\n",
    "loss, accuracy = model.evaluate(X_test, y_test, verbose=0)\n",
    "print(f'Test accuracy: {accuracy:.2f}')\n",
    "\n",
    "# make predictions on the test data\n",
    "y_pred = model.predict(X_test)\n",
    "\n",
    "# convert the predicted probabilities to binary predictions\n",
    "y_pred = (y_pred > 0.5).astype(int)\n",
    "\n",
    "# calculate the F1 score\n",
    "from sklearn.metrics import f1_score\n",
    "f1score = f1_score(y_test, y_pred)\n",
    "print(f'F1 score: {f1score:.2f}')\n"
   ]
  },
  {
   "cell_type": "code",
   "execution_count": 181,
   "id": "97ba5256",
   "metadata": {},
   "outputs": [],
   "source": [
    "# # save the model to a file\n",
    "# model.save('LSTM_Model.h5')"
   ]
  },
  {
   "cell_type": "code",
   "execution_count": null,
   "id": "bb7077e1",
   "metadata": {},
   "outputs": [],
   "source": [
    "# from tensorflow.keras.models import load_model\n",
    "\n",
    "# # load the saved model\n",
    "# model = load_model('LSTM_Model.h5')"
   ]
  },
  {
   "cell_type": "code",
   "execution_count": 182,
   "id": "7966aae7",
   "metadata": {},
   "outputs": [
    {
     "name": "stdout",
     "output_type": "stream",
     "text": [
      "[[ 62463  30542]\n",
      " [ 11282 578100]]\n"
     ]
    }
   ],
   "source": [
    "from sklearn.metrics import confusion_matrix\n",
    "\n",
    "# get predicted labels for the test set\n",
    "y_pred = model.predict(X_test)\n",
    "\n",
    "# convert predicted probabilities to binary labels\n",
    "y_pred = np.round(y_pred)\n",
    "\n",
    "# compute the confusion matrix\n",
    "cm = confusion_matrix(y_test, y_pred)\n",
    "\n",
    "print(cm)\n"
   ]
  },
  {
   "cell_type": "code",
   "execution_count": 183,
   "id": "6f14ae5c",
   "metadata": {},
   "outputs": [
    {
     "name": "stdout",
     "output_type": "stream",
     "text": [
      "              precision    recall  f1-score   support\n",
      "\n",
      "           0       0.85      0.67      0.75     93005\n",
      "           1       0.95      0.98      0.97    589382\n",
      "\n",
      "    accuracy                           0.94    682387\n",
      "   macro avg       0.90      0.83      0.86    682387\n",
      "weighted avg       0.94      0.94      0.94    682387\n",
      "\n"
     ]
    }
   ],
   "source": [
    "# Print a classification report\n",
    "print(metrics.classification_report(y_test,y_pred))"
   ]
  },
  {
   "cell_type": "code",
   "execution_count": 184,
   "id": "c9d61fea",
   "metadata": {},
   "outputs": [
    {
     "data": {
      "text/plain": [
       "Text(50.722222222222214, 0.5, 'Actual Label')"
      ]
     },
     "execution_count": 184,
     "metadata": {},
     "output_type": "execute_result"
    },
    {
     "data": {
      "image/png": "[encoded data removed]",
      "text/plain": [
       "<Figure size 640x480 with 1 Axes>"
      ]
     },
     "metadata": {},
     "output_type": "display_data"
    }
   ],
   "source": [
    "heatmap = sns.heatmap(cm, annot=True, fmt='g', cmap='viridis', cbar=False)\n",
    "heatmap.set_xlabel('Predicted Label')\n",
    "heatmap.set_ylabel('Actual Label')"
   ]
  },
  {
   "cell_type": "code",
   "execution_count": null,
   "id": "1a65d6d4",
   "metadata": {},
   "outputs": [],
   "source": []
  }
 ],
 "metadata": {
  "kernelspec": {
   "display_name": "Python 3 (ipykernel)",
   "language": "python",
   "name": "python3"
  },
  "language_info": {
   "codemirror_mode": {
    "name": "ipython",
    "version": 3
   },
   "file_extension": ".py",
   "mimetype": "text/x-python",
   "name": "python",
   "nbconvert_exporter": "python",
   "pygments_lexer": "ipython3",
   "version": "3.9.16"
  }
 },
 "nbformat": 4,
 "nbformat_minor": 5
}
