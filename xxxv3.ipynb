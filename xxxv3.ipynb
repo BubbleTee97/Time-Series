{
 "cells": [
  {
   "cell_type": "markdown",
   "id": "f89145a1",
   "metadata": {},
   "source": [
    "# Dataset details:\n",
    "Dataset Title = Ratings and reviews for Movies/TV products from Amazon\n",
    "\n",
    "Size = 791MB\n",
    "\n",
    "Number of reviews = 3,410,019\n",
    "\n",
    "Date range = 1997-12-02 to 2018-10-01\n",
    "\n",
    "source: https://nijianmo.github.io/amazon/index.html"
   ]
  },
  {
   "cell_type": "code",
   "execution_count": 1,
   "id": "59ce759c",
   "metadata": {},
   "outputs": [],
   "source": [
    "import pandas as pd\n",
    "import numpy as np\n",
    "import matplotlib.pyplot as plt\n",
    "import seaborn as sns"
   ]
  },
  {
   "cell_type": "code",
   "execution_count": 2,
   "id": "4cd3af94",
   "metadata": {},
   "outputs": [],
   "source": [
    "df = pd.read_json(\"Movies_and_TV_5.json.gz\", compression='gzip', lines=True)"
   ]
  },
  {
   "cell_type": "code",
   "execution_count": 3,
   "id": "8737dc5b",
   "metadata": {},
   "outputs": [],
   "source": [
    "df_org = df \n",
    "# Save raw data backup copy to df_org"
   ]
  },
  {
   "cell_type": "code",
   "execution_count": 4,
   "id": "6a3fce2c",
   "metadata": {},
   "outputs": [
    {
     "data": {
      "text/html": [
       "<div>\n",
       "<style scoped>\n",
       "    .dataframe tbody tr th:only-of-type {\n",
       "        vertical-align: middle;\n",
       "    }\n",
       "\n",
       "    .dataframe tbody tr th {\n",
       "        vertical-align: top;\n",
       "    }\n",
       "\n",
       "    .dataframe thead th {\n",
       "        text-align: right;\n",
       "    }\n",
       "</style>\n",
       "<table border=\"1\" class=\"dataframe\">\n",
       "  <thead>\n",
       "    <tr style=\"text-align: right;\">\n",
       "      <th></th>\n",
       "      <th>overall</th>\n",
       "      <th>verified</th>\n",
       "      <th>reviewTime</th>\n",
       "      <th>reviewerID</th>\n",
       "      <th>asin</th>\n",
       "      <th>style</th>\n",
       "      <th>reviewerName</th>\n",
       "      <th>reviewText</th>\n",
       "      <th>summary</th>\n",
       "      <th>unixReviewTime</th>\n",
       "      <th>vote</th>\n",
       "      <th>image</th>\n",
       "    </tr>\n",
       "  </thead>\n",
       "  <tbody>\n",
       "    <tr>\n",
       "      <th>0</th>\n",
       "      <td>5</td>\n",
       "      <td>True</td>\n",
       "      <td>11 9, 2012</td>\n",
       "      <td>A2M1CU2IRZG0K9</td>\n",
       "      <td>0005089549</td>\n",
       "      <td>{'Format:': ' VHS Tape'}</td>\n",
       "      <td>Terri</td>\n",
       "      <td>So sorry I didn't purchase this years ago when...</td>\n",
       "      <td>Amazing!</td>\n",
       "      <td>1352419200</td>\n",
       "      <td>NaN</td>\n",
       "      <td>NaN</td>\n",
       "    </tr>\n",
       "    <tr>\n",
       "      <th>1</th>\n",
       "      <td>5</td>\n",
       "      <td>True</td>\n",
       "      <td>12 30, 2011</td>\n",
       "      <td>AFTUJYISOFHY6</td>\n",
       "      <td>0005089549</td>\n",
       "      <td>{'Format:': ' VHS Tape'}</td>\n",
       "      <td>Melissa D. Abercrombie</td>\n",
       "      <td>Believe me when I tell you that you will recei...</td>\n",
       "      <td>Great Gospel VHS of the Cathedrals!</td>\n",
       "      <td>1325203200</td>\n",
       "      <td>NaN</td>\n",
       "      <td>NaN</td>\n",
       "    </tr>\n",
       "    <tr>\n",
       "      <th>2</th>\n",
       "      <td>5</td>\n",
       "      <td>True</td>\n",
       "      <td>04 21, 2005</td>\n",
       "      <td>A3JVF9Y53BEOGC</td>\n",
       "      <td>000503860X</td>\n",
       "      <td>{'Format:': ' DVD'}</td>\n",
       "      <td>Anthony Thompson</td>\n",
       "      <td>I have seen X live many times, both in the ear...</td>\n",
       "      <td>A great document of a great band</td>\n",
       "      <td>1114041600</td>\n",
       "      <td>11</td>\n",
       "      <td>NaN</td>\n",
       "    </tr>\n",
       "    <tr>\n",
       "      <th>3</th>\n",
       "      <td>5</td>\n",
       "      <td>True</td>\n",
       "      <td>04 6, 2005</td>\n",
       "      <td>A12VPEOEZS1KTC</td>\n",
       "      <td>000503860X</td>\n",
       "      <td>{'Format:': ' DVD'}</td>\n",
       "      <td>JadeRain</td>\n",
       "      <td>I was so excited for this!  Finally, a live co...</td>\n",
       "      <td>YES!!  X LIVE!!</td>\n",
       "      <td>1112745600</td>\n",
       "      <td>5</td>\n",
       "      <td>NaN</td>\n",
       "    </tr>\n",
       "    <tr>\n",
       "      <th>4</th>\n",
       "      <td>5</td>\n",
       "      <td>True</td>\n",
       "      <td>12 3, 2010</td>\n",
       "      <td>ATLZNVLYKP9AZ</td>\n",
       "      <td>000503860X</td>\n",
       "      <td>{'Format:': ' DVD'}</td>\n",
       "      <td>T. Fisher</td>\n",
       "      <td>X is one of the best punk bands ever. I don't ...</td>\n",
       "      <td>X have still got it</td>\n",
       "      <td>1291334400</td>\n",
       "      <td>5</td>\n",
       "      <td>NaN</td>\n",
       "    </tr>\n",
       "  </tbody>\n",
       "</table>\n",
       "</div>"
      ],
      "text/plain": [
       "   overall  verified   reviewTime      reviewerID        asin  \\\n",
       "0        5      True   11 9, 2012  A2M1CU2IRZG0K9  0005089549   \n",
       "1        5      True  12 30, 2011   AFTUJYISOFHY6  0005089549   \n",
       "2        5      True  04 21, 2005  A3JVF9Y53BEOGC  000503860X   \n",
       "3        5      True   04 6, 2005  A12VPEOEZS1KTC  000503860X   \n",
       "4        5      True   12 3, 2010   ATLZNVLYKP9AZ  000503860X   \n",
       "\n",
       "                      style            reviewerName  \\\n",
       "0  {'Format:': ' VHS Tape'}                   Terri   \n",
       "1  {'Format:': ' VHS Tape'}  Melissa D. Abercrombie   \n",
       "2       {'Format:': ' DVD'}        Anthony Thompson   \n",
       "3       {'Format:': ' DVD'}                JadeRain   \n",
       "4       {'Format:': ' DVD'}               T. Fisher   \n",
       "\n",
       "                                          reviewText  \\\n",
       "0  So sorry I didn't purchase this years ago when...   \n",
       "1  Believe me when I tell you that you will recei...   \n",
       "2  I have seen X live many times, both in the ear...   \n",
       "3  I was so excited for this!  Finally, a live co...   \n",
       "4  X is one of the best punk bands ever. I don't ...   \n",
       "\n",
       "                               summary  unixReviewTime vote image  \n",
       "0                             Amazing!      1352419200  NaN   NaN  \n",
       "1  Great Gospel VHS of the Cathedrals!      1325203200  NaN   NaN  \n",
       "2     A great document of a great band      1114041600   11   NaN  \n",
       "3                      YES!!  X LIVE!!      1112745600    5   NaN  \n",
       "4                  X have still got it      1291334400    5   NaN  "
      ]
     },
     "execution_count": 4,
     "metadata": {},
     "output_type": "execute_result"
    }
   ],
   "source": [
    "df.head()"
   ]
  },
  {
   "cell_type": "code",
   "execution_count": 5,
   "id": "a8d3f0de",
   "metadata": {},
   "outputs": [
    {
     "name": "stdout",
     "output_type": "stream",
     "text": [
      "<class 'pandas.core.frame.DataFrame'>\n",
      "RangeIndex: 3410019 entries, 0 to 3410018\n",
      "Data columns (total 12 columns):\n",
      " #   Column          Dtype \n",
      "---  ------          ----- \n",
      " 0   overall         int64 \n",
      " 1   verified        bool  \n",
      " 2   reviewTime      object\n",
      " 3   reviewerID      object\n",
      " 4   asin            object\n",
      " 5   style           object\n",
      " 6   reviewerName    object\n",
      " 7   reviewText      object\n",
      " 8   summary         object\n",
      " 9   unixReviewTime  int64 \n",
      " 10  vote            object\n",
      " 11  image           object\n",
      "dtypes: bool(1), int64(2), object(9)\n",
      "memory usage: 289.4+ MB\n"
     ]
    }
   ],
   "source": [
    "df.info()"
   ]
  },
  {
   "cell_type": "code",
   "execution_count": 6,
   "id": "4ef475f4",
   "metadata": {},
   "outputs": [
    {
     "data": {
      "text/plain": [
       "Index(['overall', 'verified', 'reviewTime', 'reviewerID', 'asin', 'style',\n",
       "       'reviewerName', 'reviewText', 'summary', 'unixReviewTime', 'vote',\n",
       "       'image'],\n",
       "      dtype='object')"
      ]
     },
     "execution_count": 6,
     "metadata": {},
     "output_type": "execute_result"
    }
   ],
   "source": [
    "df.columns"
   ]
  },
  {
   "cell_type": "markdown",
   "id": "8ca35f57",
   "metadata": {},
   "source": [
    "# Data Cleaning"
   ]
  },
  {
   "cell_type": "code",
   "execution_count": 7,
   "id": "ae8103f6",
   "metadata": {},
   "outputs": [
    {
     "data": {
      "text/plain": [
       "overall                 0\n",
       "verified                0\n",
       "reviewTime              0\n",
       "reviewerID              0\n",
       "asin                    0\n",
       "style              174207\n",
       "reviewerName           82\n",
       "reviewText           1581\n",
       "summary               640\n",
       "unixReviewTime          0\n",
       "vote              2768010\n",
       "image             3403048\n",
       "dtype: int64"
      ]
     },
     "execution_count": 7,
     "metadata": {},
     "output_type": "execute_result"
    }
   ],
   "source": [
    "# Check for null entries\n",
    "df.isnull().sum()\n",
    "# Will be dropping null for column 'styles' ~5% of data later"
   ]
  },
  {
   "cell_type": "code",
   "execution_count": 8,
   "id": "c4b02347",
   "metadata": {},
   "outputs": [
    {
     "ename": "TypeError",
     "evalue": "unhashable type: 'dict'",
     "output_type": "error",
     "traceback": [
      "\u001b[1;31m---------------------------------------------------------------------------\u001b[0m",
      "\u001b[1;31mTypeError\u001b[0m                                 Traceback (most recent call last)",
      "\u001b[1;32mpandas\\_libs\\hashtable_class_helper.pxi\u001b[0m in \u001b[0;36mpandas._libs.hashtable.PyObjectHashTable.map_locations\u001b[1;34m()\u001b[0m\n",
      "\u001b[1;31mTypeError\u001b[0m: unhashable type: 'dict'"
     ]
    },
    {
     "name": "stderr",
     "output_type": "stream",
     "text": [
      "Exception ignored in: 'pandas._libs.index.IndexEngine._call_map_locations'\n",
      "Traceback (most recent call last):\n",
      "  File \"pandas\\_libs\\hashtable_class_helper.pxi\", line 4588, in pandas._libs.hashtable.PyObjectHashTable.map_locations\n",
      "TypeError: unhashable type: 'dict'\n"
     ]
    },
    {
     "data": {
      "text/plain": [
       "{'Format:': ' DVD'}                                1645586\n",
       "{'Format:': ' Amazon Video'}                       1027966\n",
       "{'Format:': ' Blu-ray'}                             335181\n",
       "{'Format:': ' Prime Video'}                         158950\n",
       "{'Format:': ' VHS Tape'}                             61821\n",
       "{'Format:': ' HD DVD'}                                1475\n",
       "{'Format:': ' DVD-R'}                                 1428\n",
       "{'Format:': ' Theatrical Release'}                     801\n",
       "{'Format:': ' Audio CD'}                               657\n",
       "{'Format:': ' DVD-ROM'}                                474\n",
       "{'Format:': ' UMD for PSP'}                            352\n",
       "{'Format:': ' Amazon Instant Video'}                   250\n",
       "{'Format:': ' Electronics'}                            116\n",
       "{'Format:': ' Hardcover'}                              107\n",
       "{'Format:': ' Interactive DVD'}                         97\n",
       "{'Format:': ' Paperback'}                               86\n",
       "{'Format:': ' Laser Disc'}                              80\n",
       "{'Format:': ' DVD Audio'}                               55\n",
       "{'Format:': ' Toy'}                                     36\n",
       "{'Format:': ' MP3 Music'}                               33\n",
       "{'Format:': ' Unknown Binding'}                         32\n",
       "{'Format:': ' Kindle Edition'}                          32\n",
       "{'Format:': ' CD-ROM'}                                  26\n",
       "{'Format:': ' Misc.'}                                   20\n",
       "{'Format:': ' Staple Bound'}                            19\n",
       "{'Size:': ' unknown'}                                   18\n",
       "{'Format:': ' Video CD'}                                14\n",
       "{'Format:': ' Wireless Phone Accessory'}                12\n",
       "{'Format:': ' Kindle Edition with Audio/Video'}         11\n",
       "{'Format:': ' Grocery'}                                  9\n",
       "{'Format:': ' Audio Cassette'}                           8\n",
       "{'Format:': ' Kitchen'}                                  8\n",
       "{'Size:': ' Dolphins'}                                   8\n",
       "{'Format:': ' Office Product'}                           7\n",
       "{'Format:': ' Vinyl'}                                    5\n",
       "{'Shape:': ' Hipcentric'}                                5\n",
       "{'Format:': ' Mass Market Paperback'}                    5\n",
       "{'Format:': ' Videotape'}                                5\n",
       "{'Format:': ' Video Game'}                               3\n",
       "{'Format:': ' Audible Audiobook'}                        3\n",
       "{'Shape:': ' Omnicentric'}                               2\n",
       "{'Format:': ' Misc. Supplies'}                           2\n",
       "{'Format:': ' MiniDisc'}                                 2\n",
       "{'Format:': ' Product Bundle'}                           1\n",
       "{'Format:': ' S-VHS'}                                    1\n",
       "{'Format:': ' Unbound'}                                  1\n",
       "{'Format:': ' Accessory'}                                1\n",
       "{'Format:': ' MP3 CD'}                                   1\n",
       "Name: style, dtype: int64"
      ]
     },
     "execution_count": 8,
     "metadata": {},
     "output_type": "execute_result"
    }
   ],
   "source": [
    "df['style'].value_counts() "
   ]
  },
  {
   "cell_type": "code",
   "execution_count": 9,
   "id": "d20ce62f",
   "metadata": {},
   "outputs": [
    {
     "data": {
      "text/plain": [
       "0          So sorry I didn't purchase this years ago when...\n",
       "1          Believe me when I tell you that you will recei...\n",
       "2          I have seen X live many times, both in the ear...\n",
       "3          I was so excited for this!  Finally, a live co...\n",
       "4          X is one of the best punk bands ever. I don't ...\n",
       "                                 ...                        \n",
       "3410014    The singing parts are very good as expected fr...\n",
       "3410015    This recording of the 2015 production by the M...\n",
       "3410016    I do not wish to write a review about this rel...\n",
       "3410017                                       It was a gift.\n",
       "3410018    This Otello originates from the Salzburg Festi...\n",
       "Name: reviewText, Length: 3410019, dtype: object"
      ]
     },
     "execution_count": 9,
     "metadata": {},
     "output_type": "execute_result"
    }
   ],
   "source": [
    "df['reviewText']"
   ]
  },
  {
   "cell_type": "code",
   "execution_count": 10,
   "id": "6f3e7f29",
   "metadata": {},
   "outputs": [
    {
     "data": {
      "text/plain": [
       "\"So sorry I didn't purchase this years ago when it first came out!!  This is very good and entertaining!  We absolutely loved it and anticipate seeing it repeatedly.  We actually wore out the cassette years back, so we also purchased this same product on cd.  Best purchase we made out of all!  Would purchase on dvd if we could find one.\""
      ]
     },
     "execution_count": 10,
     "metadata": {},
     "output_type": "execute_result"
    }
   ],
   "source": [
    "df['reviewText'][0]"
   ]
  },
  {
   "cell_type": "code",
   "execution_count": 11,
   "id": "17b811dc",
   "metadata": {},
   "outputs": [],
   "source": [
    "# Drop null values from these columns\n",
    "df = df.dropna(subset=['style','reviewerName', 'reviewText', 'summary'])"
   ]
  },
  {
   "cell_type": "code",
   "execution_count": 12,
   "id": "834d5b25",
   "metadata": {},
   "outputs": [
    {
     "name": "stderr",
     "output_type": "stream",
     "text": [
      "C:\\ProgramData\\Anaconda3\\lib\\site-packages\\pandas\\core\\frame.py:4308: SettingWithCopyWarning: \n",
      "A value is trying to be set on a copy of a slice from a DataFrame\n",
      "\n",
      "See the caveats in the documentation: https://pandas.pydata.org/pandas-docs/stable/user_guide/indexing.html#returning-a-view-versus-a-copy\n",
      "  return super().drop(\n"
     ]
    }
   ],
   "source": [
    "# Drop these columns\n",
    "df.drop(['vote','image','unixReviewTime'],axis=1,inplace=True)"
   ]
  },
  {
   "cell_type": "code",
   "execution_count": 13,
   "id": "8cc4c56a",
   "metadata": {},
   "outputs": [
    {
     "data": {
      "text/plain": [
       "overall         0\n",
       "verified        0\n",
       "reviewTime      0\n",
       "reviewerID      0\n",
       "asin            0\n",
       "style           0\n",
       "reviewerName    0\n",
       "reviewText      0\n",
       "summary         0\n",
       "dtype: int64"
      ]
     },
     "execution_count": 13,
     "metadata": {},
     "output_type": "execute_result"
    }
   ],
   "source": [
    "# Check if data is cleaned\n",
    "df.isnull().sum()"
   ]
  },
  {
   "cell_type": "code",
   "execution_count": 14,
   "id": "014f27cb",
   "metadata": {},
   "outputs": [],
   "source": [
    "duplicated_reviews = df[df.duplicated(['reviewText'], keep=False)]"
   ]
  },
  {
   "cell_type": "code",
   "execution_count": 15,
   "id": "ba90dc5b",
   "metadata": {},
   "outputs": [
    {
     "name": "stdout",
     "output_type": "stream",
     "text": [
      "<class 'pandas.core.frame.DataFrame'>\n",
      "Int64Index: 868955 entries, 29 to 3410018\n",
      "Data columns (total 9 columns):\n",
      " #   Column        Non-Null Count   Dtype \n",
      "---  ------        --------------   ----- \n",
      " 0   overall       868955 non-null  int64 \n",
      " 1   verified      868955 non-null  bool  \n",
      " 2   reviewTime    868955 non-null  object\n",
      " 3   reviewerID    868955 non-null  object\n",
      " 4   asin          868955 non-null  object\n",
      " 5   style         868955 non-null  object\n",
      " 6   reviewerName  868955 non-null  object\n",
      " 7   reviewText    868955 non-null  object\n",
      " 8   summary       868955 non-null  object\n",
      "dtypes: bool(1), int64(1), object(7)\n",
      "memory usage: 60.5+ MB\n"
     ]
    }
   ],
   "source": [
    "duplicated_reviews.info()\n",
    "# We have about 860k duplicates of text review\n",
    "# lets remove them, which is about 25% of the dataset"
   ]
  },
  {
   "cell_type": "code",
   "execution_count": 16,
   "id": "3032fbac",
   "metadata": {},
   "outputs": [],
   "source": [
    "df = df.drop_duplicates(subset=['reviewText'])"
   ]
  },
  {
   "cell_type": "code",
   "execution_count": 17,
   "id": "fdc74340",
   "metadata": {},
   "outputs": [
    {
     "name": "stdout",
     "output_type": "stream",
     "text": [
      "<class 'pandas.core.frame.DataFrame'>\n",
      "Int64Index: 2560768 entries, 0 to 3410016\n",
      "Data columns (total 9 columns):\n",
      " #   Column        Dtype \n",
      "---  ------        ----- \n",
      " 0   overall       int64 \n",
      " 1   verified      bool  \n",
      " 2   reviewTime    object\n",
      " 3   reviewerID    object\n",
      " 4   asin          object\n",
      " 5   style         object\n",
      " 6   reviewerName  object\n",
      " 7   reviewText    object\n",
      " 8   summary       object\n",
      "dtypes: bool(1), int64(1), object(7)\n",
      "memory usage: 178.3+ MB\n"
     ]
    }
   ],
   "source": [
    "df.info()\n",
    "# We still have 2.5 million entries after removing 25% of data"
   ]
  },
  {
   "cell_type": "code",
   "execution_count": 18,
   "id": "1a3ae86c",
   "metadata": {},
   "outputs": [
    {
     "data": {
      "text/plain": [
       "str"
      ]
     },
     "execution_count": 18,
     "metadata": {},
     "output_type": "execute_result"
    }
   ],
   "source": [
    "type(df['reviewTime'][0]) \n",
    "# time in str format, lets change it to datetime object next"
   ]
  },
  {
   "cell_type": "code",
   "execution_count": 19,
   "id": "8deb15ed",
   "metadata": {},
   "outputs": [],
   "source": [
    "df['reviewTime'] = pd.to_datetime(df['reviewTime'], format='%m %d, %Y')"
   ]
  },
  {
   "cell_type": "code",
   "execution_count": 20,
   "id": "979a601a",
   "metadata": {},
   "outputs": [
    {
     "data": {
      "text/plain": [
       "pandas._libs.tslibs.timestamps.Timestamp"
      ]
     },
     "execution_count": 20,
     "metadata": {},
     "output_type": "execute_result"
    }
   ],
   "source": [
    "type(df['reviewTime'][0])"
   ]
  },
  {
   "cell_type": "code",
   "execution_count": 21,
   "id": "9472f0cd",
   "metadata": {},
   "outputs": [
    {
     "name": "stderr",
     "output_type": "stream",
     "text": [
      "<ipython-input-21-080577b3d46f>:1: FutureWarning: Treating datetime data as categorical rather than numeric in `.describe` is deprecated and will be removed in a future version of pandas. Specify `datetime_is_numeric=True` to silence this warning and adopt the future behavior now.\n",
      "  df['reviewTime'].describe()\n"
     ]
    },
    {
     "data": {
      "text/plain": [
       "count                 2560768\n",
       "unique                   7285\n",
       "top       2015-02-20 00:00:00\n",
       "freq                     6021\n",
       "first     1997-12-02 00:00:00\n",
       "last      2018-10-01 00:00:00\n",
       "Name: reviewTime, dtype: object"
      ]
     },
     "execution_count": 21,
     "metadata": {},
     "output_type": "execute_result"
    }
   ],
   "source": [
    "df['reviewTime'].describe()"
   ]
  },
  {
   "cell_type": "code",
   "execution_count": 22,
   "id": "3f8c7358",
   "metadata": {},
   "outputs": [],
   "source": [
    "df = df.reset_index(drop=True)"
   ]
  },
  {
   "cell_type": "code",
   "execution_count": 23,
   "id": "358c5563",
   "metadata": {},
   "outputs": [],
   "source": [
    "# For aesthetics purposes\n",
    "df = df.rename(columns={'overall':'rating','asin':'productID','style':'productType'})"
   ]
  },
  {
   "cell_type": "code",
   "execution_count": 24,
   "id": "76271a3e",
   "metadata": {},
   "outputs": [],
   "source": [
    "# Clone to another df called df1, will be setting index to date for this df1\n",
    "# Now df will be a backup and will be working on df1 here onwards\n",
    "# Note that we still have df_org as the raw data backup copy\n",
    "df1 = df"
   ]
  },
  {
   "cell_type": "code",
   "execution_count": 25,
   "id": "61e8e0ed",
   "metadata": {},
   "outputs": [],
   "source": [
    "df1 = df1.set_index('reviewTime')"
   ]
  },
  {
   "cell_type": "code",
   "execution_count": 26,
   "id": "5d28e3c0",
   "metadata": {},
   "outputs": [],
   "source": [
    "df1 = df1.sort_index()"
   ]
  },
  {
   "cell_type": "code",
   "execution_count": 27,
   "id": "5e06f813",
   "metadata": {},
   "outputs": [
    {
     "data": {
      "text/html": [
       "<div>\n",
       "<style scoped>\n",
       "    .dataframe tbody tr th:only-of-type {\n",
       "        vertical-align: middle;\n",
       "    }\n",
       "\n",
       "    .dataframe tbody tr th {\n",
       "        vertical-align: top;\n",
       "    }\n",
       "\n",
       "    .dataframe thead th {\n",
       "        text-align: right;\n",
       "    }\n",
       "</style>\n",
       "<table border=\"1\" class=\"dataframe\">\n",
       "  <thead>\n",
       "    <tr style=\"text-align: right;\">\n",
       "      <th></th>\n",
       "      <th>rating</th>\n",
       "      <th>verified</th>\n",
       "      <th>reviewerID</th>\n",
       "      <th>productID</th>\n",
       "      <th>productType</th>\n",
       "      <th>reviewerName</th>\n",
       "      <th>reviewText</th>\n",
       "      <th>summary</th>\n",
       "    </tr>\n",
       "    <tr>\n",
       "      <th>reviewTime</th>\n",
       "      <th></th>\n",
       "      <th></th>\n",
       "      <th></th>\n",
       "      <th></th>\n",
       "      <th></th>\n",
       "      <th></th>\n",
       "      <th></th>\n",
       "      <th></th>\n",
       "    </tr>\n",
       "  </thead>\n",
       "  <tbody>\n",
       "    <tr>\n",
       "      <th>1997-12-02</th>\n",
       "      <td>5</td>\n",
       "      <td>False</td>\n",
       "      <td>A28BJ12568I17K</td>\n",
       "      <td>6304123523</td>\n",
       "      <td>{'Format:': ' VHS Tape'}</td>\n",
       "      <td>Mire Uno</td>\n",
       "      <td>This TV animation series opened up many disput...</td>\n",
       "      <td>It arose \"Evangelion Phenomina\" in Japan</td>\n",
       "    </tr>\n",
       "    <tr>\n",
       "      <th>1998-01-03</th>\n",
       "      <td>4</td>\n",
       "      <td>False</td>\n",
       "      <td>A30Q8X8B1S3GGT</td>\n",
       "      <td>6300215695</td>\n",
       "      <td>{'Format:': ' VHS Tape'}</td>\n",
       "      <td>Mark Savary</td>\n",
       "      <td>Here's a semi-remake of \"Holiday Inn\" (1942), ...</td>\n",
       "      <td>Holiday favorite with Bing Crosby and Danny Kaye!</td>\n",
       "    </tr>\n",
       "    <tr>\n",
       "      <th>1998-01-03</th>\n",
       "      <td>4</td>\n",
       "      <td>True</td>\n",
       "      <td>A3TQZ521KSRUZ1</td>\n",
       "      <td>B0001NBMEY</td>\n",
       "      <td>{'Format:': ' VHS Tape'}</td>\n",
       "      <td>Anthony Scheinman</td>\n",
       "      <td>This verison (which was first made as a theatr...</td>\n",
       "      <td>A version that will keep viewers riveted!</td>\n",
       "    </tr>\n",
       "    <tr>\n",
       "      <th>1998-02-05</th>\n",
       "      <td>5</td>\n",
       "      <td>False</td>\n",
       "      <td>A28BJ12568I17K</td>\n",
       "      <td>6303118240</td>\n",
       "      <td>{'Format:': ' VHS Tape'}</td>\n",
       "      <td>Mire Uno</td>\n",
       "      <td>Animation by Hayao Miyazaki and one of my favo...</td>\n",
       "      <td>Nostalgy for Japan in 50s</td>\n",
       "    </tr>\n",
       "    <tr>\n",
       "      <th>1998-02-24</th>\n",
       "      <td>5</td>\n",
       "      <td>False</td>\n",
       "      <td>A28BJ12568I17K</td>\n",
       "      <td>6304164084</td>\n",
       "      <td>{'Format:': ' VHS Tape'}</td>\n",
       "      <td>Mire Uno</td>\n",
       "      <td>Japanese title is Macross and quite long TV an...</td>\n",
       "      <td>Macross: well loved saga in Japan</td>\n",
       "    </tr>\n",
       "    <tr>\n",
       "      <th>...</th>\n",
       "      <td>...</td>\n",
       "      <td>...</td>\n",
       "      <td>...</td>\n",
       "      <td>...</td>\n",
       "      <td>...</td>\n",
       "      <td>...</td>\n",
       "      <td>...</td>\n",
       "      <td>...</td>\n",
       "    </tr>\n",
       "    <tr>\n",
       "      <th>2018-09-28</th>\n",
       "      <td>4</td>\n",
       "      <td>True</td>\n",
       "      <td>A2TRYG5M981MG8</td>\n",
       "      <td>B01FRCEVDM</td>\n",
       "      <td>{'Format:': ' DVD'}</td>\n",
       "      <td>Robert E</td>\n",
       "      <td>I enjoyed it but can't say more so as not to s...</td>\n",
       "      <td>Interesting Movie</td>\n",
       "    </tr>\n",
       "    <tr>\n",
       "      <th>2018-09-29</th>\n",
       "      <td>5</td>\n",
       "      <td>True</td>\n",
       "      <td>A1Y5BG2UI932NA</td>\n",
       "      <td>B01HEXXM9G</td>\n",
       "      <td>{'Format:': ' Blu-ray'}</td>\n",
       "      <td>Crazzie1</td>\n",
       "      <td>I must say, this one is a really good one. I'd...</td>\n",
       "      <td>Dont pass it up.</td>\n",
       "    </tr>\n",
       "    <tr>\n",
       "      <th>2018-09-29</th>\n",
       "      <td>4</td>\n",
       "      <td>True</td>\n",
       "      <td>A26NCB8P62PZAW</td>\n",
       "      <td>B01GF9N7FE</td>\n",
       "      <td>{'Format:': ' DVD'}</td>\n",
       "      <td>S. Karl</td>\n",
       "      <td>Was there a chance that this movie would ever ...</td>\n",
       "      <td>Not for the Oscar crowd.</td>\n",
       "    </tr>\n",
       "    <tr>\n",
       "      <th>2018-09-29</th>\n",
       "      <td>4</td>\n",
       "      <td>False</td>\n",
       "      <td>A2O4V3MCB7EPPU</td>\n",
       "      <td>B01H2G0LX0</td>\n",
       "      <td>{'Format:': ' DVD'}</td>\n",
       "      <td>Bellingham Bookworm</td>\n",
       "      <td>Susan Sarandon is a widow who just wants to sh...</td>\n",
       "      <td>A sweet and lovely movie</td>\n",
       "    </tr>\n",
       "    <tr>\n",
       "      <th>2018-10-01</th>\n",
       "      <td>5</td>\n",
       "      <td>True</td>\n",
       "      <td>A3JJ21YCMGSKGH</td>\n",
       "      <td>B01HD2TOWW</td>\n",
       "      <td>{'Format:': ' DVD'}</td>\n",
       "      <td>Amazon Customer</td>\n",
       "      <td>Me Natalie was released in 1969. It starred Pa...</td>\n",
       "      <td>Wnderful Patty Duke Film !</td>\n",
       "    </tr>\n",
       "  </tbody>\n",
       "</table>\n",
       "<p>2560768 rows × 8 columns</p>\n",
       "</div>"
      ],
      "text/plain": [
       "            rating  verified      reviewerID   productID  \\\n",
       "reviewTime                                                 \n",
       "1997-12-02       5     False  A28BJ12568I17K  6304123523   \n",
       "1998-01-03       4     False  A30Q8X8B1S3GGT  6300215695   \n",
       "1998-01-03       4      True  A3TQZ521KSRUZ1  B0001NBMEY   \n",
       "1998-02-05       5     False  A28BJ12568I17K  6303118240   \n",
       "1998-02-24       5     False  A28BJ12568I17K  6304164084   \n",
       "...            ...       ...             ...         ...   \n",
       "2018-09-28       4      True  A2TRYG5M981MG8  B01FRCEVDM   \n",
       "2018-09-29       5      True  A1Y5BG2UI932NA  B01HEXXM9G   \n",
       "2018-09-29       4      True  A26NCB8P62PZAW  B01GF9N7FE   \n",
       "2018-09-29       4     False  A2O4V3MCB7EPPU  B01H2G0LX0   \n",
       "2018-10-01       5      True  A3JJ21YCMGSKGH  B01HD2TOWW   \n",
       "\n",
       "                         productType         reviewerName  \\\n",
       "reviewTime                                                  \n",
       "1997-12-02  {'Format:': ' VHS Tape'}             Mire Uno   \n",
       "1998-01-03  {'Format:': ' VHS Tape'}          Mark Savary   \n",
       "1998-01-03  {'Format:': ' VHS Tape'}    Anthony Scheinman   \n",
       "1998-02-05  {'Format:': ' VHS Tape'}             Mire Uno   \n",
       "1998-02-24  {'Format:': ' VHS Tape'}             Mire Uno   \n",
       "...                              ...                  ...   \n",
       "2018-09-28       {'Format:': ' DVD'}             Robert E   \n",
       "2018-09-29   {'Format:': ' Blu-ray'}             Crazzie1   \n",
       "2018-09-29       {'Format:': ' DVD'}              S. Karl   \n",
       "2018-09-29       {'Format:': ' DVD'}  Bellingham Bookworm   \n",
       "2018-10-01       {'Format:': ' DVD'}      Amazon Customer   \n",
       "\n",
       "                                                   reviewText  \\\n",
       "reviewTime                                                      \n",
       "1997-12-02  This TV animation series opened up many disput...   \n",
       "1998-01-03  Here's a semi-remake of \"Holiday Inn\" (1942), ...   \n",
       "1998-01-03  This verison (which was first made as a theatr...   \n",
       "1998-02-05  Animation by Hayao Miyazaki and one of my favo...   \n",
       "1998-02-24  Japanese title is Macross and quite long TV an...   \n",
       "...                                                       ...   \n",
       "2018-09-28  I enjoyed it but can't say more so as not to s...   \n",
       "2018-09-29  I must say, this one is a really good one. I'd...   \n",
       "2018-09-29  Was there a chance that this movie would ever ...   \n",
       "2018-09-29  Susan Sarandon is a widow who just wants to sh...   \n",
       "2018-10-01  Me Natalie was released in 1969. It starred Pa...   \n",
       "\n",
       "                                                      summary  \n",
       "reviewTime                                                     \n",
       "1997-12-02           It arose \"Evangelion Phenomina\" in Japan  \n",
       "1998-01-03  Holiday favorite with Bing Crosby and Danny Kaye!  \n",
       "1998-01-03          A version that will keep viewers riveted!  \n",
       "1998-02-05                          Nostalgy for Japan in 50s  \n",
       "1998-02-24                  Macross: well loved saga in Japan  \n",
       "...                                                       ...  \n",
       "2018-09-28                                  Interesting Movie  \n",
       "2018-09-29                                   Dont pass it up.  \n",
       "2018-09-29                           Not for the Oscar crowd.  \n",
       "2018-09-29                           A sweet and lovely movie  \n",
       "2018-10-01                         Wnderful Patty Duke Film !  \n",
       "\n",
       "[2560768 rows x 8 columns]"
      ]
     },
     "execution_count": 27,
     "metadata": {},
     "output_type": "execute_result"
    }
   ],
   "source": [
    "df1"
   ]
  },
  {
   "cell_type": "markdown",
   "id": "49632048",
   "metadata": {},
   "source": [
    "# Exploratory Data Analysis"
   ]
  },
  {
   "cell_type": "code",
   "execution_count": 28,
   "id": "1e8a2683",
   "metadata": {},
   "outputs": [
    {
     "data": {
      "image/png": "[encoded data removed]",
      "text/plain": [
       "<Figure size 720x432 with 1 Axes>"
      ]
     },
     "metadata": {
      "needs_background": "light"
     },
     "output_type": "display_data"
    }
   ],
   "source": [
    "# Line plot to visualize the number of reviews per day across the datetime index\n",
    "df_count = df1.resample('D').count()\n",
    "df_count.plot(kind='line', figsize=(10, 6), legend=None, color='#00ace6')\n",
    "plt.xlabel('Date')\n",
    "plt.ylabel('Reviews per Day')\n",
    "plt.title('Daily reviews across time period')\n",
    "plt.show()"
   ]
  },
  {
   "cell_type": "code",
   "execution_count": 29,
   "id": "482a657e",
   "metadata": {},
   "outputs": [
    {
     "data": {
      "text/plain": [
       "6021"
      ]
     },
     "execution_count": 29,
     "metadata": {},
     "output_type": "execute_result"
    }
   ],
   "source": [
    "df_count['rating'].max()"
   ]
  },
  {
   "cell_type": "code",
   "execution_count": 30,
   "id": "de5cb9de",
   "metadata": {},
   "outputs": [
    {
     "name": "stdout",
     "output_type": "stream",
     "text": [
      "The highest number of reviews made in a day was 6021 reviews\n",
      "This occurred on 2015-02-20 00:00:00\n"
     ]
    }
   ],
   "source": [
    "most_reviews = df_count['rating'].max()\n",
    "date_most_reviews = df_count.index[df_count['rating'] == 6021]\n",
    "# Highest number of reviews made in a day was 6021 reviews\n",
    "print(f\"The highest number of reviews made in a day was {most_reviews} reviews\")\n",
    "print(f\"This occurred on {date_most_reviews[0]}\")"
   ]
  },
  {
   "cell_type": "code",
   "execution_count": 31,
   "id": "5ac766e5",
   "metadata": {},
   "outputs": [
    {
     "data": {
      "image/png": "[encoded data removed]",
      "text/plain": [
       "<Figure size 360x432 with 1 Axes>"
      ]
     },
     "metadata": {
      "needs_background": "light"
     },
     "output_type": "display_data"
    }
   ],
   "source": [
    "# Barplot to visualize the ratings made by the customers\n",
    "plt.figure(figsize=(5,6))\n",
    "rating = df1['rating'].value_counts().sort_index(ascending=False)[::-1]\n",
    "total_count = len(df1)\n",
    "ax = rating.plot(kind='bar')\n",
    "for i,v in enumerate(rating):\n",
    "    percent = round((v/total_count)*100, 2)\n",
    "    ax.text(i-0.3, v+25000, str(percent) + '%')\n",
    "plt.xlabel('Ratings')\n",
    "plt.ylabel('Number of ratings')\n",
    "plt.xticks(rotation=0)  \n",
    "plt.show()"
   ]
  },
  {
   "cell_type": "code",
   "execution_count": 32,
   "id": "0113f3b1",
   "metadata": {},
   "outputs": [
    {
     "data": {
      "image/png": "[encoded data removed]",
      "text/plain": [
       "<Figure size 288x432 with 1 Axes>"
      ]
     },
     "metadata": {
      "needs_background": "light"
     },
     "output_type": "display_data"
    }
   ],
   "source": [
    "# Barplot to visualize between the verified and not verified users\n",
    "plt.figure(figsize=(4,6))\n",
    "rating = df1['verified'].value_counts()\n",
    "total_count = len(df1)\n",
    "ax = rating.plot(kind='bar')\n",
    "for i,v in enumerate(rating):\n",
    "    percent = round((v/total_count)*100, 2)\n",
    "    ax.text(i-0.15, v+25000, str(percent) + '%')\n",
    "plt.xlabel('Verified')\n",
    "plt.xticks(rotation=0)\n",
    "plt.ylabel('Number of Users')\n",
    "plt.show()"
   ]
  },
  {
   "cell_type": "code",
   "execution_count": 33,
   "id": "a65d098a",
   "metadata": {},
   "outputs": [
    {
     "data": {
      "image/png": "[encoded data removed]",
      "text/plain": [
       "<Figure size 360x432 with 1 Axes>"
      ]
     },
     "metadata": {
      "needs_background": "light"
     },
     "output_type": "display_data"
    },
    {
     "data": {
      "image/png": "[encoded data removed]",
      "text/plain": [
       "<Figure size 360x432 with 1 Axes>"
      ]
     },
     "metadata": {
      "needs_background": "light"
     },
     "output_type": "display_data"
    }
   ],
   "source": [
    "'''\n",
    "Documentation to elaborate the definition of 'verified review'\n",
    "\n",
    "A 'verified review' means that the reviewer bought or used the item\n",
    "on Amazon, and paid a price available to most Amazon shoppers. \n",
    "After someone submits a review, Amazon check if they: \n",
    "Bought or used the item on Amazon; Paid a price available to most Amazon shoppers.\n",
    "\n",
    "'''\n",
    "\n",
    "\n",
    "\n",
    "'''\n",
    "\n",
    "This visualization checks whether there is any intentional input bias from\n",
    "non-verified reviewers whereby they could deliberately spam bad ratings (1-2)\n",
    "to skew to overall rating for the product.\n",
    "\n",
    "By comparing verified vs non-verified ratings, we can see that the overall\n",
    "sentiment is less positive for the non-verified ratings\n",
    "\n",
    "\n",
    "'''\n",
    "\n",
    "\n",
    "# Perform a visualization on the ratings made by the verified reviews\n",
    "\n",
    "# Subset the dataframe to only include rows where gender is male\n",
    "df_true = df1[df1['verified'] == True]\n",
    "\n",
    "# Group by rating and calculate the sum of total_ratings for each rating\n",
    "true_ratings = df_true.groupby('rating')['verified'].sum()\n",
    "\n",
    "# Create a barplot of the male ratings\n",
    "plt.figure(figsize=(5,6))\n",
    "plt.bar(true_ratings.index, true_ratings.values)\n",
    "plt.xlabel('Rating')\n",
    "plt.ylabel('Total Ratings')\n",
    "plt.title('Total Ratings by verified==True')\n",
    "\n",
    "# Add percentage values to each bar\n",
    "total = sum(true_ratings)\n",
    "for i, v in enumerate(true_ratings):\n",
    "    percent = round((v/total)*100, 2)\n",
    "    plt.text(i+0.8, v+6000, str(percent)+'%')\n",
    "    \n",
    "plt.show()\n",
    "\n",
    "\n",
    "\n",
    "\n",
    "df_false = df1[df1['verified'] == False]\n",
    "plt.figure(figsize=(5,6))\n",
    "rating = df_false['rating'].value_counts().sort_index(ascending=False)[::-1]\n",
    "total_count = len(df_false)\n",
    "ax = rating.plot(kind='bar')\n",
    "for i,v in enumerate(rating):\n",
    "    percent = round((v/total_count)*100, 2)\n",
    "    ax.text(i-0.3, v+4000, str(percent) + '%')\n",
    "plt.title('Total Ratings by verified==False')\n",
    "plt.xlabel('Ratings')\n",
    "plt.ylabel('Number of ratings')\n",
    "plt.xticks(rotation=0)  \n",
    "plt.show()"
   ]
  },
  {
   "cell_type": "code",
   "execution_count": 34,
   "id": "74ddcee3",
   "metadata": {},
   "outputs": [
    {
     "data": {
      "image/png": "[encoded data removed]",
      "text/plain": [
       "<Figure size 720x432 with 1 Axes>"
      ]
     },
     "metadata": {
      "needs_background": "light"
     },
     "output_type": "display_data"
    }
   ],
   "source": [
    "# Line plot to visualize the number of reviews per day across the datetime index\n",
    "df_false_count = df_false.resample('D').count()\n",
    "df_false_count.plot(kind='line', figsize=(10, 6), legend=None, color='#00ace6')\n",
    "plt.xlabel('Date')\n",
    "plt.ylabel('Reviews per Day')\n",
    "plt.title('Daily reviews across time period')\n",
    "plt.show()"
   ]
  },
  {
   "cell_type": "code",
   "execution_count": 35,
   "id": "6aa97ed9",
   "metadata": {},
   "outputs": [
    {
     "data": {
      "text/plain": [
       "1360"
      ]
     },
     "execution_count": 35,
     "metadata": {},
     "output_type": "execute_result"
    }
   ],
   "source": [
    "df_false_count['rating'].max()"
   ]
  },
  {
   "cell_type": "code",
   "execution_count": 36,
   "id": "3a9955cc",
   "metadata": {},
   "outputs": [
    {
     "data": {
      "text/html": [
       "<div>\n",
       "<style scoped>\n",
       "    .dataframe tbody tr th:only-of-type {\n",
       "        vertical-align: middle;\n",
       "    }\n",
       "\n",
       "    .dataframe tbody tr th {\n",
       "        vertical-align: top;\n",
       "    }\n",
       "\n",
       "    .dataframe thead th {\n",
       "        text-align: right;\n",
       "    }\n",
       "</style>\n",
       "<table border=\"1\" class=\"dataframe\">\n",
       "  <thead>\n",
       "    <tr style=\"text-align: right;\">\n",
       "      <th></th>\n",
       "      <th>rating</th>\n",
       "      <th>verified</th>\n",
       "      <th>reviewerID</th>\n",
       "      <th>productID</th>\n",
       "      <th>productType</th>\n",
       "      <th>reviewerName</th>\n",
       "      <th>reviewText</th>\n",
       "      <th>summary</th>\n",
       "    </tr>\n",
       "    <tr>\n",
       "      <th>reviewTime</th>\n",
       "      <th></th>\n",
       "      <th></th>\n",
       "      <th></th>\n",
       "      <th></th>\n",
       "      <th></th>\n",
       "      <th></th>\n",
       "      <th></th>\n",
       "      <th></th>\n",
       "    </tr>\n",
       "  </thead>\n",
       "  <tbody>\n",
       "    <tr>\n",
       "      <th>1997-12-02</th>\n",
       "      <td>5</td>\n",
       "      <td>False</td>\n",
       "      <td>A28BJ12568I17K</td>\n",
       "      <td>6304123523</td>\n",
       "      <td>{'Format:': ' VHS Tape'}</td>\n",
       "      <td>Mire Uno</td>\n",
       "      <td>This TV animation series opened up many disput...</td>\n",
       "      <td>It arose \"Evangelion Phenomina\" in Japan</td>\n",
       "    </tr>\n",
       "    <tr>\n",
       "      <th>1998-01-03</th>\n",
       "      <td>4</td>\n",
       "      <td>False</td>\n",
       "      <td>A30Q8X8B1S3GGT</td>\n",
       "      <td>6300215695</td>\n",
       "      <td>{'Format:': ' VHS Tape'}</td>\n",
       "      <td>Mark Savary</td>\n",
       "      <td>Here's a semi-remake of \"Holiday Inn\" (1942), ...</td>\n",
       "      <td>Holiday favorite with Bing Crosby and Danny Kaye!</td>\n",
       "    </tr>\n",
       "  </tbody>\n",
       "</table>\n",
       "</div>"
      ],
      "text/plain": [
       "            rating  verified      reviewerID   productID  \\\n",
       "reviewTime                                                 \n",
       "1997-12-02       5     False  A28BJ12568I17K  6304123523   \n",
       "1998-01-03       4     False  A30Q8X8B1S3GGT  6300215695   \n",
       "\n",
       "                         productType reviewerName  \\\n",
       "reviewTime                                          \n",
       "1997-12-02  {'Format:': ' VHS Tape'}     Mire Uno   \n",
       "1998-01-03  {'Format:': ' VHS Tape'}  Mark Savary   \n",
       "\n",
       "                                                   reviewText  \\\n",
       "reviewTime                                                      \n",
       "1997-12-02  This TV animation series opened up many disput...   \n",
       "1998-01-03  Here's a semi-remake of \"Holiday Inn\" (1942), ...   \n",
       "\n",
       "                                                      summary  \n",
       "reviewTime                                                     \n",
       "1997-12-02           It arose \"Evangelion Phenomina\" in Japan  \n",
       "1998-01-03  Holiday favorite with Bing Crosby and Danny Kaye!  "
      ]
     },
     "execution_count": 36,
     "metadata": {},
     "output_type": "execute_result"
    }
   ],
   "source": [
    "df1.head(2)"
   ]
  },
  {
   "cell_type": "markdown",
   "id": "33965bb0",
   "metadata": {},
   "source": [
    "# Moving onto NLP"
   ]
  },
  {
   "cell_type": "code",
   "execution_count": 79,
   "id": "1b37ab08",
   "metadata": {},
   "outputs": [],
   "source": [
    "df_nlp = df1[['rating','reviewText']]"
   ]
  },
  {
   "cell_type": "code",
   "execution_count": 80,
   "id": "a38e15f5",
   "metadata": {},
   "outputs": [],
   "source": [
    "df_nlp = df_nlp.reset_index(drop=True)"
   ]
  },
  {
   "cell_type": "code",
   "execution_count": 81,
   "id": "c9d51d84",
   "metadata": {},
   "outputs": [],
   "source": [
    "def get_sentiment(rating):\n",
    "    if rating <= 2:\n",
    "        return 'neg'\n",
    "    if rating == 3:\n",
    "        return 'neu'\n",
    "    else:\n",
    "        return 'pos'"
   ]
  },
  {
   "cell_type": "code",
   "execution_count": 82,
   "id": "f54053dc",
   "metadata": {},
   "outputs": [],
   "source": [
    "df_nlp['label'] = df_nlp['rating'].apply(get_sentiment)"
   ]
  },
  {
   "cell_type": "code",
   "execution_count": 83,
   "id": "ab2097c5",
   "metadata": {},
   "outputs": [
    {
     "data": {
      "text/html": [
       "<div>\n",
       "<style scoped>\n",
       "    .dataframe tbody tr th:only-of-type {\n",
       "        vertical-align: middle;\n",
       "    }\n",
       "\n",
       "    .dataframe tbody tr th {\n",
       "        vertical-align: top;\n",
       "    }\n",
       "\n",
       "    .dataframe thead th {\n",
       "        text-align: right;\n",
       "    }\n",
       "</style>\n",
       "<table border=\"1\" class=\"dataframe\">\n",
       "  <thead>\n",
       "    <tr style=\"text-align: right;\">\n",
       "      <th></th>\n",
       "      <th>rating</th>\n",
       "      <th>reviewText</th>\n",
       "      <th>label</th>\n",
       "    </tr>\n",
       "  </thead>\n",
       "  <tbody>\n",
       "    <tr>\n",
       "      <th>0</th>\n",
       "      <td>5</td>\n",
       "      <td>This TV animation series opened up many disput...</td>\n",
       "      <td>pos</td>\n",
       "    </tr>\n",
       "    <tr>\n",
       "      <th>1</th>\n",
       "      <td>4</td>\n",
       "      <td>Here's a semi-remake of \"Holiday Inn\" (1942), ...</td>\n",
       "      <td>pos</td>\n",
       "    </tr>\n",
       "    <tr>\n",
       "      <th>2</th>\n",
       "      <td>4</td>\n",
       "      <td>This verison (which was first made as a theatr...</td>\n",
       "      <td>pos</td>\n",
       "    </tr>\n",
       "    <tr>\n",
       "      <th>3</th>\n",
       "      <td>5</td>\n",
       "      <td>Animation by Hayao Miyazaki and one of my favo...</td>\n",
       "      <td>pos</td>\n",
       "    </tr>\n",
       "    <tr>\n",
       "      <th>4</th>\n",
       "      <td>5</td>\n",
       "      <td>Japanese title is Macross and quite long TV an...</td>\n",
       "      <td>pos</td>\n",
       "    </tr>\n",
       "  </tbody>\n",
       "</table>\n",
       "</div>"
      ],
      "text/plain": [
       "   rating                                         reviewText label\n",
       "0       5  This TV animation series opened up many disput...   pos\n",
       "1       4  Here's a semi-remake of \"Holiday Inn\" (1942), ...   pos\n",
       "2       4  This verison (which was first made as a theatr...   pos\n",
       "3       5  Animation by Hayao Miyazaki and one of my favo...   pos\n",
       "4       5  Japanese title is Macross and quite long TV an...   pos"
      ]
     },
     "execution_count": 83,
     "metadata": {},
     "output_type": "execute_result"
    }
   ],
   "source": [
    "df_nlp.head()"
   ]
  },
  {
   "cell_type": "code",
   "execution_count": 68,
   "id": "303c3dd8",
   "metadata": {},
   "outputs": [
    {
     "data": {
      "text/plain": [
       "<AxesSubplot:>"
      ]
     },
     "execution_count": 68,
     "metadata": {},
     "output_type": "execute_result"
    },
    {
     "data": {
      "image/png": "[encoded data removed]",
      "text/plain": [
       "<Figure size 432x288 with 1 Axes>"
      ]
     },
     "metadata": {
      "needs_background": "light"
     },
     "output_type": "display_data"
    }
   ],
   "source": [
    "df_nlp['sentiment'].value_counts().plot(kind='bar')\n",
    "# Add title, labels and % for each bar"
   ]
  },
  {
   "cell_type": "markdown",
   "id": "1bfc161b",
   "metadata": {},
   "source": [
    "# Sentiment Analysis using VADER"
   ]
  },
  {
   "cell_type": "code",
   "execution_count": 43,
   "id": "8dcd6fca",
   "metadata": {},
   "outputs": [
    {
     "name": "stderr",
     "output_type": "stream",
     "text": [
      "[nltk_data] Downloading package vader_lexicon to\n",
      "[nltk_data]     C:\\Users\\eyee\\AppData\\Roaming\\nltk_data...\n"
     ]
    },
    {
     "data": {
      "text/plain": [
       "True"
      ]
     },
     "execution_count": 43,
     "metadata": {},
     "output_type": "execute_result"
    }
   ],
   "source": [
    "# import nltk\n",
    "# nltk.downloader.download('vader_lexicon')"
   ]
  },
  {
   "cell_type": "code",
   "execution_count": 44,
   "id": "0bec7d34",
   "metadata": {},
   "outputs": [],
   "source": [
    "from nltk.sentiment.vader import SentimentIntensityAnalyzer\n",
    "sid = SentimentIntensityAnalyzer()"
   ]
  },
  {
   "cell_type": "code",
   "execution_count": 125,
   "id": "3fe160be",
   "metadata": {},
   "outputs": [
    {
     "data": {
      "text/plain": [
       "0    This TV animation series opened up many disput...\n",
       "1    Here's a semi-remake of \"Holiday Inn\" (1942), ...\n",
       "2    This verison (which was first made as a theatr...\n",
       "3    Animation by Hayao Miyazaki and one of my favo...\n",
       "4    Japanese title is Macross and quite long TV an...\n",
       "5    Wings of Honneamise is the first theater versi...\n",
       "6    I saw this film, when my town had SciFi Channe...\n",
       "7    This is the best movie I have ever seen. It is...\n",
       "8    If Leonardo diCaprio had not already made this...\n",
       "9    While this is an all-star movie -- cast member...\n",
       "Name: reviewText, dtype: object"
      ]
     },
     "execution_count": 125,
     "metadata": {},
     "output_type": "execute_result"
    }
   ],
   "source": [
    "df_nlp['reviewText'][0:10]"
   ]
  },
  {
   "cell_type": "code",
   "execution_count": 152,
   "id": "14ea5134",
   "metadata": {},
   "outputs": [
    {
     "data": {
      "text/plain": [
       "'If Leonardo diCaprio had not already made this film, he would be cast immediately for the role of lifetime. Mr. diCaprio\\'s performance as the lanky, audacious, and attitude-heavy high school basketball player whose descent into heroin-hell is the true story of the author, Jim Carroll, can only be described as superb. As often as diCaprio is cited for his Titanic performance, \"Basketball Diaries\" is one for his resume of fine, solid performances. With cameras in streets of lower Manhattan, the junkie life of a street urchin is neither fun nor games, it is pathos and crime. Teens who flock to diCaprio films should see \"Basketball Diaries\" as a point of information. When the glamorous veneer of heroin and cocaine wears off, all that is left is the sight of diCaprio -- frothing at the mouth, twisting, and screaming in pain as the cold turkey rehabilitation program of friend, Ernie Hudson takes over his body. Most young girls, the rabid diCaprio fans, would find this scene too realistic and too ugly. But that is what the author intended. In a too brief cameo appearance, Carroll\\'s words are at times glorious poems of haiku grace, but his own speed rap about his memories of a Catholic ceremony is a monologue chilling in its irony, for he is cooking up to fix while he speaks. Fine performances from the young supporting cast including a thuggish Marky Mark Walberg and a heart wrenching Lorraine Bracco as the mother who can do nothing for her son but call the police make \"Basketball Diaries\" worthy of everyone\\'s attention. END'"
      ]
     },
     "execution_count": 152,
     "metadata": {},
     "output_type": "execute_result"
    }
   ],
   "source": [
    "df_nlp['reviewText'][8]"
   ]
  },
  {
   "cell_type": "code",
   "execution_count": 141,
   "id": "c8806b05",
   "metadata": {},
   "outputs": [
    {
     "name": "stdout",
     "output_type": "stream",
     "text": [
      "Computational time taken = 461.31 seconds\n"
     ]
    }
   ],
   "source": [
    "# This cell takes very long to run\n",
    "\n",
    "import time\n",
    "start_time = time.time()\n",
    "\n",
    "# Testing VADER computational time for a subset of 100k reviews from df_nlp\n",
    "testingdf = df_nlp['reviewText'][0:100000].apply(lambda review: sid.polarity_scores(review))\n",
    "\n",
    "end_time = time.time()\n",
    "time_taken = round(end_time-start_time,2)\n",
    "print(f'Computational time taken = {time_taken} seconds') "
   ]
  },
  {
   "cell_type": "code",
   "execution_count": 151,
   "id": "0f7f7324",
   "metadata": {},
   "outputs": [
    {
     "data": {
      "text/plain": [
       "{'neg': 0.058, 'neu': 0.829, 'pos': 0.114, 'compound': 0.9578}"
      ]
     },
     "execution_count": 151,
     "metadata": {},
     "output_type": "execute_result"
    }
   ],
   "source": [
    "testingdf[8]"
   ]
  },
  {
   "cell_type": "markdown",
   "id": "aa3f6f27",
   "metadata": {},
   "source": [
    "# Sentiment Analysis using Linear Support Vector Classifier"
   ]
  },
  {
   "cell_type": "code",
   "execution_count": 85,
   "id": "2a9618a0",
   "metadata": {},
   "outputs": [],
   "source": [
    "from sklearn.model_selection import train_test_split\n",
    "\n",
    "X = df_nlp['reviewText']\n",
    "y = df_nlp['label']\n",
    "\n",
    "X_train, X_test, y_train, y_test = train_test_split(X, y, test_size=0.3)"
   ]
  },
  {
   "cell_type": "code",
   "execution_count": 86,
   "id": "d8c12b11",
   "metadata": {},
   "outputs": [
    {
     "data": {
      "text/plain": [
       "Pipeline(steps=[('tfidf', TfidfVectorizer()), ('clf', LinearSVC())])"
      ]
     },
     "execution_count": 86,
     "metadata": {},
     "output_type": "execute_result"
    }
   ],
   "source": [
    "from sklearn.pipeline import Pipeline\n",
    "from sklearn.feature_extraction.text import TfidfVectorizer\n",
    "from sklearn.svm import LinearSVC\n",
    "\n",
    "text_clf = Pipeline([('tfidf', TfidfVectorizer()),\n",
    "                     ('clf', LinearSVC()),])\n",
    "\n",
    "# Feed the training data through the pipeline\n",
    "text_clf.fit(X_train, y_train)  "
   ]
  },
  {
   "cell_type": "code",
   "execution_count": 87,
   "id": "39b4120f",
   "metadata": {},
   "outputs": [],
   "source": [
    "# Form a prediction set\n",
    "predictions = text_clf.predict(X_test)"
   ]
  },
  {
   "cell_type": "code",
   "execution_count": 88,
   "id": "97542e83",
   "metadata": {},
   "outputs": [
    {
     "name": "stdout",
     "output_type": "stream",
     "text": [
      "[[ 60142   6152  26620]\n",
      " [ 14895  16681  54284]\n",
      " [  9232   7729 572496]]\n"
     ]
    }
   ],
   "source": [
    "# Report the confusion matrix\n",
    "from sklearn import metrics\n",
    "print(metrics.confusion_matrix(y_test,predictions))"
   ]
  },
  {
   "cell_type": "code",
   "execution_count": 89,
   "id": "c402d522",
   "metadata": {},
   "outputs": [
    {
     "name": "stdout",
     "output_type": "stream",
     "text": [
      "              precision    recall  f1-score   support\n",
      "\n",
      "         neg       0.71      0.65      0.68     92914\n",
      "         neu       0.55      0.19      0.29     85860\n",
      "         pos       0.88      0.97      0.92    589457\n",
      "\n",
      "    accuracy                           0.85    768231\n",
      "   macro avg       0.71      0.60      0.63    768231\n",
      "weighted avg       0.82      0.85      0.82    768231\n",
      "\n"
     ]
    }
   ],
   "source": [
    "# Print a classification report\n",
    "print(metrics.classification_report(y_test,predictions))"
   ]
  },
  {
   "cell_type": "code",
   "execution_count": 111,
   "id": "e97f1c3f",
   "metadata": {},
   "outputs": [
    {
     "name": "stdout",
     "output_type": "stream",
     "text": [
      "0.8452132236267477\n"
     ]
    }
   ],
   "source": [
    "# Print the overall accuracy\n",
    "print(metrics.accuracy_score(y_test,predictions))"
   ]
  },
  {
   "cell_type": "code",
   "execution_count": null,
   "id": "4362ced0",
   "metadata": {},
   "outputs": [],
   "source": []
  }
 ],
 "metadata": {
  "kernelspec": {
   "display_name": "Python 3",
   "language": "python",
   "name": "python3"
  },
  "language_info": {
   "codemirror_mode": {
    "name": "ipython",
    "version": 3
   },
   "file_extension": ".py",
   "mimetype": "text/x-python",
   "name": "python",
   "nbconvert_exporter": "python",
   "pygments_lexer": "ipython3",
   "version": "3.8.8"
  }
 },
 "nbformat": 4,
 "nbformat_minor": 5
}
