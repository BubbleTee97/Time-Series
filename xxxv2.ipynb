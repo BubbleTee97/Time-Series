{
 "cells": [
  {
   "cell_type": "markdown",
   "id": "f89145a1",
   "metadata": {},
   "source": [
    "# Dataset source: \n",
    "https://nijianmo.github.io/amazon/index.html"
   ]
  },
  {
   "cell_type": "code",
   "execution_count": 1,
   "id": "59ce759c",
   "metadata": {},
   "outputs": [],
   "source": [
    "import pandas as pd\n",
    "import numpy as np\n",
    "import matplotlib.pyplot as plt\n",
    "import seaborn as sns"
   ]
  },
  {
   "cell_type": "code",
   "execution_count": 2,
   "id": "4cd3af94",
   "metadata": {},
   "outputs": [],
   "source": [
    "df = pd.read_json(\"Movies_and_TV_5.json.gz\", compression='gzip', lines=True)"
   ]
  },
  {
   "cell_type": "code",
   "execution_count": 3,
   "id": "8737dc5b",
   "metadata": {},
   "outputs": [],
   "source": [
    "df1 = df \n",
    "# Save original backup copy to df1"
   ]
  },
  {
   "cell_type": "code",
   "execution_count": 4,
   "id": "6a3fce2c",
   "metadata": {},
   "outputs": [
    {
     "data": {
      "text/html": [
       "<div>\n",
       "<style scoped>\n",
       "    .dataframe tbody tr th:only-of-type {\n",
       "        vertical-align: middle;\n",
       "    }\n",
       "\n",
       "    .dataframe tbody tr th {\n",
       "        vertical-align: top;\n",
       "    }\n",
       "\n",
       "    .dataframe thead th {\n",
       "        text-align: right;\n",
       "    }\n",
       "</style>\n",
       "<table border=\"1\" class=\"dataframe\">\n",
       "  <thead>\n",
       "    <tr style=\"text-align: right;\">\n",
       "      <th></th>\n",
       "      <th>overall</th>\n",
       "      <th>verified</th>\n",
       "      <th>reviewTime</th>\n",
       "      <th>reviewerID</th>\n",
       "      <th>asin</th>\n",
       "      <th>style</th>\n",
       "      <th>reviewerName</th>\n",
       "      <th>reviewText</th>\n",
       "      <th>summary</th>\n",
       "      <th>unixReviewTime</th>\n",
       "      <th>vote</th>\n",
       "      <th>image</th>\n",
       "    </tr>\n",
       "  </thead>\n",
       "  <tbody>\n",
       "    <tr>\n",
       "      <th>0</th>\n",
       "      <td>5</td>\n",
       "      <td>True</td>\n",
       "      <td>11 9, 2012</td>\n",
       "      <td>A2M1CU2IRZG0K9</td>\n",
       "      <td>0005089549</td>\n",
       "      <td>{'Format:': ' VHS Tape'}</td>\n",
       "      <td>Terri</td>\n",
       "      <td>So sorry I didn't purchase this years ago when...</td>\n",
       "      <td>Amazing!</td>\n",
       "      <td>1352419200</td>\n",
       "      <td>NaN</td>\n",
       "      <td>NaN</td>\n",
       "    </tr>\n",
       "    <tr>\n",
       "      <th>1</th>\n",
       "      <td>5</td>\n",
       "      <td>True</td>\n",
       "      <td>12 30, 2011</td>\n",
       "      <td>AFTUJYISOFHY6</td>\n",
       "      <td>0005089549</td>\n",
       "      <td>{'Format:': ' VHS Tape'}</td>\n",
       "      <td>Melissa D. Abercrombie</td>\n",
       "      <td>Believe me when I tell you that you will recei...</td>\n",
       "      <td>Great Gospel VHS of the Cathedrals!</td>\n",
       "      <td>1325203200</td>\n",
       "      <td>NaN</td>\n",
       "      <td>NaN</td>\n",
       "    </tr>\n",
       "    <tr>\n",
       "      <th>2</th>\n",
       "      <td>5</td>\n",
       "      <td>True</td>\n",
       "      <td>04 21, 2005</td>\n",
       "      <td>A3JVF9Y53BEOGC</td>\n",
       "      <td>000503860X</td>\n",
       "      <td>{'Format:': ' DVD'}</td>\n",
       "      <td>Anthony Thompson</td>\n",
       "      <td>I have seen X live many times, both in the ear...</td>\n",
       "      <td>A great document of a great band</td>\n",
       "      <td>1114041600</td>\n",
       "      <td>11</td>\n",
       "      <td>NaN</td>\n",
       "    </tr>\n",
       "    <tr>\n",
       "      <th>3</th>\n",
       "      <td>5</td>\n",
       "      <td>True</td>\n",
       "      <td>04 6, 2005</td>\n",
       "      <td>A12VPEOEZS1KTC</td>\n",
       "      <td>000503860X</td>\n",
       "      <td>{'Format:': ' DVD'}</td>\n",
       "      <td>JadeRain</td>\n",
       "      <td>I was so excited for this!  Finally, a live co...</td>\n",
       "      <td>YES!!  X LIVE!!</td>\n",
       "      <td>1112745600</td>\n",
       "      <td>5</td>\n",
       "      <td>NaN</td>\n",
       "    </tr>\n",
       "    <tr>\n",
       "      <th>4</th>\n",
       "      <td>5</td>\n",
       "      <td>True</td>\n",
       "      <td>12 3, 2010</td>\n",
       "      <td>ATLZNVLYKP9AZ</td>\n",
       "      <td>000503860X</td>\n",
       "      <td>{'Format:': ' DVD'}</td>\n",
       "      <td>T. Fisher</td>\n",
       "      <td>X is one of the best punk bands ever. I don't ...</td>\n",
       "      <td>X have still got it</td>\n",
       "      <td>1291334400</td>\n",
       "      <td>5</td>\n",
       "      <td>NaN</td>\n",
       "    </tr>\n",
       "  </tbody>\n",
       "</table>\n",
       "</div>"
      ],
      "text/plain": [
       "   overall  verified   reviewTime      reviewerID        asin  \\\n",
       "0        5      True   11 9, 2012  A2M1CU2IRZG0K9  0005089549   \n",
       "1        5      True  12 30, 2011   AFTUJYISOFHY6  0005089549   \n",
       "2        5      True  04 21, 2005  A3JVF9Y53BEOGC  000503860X   \n",
       "3        5      True   04 6, 2005  A12VPEOEZS1KTC  000503860X   \n",
       "4        5      True   12 3, 2010   ATLZNVLYKP9AZ  000503860X   \n",
       "\n",
       "                      style            reviewerName  \\\n",
       "0  {'Format:': ' VHS Tape'}                   Terri   \n",
       "1  {'Format:': ' VHS Tape'}  Melissa D. Abercrombie   \n",
       "2       {'Format:': ' DVD'}        Anthony Thompson   \n",
       "3       {'Format:': ' DVD'}                JadeRain   \n",
       "4       {'Format:': ' DVD'}               T. Fisher   \n",
       "\n",
       "                                          reviewText  \\\n",
       "0  So sorry I didn't purchase this years ago when...   \n",
       "1  Believe me when I tell you that you will recei...   \n",
       "2  I have seen X live many times, both in the ear...   \n",
       "3  I was so excited for this!  Finally, a live co...   \n",
       "4  X is one of the best punk bands ever. I don't ...   \n",
       "\n",
       "                               summary  unixReviewTime vote image  \n",
       "0                             Amazing!      1352419200  NaN   NaN  \n",
       "1  Great Gospel VHS of the Cathedrals!      1325203200  NaN   NaN  \n",
       "2     A great document of a great band      1114041600   11   NaN  \n",
       "3                      YES!!  X LIVE!!      1112745600    5   NaN  \n",
       "4                  X have still got it      1291334400    5   NaN  "
      ]
     },
     "execution_count": 4,
     "metadata": {},
     "output_type": "execute_result"
    }
   ],
   "source": [
    "df.head()"
   ]
  },
  {
   "cell_type": "code",
   "execution_count": 5,
   "id": "a8d3f0de",
   "metadata": {},
   "outputs": [
    {
     "name": "stdout",
     "output_type": "stream",
     "text": [
      "<class 'pandas.core.frame.DataFrame'>\n",
      "RangeIndex: 3410019 entries, 0 to 3410018\n",
      "Data columns (total 12 columns):\n",
      " #   Column          Dtype \n",
      "---  ------          ----- \n",
      " 0   overall         int64 \n",
      " 1   verified        bool  \n",
      " 2   reviewTime      object\n",
      " 3   reviewerID      object\n",
      " 4   asin            object\n",
      " 5   style           object\n",
      " 6   reviewerName    object\n",
      " 7   reviewText      object\n",
      " 8   summary         object\n",
      " 9   unixReviewTime  int64 \n",
      " 10  vote            object\n",
      " 11  image           object\n",
      "dtypes: bool(1), int64(2), object(9)\n",
      "memory usage: 289.4+ MB\n"
     ]
    }
   ],
   "source": [
    "df.info()"
   ]
  },
  {
   "cell_type": "code",
   "execution_count": 6,
   "id": "4ef475f4",
   "metadata": {},
   "outputs": [
    {
     "data": {
      "text/plain": [
       "Index(['overall', 'verified', 'reviewTime', 'reviewerID', 'asin', 'style',\n",
       "       'reviewerName', 'reviewText', 'summary', 'unixReviewTime', 'vote',\n",
       "       'image'],\n",
       "      dtype='object')"
      ]
     },
     "execution_count": 6,
     "metadata": {},
     "output_type": "execute_result"
    }
   ],
   "source": [
    "df.columns"
   ]
  },
  {
   "cell_type": "markdown",
   "id": "8ca35f57",
   "metadata": {},
   "source": [
    "# Data Cleaning"
   ]
  },
  {
   "cell_type": "code",
   "execution_count": 7,
   "id": "ae8103f6",
   "metadata": {},
   "outputs": [
    {
     "data": {
      "text/plain": [
       "overall                 0\n",
       "verified                0\n",
       "reviewTime              0\n",
       "reviewerID              0\n",
       "asin                    0\n",
       "style              174207\n",
       "reviewerName           82\n",
       "reviewText           1581\n",
       "summary               640\n",
       "unixReviewTime          0\n",
       "vote              2768010\n",
       "image             3403048\n",
       "dtype: int64"
      ]
     },
     "execution_count": 7,
     "metadata": {},
     "output_type": "execute_result"
    }
   ],
   "source": [
    "df.isnull().sum()\n",
    "# will be dropping null for column 'styles' ~5% of data"
   ]
  },
  {
   "cell_type": "code",
   "execution_count": 8,
   "id": "c4b02347",
   "metadata": {},
   "outputs": [
    {
     "ename": "TypeError",
     "evalue": "unhashable type: 'dict'",
     "output_type": "error",
     "traceback": [
      "\u001b[1;31m---------------------------------------------------------------------------\u001b[0m",
      "\u001b[1;31mTypeError\u001b[0m                                 Traceback (most recent call last)",
      "\u001b[1;32mpandas\\_libs\\hashtable_class_helper.pxi\u001b[0m in \u001b[0;36mpandas._libs.hashtable.PyObjectHashTable.map_locations\u001b[1;34m()\u001b[0m\n",
      "\u001b[1;31mTypeError\u001b[0m: unhashable type: 'dict'"
     ]
    },
    {
     "name": "stderr",
     "output_type": "stream",
     "text": [
      "Exception ignored in: 'pandas._libs.index.IndexEngine._call_map_locations'\n",
      "Traceback (most recent call last):\n",
      "  File \"pandas\\_libs\\hashtable_class_helper.pxi\", line 4588, in pandas._libs.hashtable.PyObjectHashTable.map_locations\n",
      "TypeError: unhashable type: 'dict'\n"
     ]
    },
    {
     "data": {
      "text/plain": [
       "{'Format:': ' DVD'}                                1645586\n",
       "{'Format:': ' Amazon Video'}                       1027966\n",
       "{'Format:': ' Blu-ray'}                             335181\n",
       "{'Format:': ' Prime Video'}                         158950\n",
       "{'Format:': ' VHS Tape'}                             61821\n",
       "{'Format:': ' HD DVD'}                                1475\n",
       "{'Format:': ' DVD-R'}                                 1428\n",
       "{'Format:': ' Theatrical Release'}                     801\n",
       "{'Format:': ' Audio CD'}                               657\n",
       "{'Format:': ' DVD-ROM'}                                474\n",
       "{'Format:': ' UMD for PSP'}                            352\n",
       "{'Format:': ' Amazon Instant Video'}                   250\n",
       "{'Format:': ' Electronics'}                            116\n",
       "{'Format:': ' Hardcover'}                              107\n",
       "{'Format:': ' Interactive DVD'}                         97\n",
       "{'Format:': ' Paperback'}                               86\n",
       "{'Format:': ' Laser Disc'}                              80\n",
       "{'Format:': ' DVD Audio'}                               55\n",
       "{'Format:': ' Toy'}                                     36\n",
       "{'Format:': ' MP3 Music'}                               33\n",
       "{'Format:': ' Unknown Binding'}                         32\n",
       "{'Format:': ' Kindle Edition'}                          32\n",
       "{'Format:': ' CD-ROM'}                                  26\n",
       "{'Format:': ' Misc.'}                                   20\n",
       "{'Format:': ' Staple Bound'}                            19\n",
       "{'Size:': ' unknown'}                                   18\n",
       "{'Format:': ' Video CD'}                                14\n",
       "{'Format:': ' Wireless Phone Accessory'}                12\n",
       "{'Format:': ' Kindle Edition with Audio/Video'}         11\n",
       "{'Format:': ' Grocery'}                                  9\n",
       "{'Format:': ' Audio Cassette'}                           8\n",
       "{'Format:': ' Kitchen'}                                  8\n",
       "{'Size:': ' Dolphins'}                                   8\n",
       "{'Format:': ' Office Product'}                           7\n",
       "{'Format:': ' Vinyl'}                                    5\n",
       "{'Shape:': ' Hipcentric'}                                5\n",
       "{'Format:': ' Mass Market Paperback'}                    5\n",
       "{'Format:': ' Videotape'}                                5\n",
       "{'Format:': ' Video Game'}                               3\n",
       "{'Format:': ' Audible Audiobook'}                        3\n",
       "{'Shape:': ' Omnicentric'}                               2\n",
       "{'Format:': ' Misc. Supplies'}                           2\n",
       "{'Format:': ' MiniDisc'}                                 2\n",
       "{'Format:': ' Product Bundle'}                           1\n",
       "{'Format:': ' S-VHS'}                                    1\n",
       "{'Format:': ' Unbound'}                                  1\n",
       "{'Format:': ' Accessory'}                                1\n",
       "{'Format:': ' MP3 CD'}                                   1\n",
       "Name: style, dtype: int64"
      ]
     },
     "execution_count": 8,
     "metadata": {},
     "output_type": "execute_result"
    }
   ],
   "source": [
    "df['style'].value_counts() "
   ]
  },
  {
   "cell_type": "code",
   "execution_count": 9,
   "id": "d20ce62f",
   "metadata": {},
   "outputs": [
    {
     "data": {
      "text/plain": [
       "0          So sorry I didn't purchase this years ago when...\n",
       "1          Believe me when I tell you that you will recei...\n",
       "2          I have seen X live many times, both in the ear...\n",
       "3          I was so excited for this!  Finally, a live co...\n",
       "4          X is one of the best punk bands ever. I don't ...\n",
       "                                 ...                        \n",
       "3410014    The singing parts are very good as expected fr...\n",
       "3410015    This recording of the 2015 production by the M...\n",
       "3410016    I do not wish to write a review about this rel...\n",
       "3410017                                       It was a gift.\n",
       "3410018    This Otello originates from the Salzburg Festi...\n",
       "Name: reviewText, Length: 3410019, dtype: object"
      ]
     },
     "execution_count": 9,
     "metadata": {},
     "output_type": "execute_result"
    }
   ],
   "source": [
    "df['reviewText']"
   ]
  },
  {
   "cell_type": "code",
   "execution_count": 10,
   "id": "6f3e7f29",
   "metadata": {},
   "outputs": [
    {
     "data": {
      "text/plain": [
       "\"So sorry I didn't purchase this years ago when it first came out!!  This is very good and entertaining!  We absolutely loved it and anticipate seeing it repeatedly.  We actually wore out the cassette years back, so we also purchased this same product on cd.  Best purchase we made out of all!  Would purchase on dvd if we could find one.\""
      ]
     },
     "execution_count": 10,
     "metadata": {},
     "output_type": "execute_result"
    }
   ],
   "source": [
    "df['reviewText'][0]"
   ]
  },
  {
   "cell_type": "code",
   "execution_count": 11,
   "id": "17b811dc",
   "metadata": {},
   "outputs": [],
   "source": [
    "# drop null values from these columns\n",
    "df = df.dropna(subset=['style','reviewerName', 'reviewText', 'summary'])"
   ]
  },
  {
   "cell_type": "code",
   "execution_count": 12,
   "id": "834d5b25",
   "metadata": {},
   "outputs": [
    {
     "name": "stderr",
     "output_type": "stream",
     "text": [
      "C:\\ProgramData\\Anaconda3\\lib\\site-packages\\pandas\\core\\frame.py:4308: SettingWithCopyWarning: \n",
      "A value is trying to be set on a copy of a slice from a DataFrame\n",
      "\n",
      "See the caveats in the documentation: https://pandas.pydata.org/pandas-docs/stable/user_guide/indexing.html#returning-a-view-versus-a-copy\n",
      "  return super().drop(\n"
     ]
    }
   ],
   "source": [
    "# drop these columns\n",
    "df.drop(['vote','image','unixReviewTime'],axis=1,inplace=True)"
   ]
  },
  {
   "cell_type": "code",
   "execution_count": 13,
   "id": "8cc4c56a",
   "metadata": {},
   "outputs": [
    {
     "data": {
      "text/plain": [
       "overall         0\n",
       "verified        0\n",
       "reviewTime      0\n",
       "reviewerID      0\n",
       "asin            0\n",
       "style           0\n",
       "reviewerName    0\n",
       "reviewText      0\n",
       "summary         0\n",
       "dtype: int64"
      ]
     },
     "execution_count": 13,
     "metadata": {},
     "output_type": "execute_result"
    }
   ],
   "source": [
    "df.isnull().sum()"
   ]
  },
  {
   "cell_type": "code",
   "execution_count": 14,
   "id": "014f27cb",
   "metadata": {},
   "outputs": [],
   "source": [
    "duplicated_reviews = df[df.duplicated(['reviewText'], keep=False)]"
   ]
  },
  {
   "cell_type": "code",
   "execution_count": 34,
   "id": "ba90dc5b",
   "metadata": {},
   "outputs": [
    {
     "name": "stdout",
     "output_type": "stream",
     "text": [
      "<class 'pandas.core.frame.DataFrame'>\n",
      "Int64Index: 868955 entries, 29 to 3410018\n",
      "Data columns (total 9 columns):\n",
      " #   Column        Non-Null Count   Dtype \n",
      "---  ------        --------------   ----- \n",
      " 0   overall       868955 non-null  int64 \n",
      " 1   verified      868955 non-null  bool  \n",
      " 2   reviewTime    868955 non-null  object\n",
      " 3   reviewerID    868955 non-null  object\n",
      " 4   asin          868955 non-null  object\n",
      " 5   style         868955 non-null  object\n",
      " 6   reviewerName  868955 non-null  object\n",
      " 7   reviewText    868955 non-null  object\n",
      " 8   summary       868955 non-null  object\n",
      "dtypes: bool(1), int64(1), object(7)\n",
      "memory usage: 60.5+ MB\n"
     ]
    }
   ],
   "source": [
    "duplicated_reviews.info()\n",
    "# we have about 860k duplicates of text review\n",
    "# lets remove them, which is about 25% of the dataset"
   ]
  },
  {
   "cell_type": "code",
   "execution_count": 35,
   "id": "3032fbac",
   "metadata": {},
   "outputs": [],
   "source": [
    "df = df.drop_duplicates(subset=['reviewText'])"
   ]
  },
  {
   "cell_type": "code",
   "execution_count": 36,
   "id": "fdc74340",
   "metadata": {},
   "outputs": [
    {
     "name": "stdout",
     "output_type": "stream",
     "text": [
      "<class 'pandas.core.frame.DataFrame'>\n",
      "Int64Index: 2560768 entries, 0 to 3410016\n",
      "Data columns (total 9 columns):\n",
      " #   Column        Dtype \n",
      "---  ------        ----- \n",
      " 0   overall       int64 \n",
      " 1   verified      bool  \n",
      " 2   reviewTime    object\n",
      " 3   reviewerID    object\n",
      " 4   asin          object\n",
      " 5   style         object\n",
      " 6   reviewerName  object\n",
      " 7   reviewText    object\n",
      " 8   summary       object\n",
      "dtypes: bool(1), int64(1), object(7)\n",
      "memory usage: 178.3+ MB\n"
     ]
    }
   ],
   "source": [
    "df.info()"
   ]
  },
  {
   "cell_type": "code",
   "execution_count": 60,
   "id": "1a3ae86c",
   "metadata": {},
   "outputs": [
    {
     "data": {
      "text/plain": [
       "str"
      ]
     },
     "execution_count": 60,
     "metadata": {},
     "output_type": "execute_result"
    }
   ],
   "source": [
    "type(df['reviewTime'][0]) # time in str format, lets change it to datetime object"
   ]
  },
  {
   "cell_type": "code",
   "execution_count": 61,
   "id": "8deb15ed",
   "metadata": {},
   "outputs": [
    {
     "name": "stderr",
     "output_type": "stream",
     "text": [
      "<ipython-input-61-f5f9301b07bc>:1: SettingWithCopyWarning: \n",
      "A value is trying to be set on a copy of a slice from a DataFrame.\n",
      "Try using .loc[row_indexer,col_indexer] = value instead\n",
      "\n",
      "See the caveats in the documentation: https://pandas.pydata.org/pandas-docs/stable/user_guide/indexing.html#returning-a-view-versus-a-copy\n",
      "  df['reviewTime'] = pd.to_datetime(df['reviewTime'], format='%m %d, %Y')\n"
     ]
    }
   ],
   "source": [
    "df['reviewTime'] = pd.to_datetime(df['reviewTime'], format='%m %d, %Y')"
   ]
  },
  {
   "cell_type": "code",
   "execution_count": 62,
   "id": "979a601a",
   "metadata": {},
   "outputs": [
    {
     "data": {
      "text/plain": [
       "pandas._libs.tslibs.timestamps.Timestamp"
      ]
     },
     "execution_count": 62,
     "metadata": {},
     "output_type": "execute_result"
    }
   ],
   "source": [
    "type(df['reviewTime'][0])"
   ]
  },
  {
   "cell_type": "code",
   "execution_count": 63,
   "id": "9472f0cd",
   "metadata": {},
   "outputs": [
    {
     "name": "stderr",
     "output_type": "stream",
     "text": [
      "<ipython-input-63-080577b3d46f>:1: FutureWarning: Treating datetime data as categorical rather than numeric in `.describe` is deprecated and will be removed in a future version of pandas. Specify `datetime_is_numeric=True` to silence this warning and adopt the future behavior now.\n",
      "  df['reviewTime'].describe()\n"
     ]
    },
    {
     "data": {
      "text/plain": [
       "count                 2560768\n",
       "unique                   7285\n",
       "top       2015-02-20 00:00:00\n",
       "freq                     6021\n",
       "first     1997-12-02 00:00:00\n",
       "last      2018-10-01 00:00:00\n",
       "Name: reviewTime, dtype: object"
      ]
     },
     "execution_count": 63,
     "metadata": {},
     "output_type": "execute_result"
    }
   ],
   "source": [
    "df['reviewTime'].describe()"
   ]
  },
  {
   "cell_type": "code",
   "execution_count": 67,
   "id": "3f8c7358",
   "metadata": {},
   "outputs": [],
   "source": [
    "df = df.reset_index(drop=True)"
   ]
  },
  {
   "cell_type": "code",
   "execution_count": 79,
   "id": "358c5563",
   "metadata": {},
   "outputs": [],
   "source": [
    "df = df.rename(columns={'overall':'rating','asin':'productID','style':'productType'})"
   ]
  },
  {
   "cell_type": "code",
   "execution_count": 101,
   "id": "9507f443",
   "metadata": {},
   "outputs": [
    {
     "ename": "TypeError",
     "evalue": "'Series' object is not callable",
     "output_type": "error",
     "traceback": [
      "\u001b[1;31m---------------------------------------------------------------------------\u001b[0m",
      "\u001b[1;31mTypeError\u001b[0m                                 Traceback (most recent call last)",
      "\u001b[1;32m<ipython-input-101-8945b26184b5>\u001b[0m in \u001b[0;36m<module>\u001b[1;34m\u001b[0m\n\u001b[1;32m----> 1\u001b[1;33m \u001b[0mdf\u001b[0m\u001b[1;33m[\u001b[0m\u001b[1;34m'year'\u001b[0m\u001b[1;33m]\u001b[0m \u001b[1;33m=\u001b[0m \u001b[0mdf\u001b[0m\u001b[1;33m[\u001b[0m\u001b[1;34m'reviewTime'\u001b[0m\u001b[1;33m]\u001b[0m\u001b[1;33m.\u001b[0m\u001b[0mdt\u001b[0m\u001b[1;33m.\u001b[0m\u001b[0myear\u001b[0m\u001b[1;33m(\u001b[0m\u001b[1;33m)\u001b[0m\u001b[1;33m\u001b[0m\u001b[1;33m\u001b[0m\u001b[0m\n\u001b[0m",
      "\u001b[1;31mTypeError\u001b[0m: 'Series' object is not callable"
     ]
    }
   ],
   "source": [
    "df['year'] = df['reviewTime'].dt.year()"
   ]
  },
  {
   "cell_type": "code",
   "execution_count": 97,
   "id": "668edeba",
   "metadata": {},
   "outputs": [
    {
     "data": {
      "text/html": [
       "<div>\n",
       "<style scoped>\n",
       "    .dataframe tbody tr th:only-of-type {\n",
       "        vertical-align: middle;\n",
       "    }\n",
       "\n",
       "    .dataframe tbody tr th {\n",
       "        vertical-align: top;\n",
       "    }\n",
       "\n",
       "    .dataframe thead th {\n",
       "        text-align: right;\n",
       "    }\n",
       "</style>\n",
       "<table border=\"1\" class=\"dataframe\">\n",
       "  <thead>\n",
       "    <tr style=\"text-align: right;\">\n",
       "      <th></th>\n",
       "      <th>rating</th>\n",
       "      <th>verified</th>\n",
       "      <th>reviewTime</th>\n",
       "      <th>reviewerID</th>\n",
       "      <th>productID</th>\n",
       "      <th>productType</th>\n",
       "      <th>reviewerName</th>\n",
       "      <th>reviewText</th>\n",
       "      <th>summary</th>\n",
       "    </tr>\n",
       "  </thead>\n",
       "  <tbody>\n",
       "    <tr>\n",
       "      <th>0</th>\n",
       "      <td>5</td>\n",
       "      <td>True</td>\n",
       "      <td>2012-11-09</td>\n",
       "      <td>A2M1CU2IRZG0K9</td>\n",
       "      <td>0005089549</td>\n",
       "      <td>{'Format:': ' VHS Tape'}</td>\n",
       "      <td>Terri</td>\n",
       "      <td>So sorry I didn't purchase this years ago when...</td>\n",
       "      <td>Amazing!</td>\n",
       "    </tr>\n",
       "    <tr>\n",
       "      <th>1</th>\n",
       "      <td>5</td>\n",
       "      <td>True</td>\n",
       "      <td>2011-12-30</td>\n",
       "      <td>AFTUJYISOFHY6</td>\n",
       "      <td>0005089549</td>\n",
       "      <td>{'Format:': ' VHS Tape'}</td>\n",
       "      <td>Melissa D. Abercrombie</td>\n",
       "      <td>Believe me when I tell you that you will recei...</td>\n",
       "      <td>Great Gospel VHS of the Cathedrals!</td>\n",
       "    </tr>\n",
       "    <tr>\n",
       "      <th>2</th>\n",
       "      <td>5</td>\n",
       "      <td>True</td>\n",
       "      <td>2005-04-21</td>\n",
       "      <td>A3JVF9Y53BEOGC</td>\n",
       "      <td>000503860X</td>\n",
       "      <td>{'Format:': ' DVD'}</td>\n",
       "      <td>Anthony Thompson</td>\n",
       "      <td>I have seen X live many times, both in the ear...</td>\n",
       "      <td>A great document of a great band</td>\n",
       "    </tr>\n",
       "    <tr>\n",
       "      <th>3</th>\n",
       "      <td>5</td>\n",
       "      <td>True</td>\n",
       "      <td>2005-04-06</td>\n",
       "      <td>A12VPEOEZS1KTC</td>\n",
       "      <td>000503860X</td>\n",
       "      <td>{'Format:': ' DVD'}</td>\n",
       "      <td>JadeRain</td>\n",
       "      <td>I was so excited for this!  Finally, a live co...</td>\n",
       "      <td>YES!!  X LIVE!!</td>\n",
       "    </tr>\n",
       "    <tr>\n",
       "      <th>4</th>\n",
       "      <td>5</td>\n",
       "      <td>True</td>\n",
       "      <td>2010-12-03</td>\n",
       "      <td>ATLZNVLYKP9AZ</td>\n",
       "      <td>000503860X</td>\n",
       "      <td>{'Format:': ' DVD'}</td>\n",
       "      <td>T. Fisher</td>\n",
       "      <td>X is one of the best punk bands ever. I don't ...</td>\n",
       "      <td>X have still got it</td>\n",
       "    </tr>\n",
       "    <tr>\n",
       "      <th>...</th>\n",
       "      <td>...</td>\n",
       "      <td>...</td>\n",
       "      <td>...</td>\n",
       "      <td>...</td>\n",
       "      <td>...</td>\n",
       "      <td>...</td>\n",
       "      <td>...</td>\n",
       "      <td>...</td>\n",
       "      <td>...</td>\n",
       "    </tr>\n",
       "    <tr>\n",
       "      <th>2560763</th>\n",
       "      <td>5</td>\n",
       "      <td>True</td>\n",
       "      <td>2017-01-21</td>\n",
       "      <td>A2M39B5U8NBQM</td>\n",
       "      <td>B01HJ1INB0</td>\n",
       "      <td>{'Format:': ' DVD'}</td>\n",
       "      <td>Steffi B. Rath</td>\n",
       "      <td>No problem whatsoever</td>\n",
       "      <td>Five Stars</td>\n",
       "    </tr>\n",
       "    <tr>\n",
       "      <th>2560764</th>\n",
       "      <td>5</td>\n",
       "      <td>True</td>\n",
       "      <td>2017-01-17</td>\n",
       "      <td>AW91VDERXXKGT</td>\n",
       "      <td>B01HJ1INB0</td>\n",
       "      <td>{'Format:': ' DVD'}</td>\n",
       "      <td>Incantessimo</td>\n",
       "      <td>This is a very, very good production of Verdi'...</td>\n",
       "      <td>Great production, wonderful singing, bargain a...</td>\n",
       "    </tr>\n",
       "    <tr>\n",
       "      <th>2560765</th>\n",
       "      <td>4</td>\n",
       "      <td>True</td>\n",
       "      <td>2017-01-01</td>\n",
       "      <td>A2MFARH7H7FSY1</td>\n",
       "      <td>B01HJ1INB0</td>\n",
       "      <td>{'Format:': ' DVD'}</td>\n",
       "      <td>Ali A. Diba</td>\n",
       "      <td>The singing parts are very good as expected fr...</td>\n",
       "      <td>Verdi's Otello</td>\n",
       "    </tr>\n",
       "    <tr>\n",
       "      <th>2560766</th>\n",
       "      <td>5</td>\n",
       "      <td>True</td>\n",
       "      <td>2016-12-06</td>\n",
       "      <td>AY532XZ00UTKN</td>\n",
       "      <td>B01HJ1INB0</td>\n",
       "      <td>{'Format:': ' Blu-ray'}</td>\n",
       "      <td>Amazon Customer</td>\n",
       "      <td>This recording of the 2015 production by the M...</td>\n",
       "      <td>Verdi's Take on Shakespear's Othello</td>\n",
       "    </tr>\n",
       "    <tr>\n",
       "      <th>2560767</th>\n",
       "      <td>4</td>\n",
       "      <td>False</td>\n",
       "      <td>2016-12-06</td>\n",
       "      <td>A2VWQXWF1GO2ZE</td>\n",
       "      <td>B01HJ1INB0</td>\n",
       "      <td>{'Format:': ' Blu-ray'}</td>\n",
       "      <td>Noam Eitan</td>\n",
       "      <td>I do not wish to write a review about this rel...</td>\n",
       "      <td>Voices on all MET video releases, broadcasts a...</td>\n",
       "    </tr>\n",
       "  </tbody>\n",
       "</table>\n",
       "<p>2560768 rows × 9 columns</p>\n",
       "</div>"
      ],
      "text/plain": [
       "         rating  verified reviewTime      reviewerID   productID  \\\n",
       "0             5      True 2012-11-09  A2M1CU2IRZG0K9  0005089549   \n",
       "1             5      True 2011-12-30   AFTUJYISOFHY6  0005089549   \n",
       "2             5      True 2005-04-21  A3JVF9Y53BEOGC  000503860X   \n",
       "3             5      True 2005-04-06  A12VPEOEZS1KTC  000503860X   \n",
       "4             5      True 2010-12-03   ATLZNVLYKP9AZ  000503860X   \n",
       "...         ...       ...        ...             ...         ...   \n",
       "2560763       5      True 2017-01-21   A2M39B5U8NBQM  B01HJ1INB0   \n",
       "2560764       5      True 2017-01-17   AW91VDERXXKGT  B01HJ1INB0   \n",
       "2560765       4      True 2017-01-01  A2MFARH7H7FSY1  B01HJ1INB0   \n",
       "2560766       5      True 2016-12-06   AY532XZ00UTKN  B01HJ1INB0   \n",
       "2560767       4     False 2016-12-06  A2VWQXWF1GO2ZE  B01HJ1INB0   \n",
       "\n",
       "                      productType            reviewerName  \\\n",
       "0        {'Format:': ' VHS Tape'}                   Terri   \n",
       "1        {'Format:': ' VHS Tape'}  Melissa D. Abercrombie   \n",
       "2             {'Format:': ' DVD'}        Anthony Thompson   \n",
       "3             {'Format:': ' DVD'}                JadeRain   \n",
       "4             {'Format:': ' DVD'}               T. Fisher   \n",
       "...                           ...                     ...   \n",
       "2560763       {'Format:': ' DVD'}          Steffi B. Rath   \n",
       "2560764       {'Format:': ' DVD'}            Incantessimo   \n",
       "2560765       {'Format:': ' DVD'}             Ali A. Diba   \n",
       "2560766   {'Format:': ' Blu-ray'}         Amazon Customer   \n",
       "2560767   {'Format:': ' Blu-ray'}              Noam Eitan   \n",
       "\n",
       "                                                reviewText  \\\n",
       "0        So sorry I didn't purchase this years ago when...   \n",
       "1        Believe me when I tell you that you will recei...   \n",
       "2        I have seen X live many times, both in the ear...   \n",
       "3        I was so excited for this!  Finally, a live co...   \n",
       "4        X is one of the best punk bands ever. I don't ...   \n",
       "...                                                    ...   \n",
       "2560763                              No problem whatsoever   \n",
       "2560764  This is a very, very good production of Verdi'...   \n",
       "2560765  The singing parts are very good as expected fr...   \n",
       "2560766  This recording of the 2015 production by the M...   \n",
       "2560767  I do not wish to write a review about this rel...   \n",
       "\n",
       "                                                   summary  \n",
       "0                                                 Amazing!  \n",
       "1                      Great Gospel VHS of the Cathedrals!  \n",
       "2                         A great document of a great band  \n",
       "3                                          YES!!  X LIVE!!  \n",
       "4                                      X have still got it  \n",
       "...                                                    ...  \n",
       "2560763                                         Five Stars  \n",
       "2560764  Great production, wonderful singing, bargain a...  \n",
       "2560765                                     Verdi's Otello  \n",
       "2560766               Verdi's Take on Shakespear's Othello  \n",
       "2560767  Voices on all MET video releases, broadcasts a...  \n",
       "\n",
       "[2560768 rows x 9 columns]"
      ]
     },
     "execution_count": 97,
     "metadata": {},
     "output_type": "execute_result"
    }
   ],
   "source": [
    "df"
   ]
  },
  {
   "cell_type": "code",
   "execution_count": 92,
   "id": "5be4b323",
   "metadata": {},
   "outputs": [
    {
     "data": {
      "image/png": "[encoded data removed]",
      "text/plain": [
       "<Figure size 432x576 with 1 Axes>"
      ]
     },
     "metadata": {
      "needs_background": "light"
     },
     "output_type": "display_data"
    }
   ],
   "source": [
    "plt.figure(figsize=(6,8))\n",
    "rating = df['rating'].value_counts()\n",
    "ax = rating.plot(kind='bar')\n",
    "for i,v in enumerate(rating):\n",
    "    ax.text(i-0.3, v+25000, str(v))\n",
    "plt.xlabel('Ratings')\n",
    "plt.ylabel('Number of ratings')\n",
    "plt.show()"
   ]
  },
  {
   "cell_type": "code",
   "execution_count": 96,
   "id": "0113f3b1",
   "metadata": {},
   "outputs": [
    {
     "data": {
      "image/png": "[encoded data removed]",
      "text/plain": [
       "<Figure size 432x576 with 1 Axes>"
      ]
     },
     "metadata": {
      "needs_background": "light"
     },
     "output_type": "display_data"
    }
   ],
   "source": [
    "plt.figure(figsize=(6,8))\n",
    "rating = df['verified'].value_counts()\n",
    "ax = rating.plot(kind='bar')\n",
    "for i,v in enumerate(rating):\n",
    "    ax.text(i-0.15, v+25000, str(v))\n",
    "plt.xlabel('Verified')\n",
    "plt.ylabel('Number of Users')\n",
    "plt.show()"
   ]
  },
  {
   "cell_type": "code",
   "execution_count": null,
   "id": "a871da22",
   "metadata": {},
   "outputs": [],
   "source": []
  }
 ],
 "metadata": {
  "kernelspec": {
   "display_name": "Python 3",
   "language": "python",
   "name": "python3"
  },
  "language_info": {
   "codemirror_mode": {
    "name": "ipython",
    "version": 3
   },
   "file_extension": ".py",
   "mimetype": "text/x-python",
   "name": "python",
   "nbconvert_exporter": "python",
   "pygments_lexer": "ipython3",
   "version": "3.8.8"
  }
 },
 "nbformat": 4,
 "nbformat_minor": 5
}
